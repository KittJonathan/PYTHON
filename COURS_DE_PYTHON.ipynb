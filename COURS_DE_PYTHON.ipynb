{
 "cells": [
  {
   "cell_type": "markdown",
   "id": "57167d7a-37ed-495d-aca8-06090a3f82fa",
   "metadata": {},
   "source": [
    "Prise de notes a partir du livre en ligne https://python.sdv.u-paris.fr/"
   ]
  },
  {
   "cell_type": "markdown",
   "id": "57d0b6b5-2c0b-4ecf-b8e2-ae23b9a95d25",
   "metadata": {},
   "source": [
    "# 1. Introduction"
   ]
  },
  {
   "cell_type": "code",
   "execution_count": 5,
   "id": "6b3f737f-5537-4c6d-963d-e9d73c570c33",
   "metadata": {},
   "outputs": [
    {
     "name": "stdout",
     "output_type": "stream",
     "text": [
      "Hello world!\n"
     ]
    }
   ],
   "source": [
    "print('Hello world!')"
   ]
  },
  {
   "cell_type": "code",
   "execution_count": 7,
   "id": "2675b588-bad2-4645-bed4-dde5b06fde9b",
   "metadata": {},
   "outputs": [
    {
     "data": {
      "text/plain": [
       "2"
      ]
     },
     "execution_count": 7,
     "metadata": {},
     "output_type": "execute_result"
    }
   ],
   "source": [
    "1 + 1"
   ]
  },
  {
   "cell_type": "code",
   "execution_count": 9,
   "id": "30ac9bd0-b3fa-4742-ba7b-543eeb4ba154",
   "metadata": {},
   "outputs": [
    {
     "data": {
      "text/plain": [
       "18"
      ]
     },
     "execution_count": 9,
     "metadata": {},
     "output_type": "execute_result"
    }
   ],
   "source": [
    "6*3"
   ]
  },
  {
   "cell_type": "code",
   "execution_count": 19,
   "id": "4dbec8a3-a9f7-4dbb-a7e3-913b9bb90090",
   "metadata": {},
   "outputs": [
    {
     "name": "stdout",
     "output_type": "stream",
     "text": [
      "Hello world!\n"
     ]
    }
   ],
   "source": [
    "%run test.py"
   ]
  },
  {
   "cell_type": "markdown",
   "id": "752d5693-63a9-4941-9d2d-08de5d3da792",
   "metadata": {},
   "source": [
    "# 2. Variables"
   ]
  }
 ],
 "metadata": {
  "kernelspec": {
   "display_name": "Python 3 (ipykernel)",
   "language": "python",
   "name": "python3"
  },
  "language_info": {
   "codemirror_mode": {
    "name": "ipython",
    "version": 3
   },
   "file_extension": ".py",
   "mimetype": "text/x-python",
   "name": "python",
   "nbconvert_exporter": "python",
   "pygments_lexer": "ipython3",
   "version": "3.12.4"
  }
 },
 "nbformat": 4,
 "nbformat_minor": 5
}
