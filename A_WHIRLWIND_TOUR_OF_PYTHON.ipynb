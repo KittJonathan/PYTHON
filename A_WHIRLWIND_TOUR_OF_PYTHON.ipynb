{
 "cells": [
  {
   "cell_type": "markdown",
   "id": "b903a71b-01c8-4427-b317-b946a7cc6e54",
   "metadata": {},
   "source": [
    "# Introduction"
   ]
  },
  {
   "cell_type": "code",
   "execution_count": null,
   "id": "e5ab7516-1984-4d01-adc1-4f3e18d893f0",
   "metadata": {},
   "outputs": [],
   "source": [
    "import  this"
   ]
  },
  {
   "cell_type": "markdown",
   "id": "ae2ec692-8b31-4321-95a2-25e2adf08ac7",
   "metadata": {},
   "source": [
    "# How to run Python code"
   ]
  },
  {
   "cell_type": "code",
   "execution_count": 1,
   "id": "42a64293-d9a1-4571-a885-b3308f3aa21b",
   "metadata": {},
   "outputs": [
    {
     "data": {
      "text/plain": [
       "2"
      ]
     },
     "execution_count": 1,
     "metadata": {},
     "output_type": "execute_result"
    }
   ],
   "source": [
    "1 + 1"
   ]
  },
  {
   "cell_type": "code",
   "execution_count": 3,
   "id": "923115d6-c133-41ed-a080-8ff9b074f4c9",
   "metadata": {},
   "outputs": [
    {
     "data": {
      "text/plain": [
       "15"
      ]
     },
     "execution_count": 3,
     "metadata": {},
     "output_type": "execute_result"
    }
   ],
   "source": [
    "x = 5\n",
    "x * 3"
   ]
  },
  {
   "cell_type": "code",
   "execution_count": 5,
   "id": "a897f747-7c49-4173-b553-850d5de60ad6",
   "metadata": {},
   "outputs": [
    {
     "name": "stdout",
     "output_type": "stream",
     "text": [
      "Running test.py\n",
      "Result is 15\n"
     ]
    }
   ],
   "source": [
    "%run test.py"
   ]
  },
  {
   "cell_type": "markdown",
   "id": "5810f5cd-7ade-46d7-abcb-5bb3bce61645",
   "metadata": {},
   "source": [
    "# Basic Python syntax"
   ]
  },
  {
   "cell_type": "code",
   "execution_count": 7,
   "id": "1dc961f3-09cf-46bb-945c-263365a7cf63",
   "metadata": {},
   "outputs": [
    {
     "name": "stdout",
     "output_type": "stream",
     "text": [
      "lower: [0, 1, 2, 3, 4]\n",
      "upper: [5, 6, 7, 8, 9]\n"
     ]
    }
   ],
   "source": [
    "# set the midpoint\n",
    "midpoint = 5\n",
    "\n",
    "# make two empty lists\n",
    "lower = []; upper = []\n",
    "\n",
    "# split the numbers into lower and upper\n",
    "for i in range(10):\n",
    "    if (i < midpoint):\n",
    "        lower.append(i)\n",
    "    else:\n",
    "        upper.append(i)\n",
    "\n",
    "print(\"lower:\", lower)\n",
    "print(\"upper:\", upper)"
   ]
  },
  {
   "cell_type": "markdown",
   "id": "bdf8274f-bce5-4b4d-ad02-3788ff62d093",
   "metadata": {},
   "source": [
    "## Comments are marked by '#'"
   ]
  },
  {
   "cell_type": "code",
   "execution_count": null,
   "id": "78a6365a-8e22-4b6b-a2b8-3280514075c1",
   "metadata": {},
   "outputs": [],
   "source": [
    "# set the midpoint"
   ]
  },
  {
   "cell_type": "code",
   "execution_count": 9,
   "id": "f4ef25d1-5baa-4b7a-bf68-43bcdda06259",
   "metadata": {},
   "outputs": [],
   "source": [
    "x += 2 # shorthand for x = x + 2"
   ]
  },
  {
   "cell_type": "code",
   "execution_count": 11,
   "id": "f0ff44c6-491b-4b37-890d-c30410ec8e6f",
   "metadata": {},
   "outputs": [
    {
     "name": "stdout",
     "output_type": "stream",
     "text": [
      "7\n"
     ]
    }
   ],
   "source": [
    "print(x)"
   ]
  },
  {
   "cell_type": "markdown",
   "id": "38b60015-efef-4353-8aac-704da434aef9",
   "metadata": {},
   "source": [
    "## End-of-line terminates a statement"
   ]
  },
  {
   "cell_type": "code",
   "execution_count": 13,
   "id": "2a2a254d-af79-4807-9a3a-0166c10b83a9",
   "metadata": {},
   "outputs": [],
   "source": [
    "midpoint = 5"
   ]
  },
  {
   "cell_type": "markdown",
   "id": "5c8be223-ee1b-4827-be86-4c2116140629",
   "metadata": {},
   "source": [
    "If we'd like a statement to continue to the next line, it is possible to use the '\\\\' marker :"
   ]
  },
  {
   "cell_type": "markdown",
   "id": "967757ce-4ab7-4b03-bc84-4bfc36bd663e",
   "metadata": {},
   "source": [
    "x = 1 + 2 + 3 + 4 +\\\n",
    "    5 + 6 + 7 + 8"
   ]
  },
  {
   "cell_type": "code",
   "execution_count": 17,
   "id": "6bf7e75d-f6c0-4a66-9a1c-54b2c55dd377",
   "metadata": {},
   "outputs": [
    {
     "name": "stdout",
     "output_type": "stream",
     "text": [
      "36\n"
     ]
    }
   ],
   "source": [
    "print(x)"
   ]
  },
  {
   "cell_type": "markdown",
   "id": "f92da7b5-f24a-40ff-a1da-cf7b9bb5fb15",
   "metadata": {},
   "source": [
    "It is also possible to continue expressions on the next line within parentheses, without using the '\\\\' marker :"
   ]
  },
  {
   "cell_type": "code",
   "execution_count": 19,
   "id": "0edb8516-c5aa-41b7-9816-714d6159f93d",
   "metadata": {},
   "outputs": [],
   "source": [
    "x = (1 + 2 + 3 + 4 +\n",
    "     5 + 6 + 7 + 8)"
   ]
  },
  {
   "cell_type": "code",
   "execution_count": 21,
   "id": "5c67a7b9-7556-4cc5-b3f4-2ab51e8f0fd8",
   "metadata": {},
   "outputs": [
    {
     "name": "stdout",
     "output_type": "stream",
     "text": [
      "36\n"
     ]
    }
   ],
   "source": [
    "print(x)"
   ]
  },
  {
   "cell_type": "markdown",
   "id": "03bfc527-bb97-48b1-84ad-eedd4e254c07",
   "metadata": {},
   "source": [
    "## Semicolon can optionally terminate a statement"
   ]
  },
  {
   "cell_type": "code",
   "execution_count": 24,
   "id": "65b36829-a8d4-4624-94a5-85da20a30664",
   "metadata": {},
   "outputs": [],
   "source": [
    "lower = []; upper = []"
   ]
  },
  {
   "cell_type": "code",
   "execution_count": 26,
   "id": "826f7fa0-fd72-413f-91d3-bb342d83fb86",
   "metadata": {},
   "outputs": [],
   "source": [
    "lower = []\n",
    "upper = []"
   ]
  },
  {
   "cell_type": "markdown",
   "id": "f3138b54-5a93-4939-8aa9-3bfdedb68749",
   "metadata": {},
   "source": [
    "## Indentation: whitespace matters!"
   ]
  },
  {
   "cell_type": "code",
   "execution_count": 29,
   "id": "4ccd7aa1-98e1-4c08-85f0-673975144a71",
   "metadata": {},
   "outputs": [],
   "source": [
    "for i in range(10):\n",
    "    if i < midpoint:\n",
    "        lower.append(i)\n",
    "    else:\n",
    "        upper.append(i)"
   ]
  },
  {
   "cell_type": "code",
   "execution_count": 31,
   "id": "ef7591b2-5b2a-4f36-8c6c-ac3197cb80d4",
   "metadata": {},
   "outputs": [
    {
     "name": "stdout",
     "output_type": "stream",
     "text": [
      "[0, 1, 2, 3, 4]\n",
      "[5, 6, 7, 8, 9]\n"
     ]
    }
   ],
   "source": [
    "print(lower)\n",
    "print(upper)"
   ]
  },
  {
   "cell_type": "markdown",
   "id": "ce59e820-3eaf-45af-9bf2-a33993d83fe3",
   "metadata": {},
   "source": [
    "## Whitespace within lines does not matter"
   ]
  },
  {
   "cell_type": "code",
   "execution_count": 38,
   "id": "0a8f52b2-98dd-44b0-8742-877d8ae65785",
   "metadata": {},
   "outputs": [],
   "source": [
    "x=1+2\n",
    "x = 1 + 2\n",
    "x         =      1           +             2"
   ]
  },
  {
   "cell_type": "code",
   "execution_count": 40,
   "id": "961b69a4-6415-4936-93dd-35e87532d493",
   "metadata": {},
   "outputs": [],
   "source": [
    "x = 10**-2\n",
    "x = 10 ** -2"
   ]
  },
  {
   "cell_type": "markdown",
   "id": "2d3b205d-9f11-416a-9d18-02fdf0e514cf",
   "metadata": {},
   "source": [
    "## Parentheses are for grouping or calling"
   ]
  },
  {
   "cell_type": "code",
   "execution_count": 43,
   "id": "4458ea9f-8b05-456d-b570-792c8e9130d6",
   "metadata": {},
   "outputs": [
    {
     "data": {
      "text/plain": [
       "14"
      ]
     },
     "execution_count": 43,
     "metadata": {},
     "output_type": "execute_result"
    }
   ],
   "source": [
    "2 * (3 + 4)"
   ]
  },
  {
   "cell_type": "code",
   "execution_count": 45,
   "id": "4cea5ee3-9048-4678-a2a8-a458c66f305d",
   "metadata": {},
   "outputs": [
    {
     "name": "stdout",
     "output_type": "stream",
     "text": [
      "first value: 1\n"
     ]
    }
   ],
   "source": [
    "print('first value:', 1)"
   ]
  },
  {
   "cell_type": "code",
   "execution_count": 47,
   "id": "25fd6295-899c-4b33-957b-01cf6a5b784b",
   "metadata": {},
   "outputs": [
    {
     "name": "stdout",
     "output_type": "stream",
     "text": [
      "second value: 2\n"
     ]
    }
   ],
   "source": [
    "print('second value:', 2)"
   ]
  },
  {
   "cell_type": "code",
   "execution_count": 49,
   "id": "bc075f81-6273-4139-bee2-1e2777521007",
   "metadata": {},
   "outputs": [
    {
     "name": "stdout",
     "output_type": "stream",
     "text": [
      "[1, 2, 3, 4]\n"
     ]
    }
   ],
   "source": [
    "L = [4, 2, 3, 1]\n",
    "L.sort()\n",
    "print(L)"
   ]
  },
  {
   "cell_type": "markdown",
   "id": "53ee2f2f-19e9-4baf-894f-524fff0855de",
   "metadata": {},
   "source": [
    "## Aside: a note on the print() function"
   ]
  },
  {
   "cell_type": "code",
   "execution_count": 57,
   "id": "ae90e77e-2d70-49b8-a9a7-ba9d4f10128a",
   "metadata": {},
   "outputs": [
    {
     "name": "stdout",
     "output_type": "stream",
     "text": [
      "first value: 1\n"
     ]
    }
   ],
   "source": [
    "#print \"first value:\", 1  # Python 2\n",
    "print(\"first value:\", 1)  # Python 3"
   ]
  },
  {
   "cell_type": "markdown",
   "id": "0c912f41-9e41-4fc0-9602-e50caaa8b7af",
   "metadata": {},
   "source": [
    "# Python semantics: variables"
   ]
  },
  {
   "cell_type": "markdown",
   "id": "6b057bdf-ab50-4862-a481-eff57638d1f8",
   "metadata": {},
   "source": [
    "## Python variables are pointers"
   ]
  },
  {
   "cell_type": "code",
   "execution_count": 60,
   "id": "becf82ab-bce2-4b80-a947-b4e93c860477",
   "metadata": {},
   "outputs": [],
   "source": [
    "# assign 4 to the variable x\n",
    "x = 4"
   ]
  },
  {
   "cell_type": "code",
   "execution_count": 62,
   "id": "98924d5d-26ca-4b6d-b998-cfc37c171bb6",
   "metadata": {},
   "outputs": [],
   "source": [
    "x = 1          # x is an integer\n",
    "x = 'hello'    # now x is a string\n",
    "x = [1, 2, 3]  # now x is a list"
   ]
  },
  {
   "cell_type": "code",
   "execution_count": 64,
   "id": "7fa933b7-2c28-44e5-891c-6f6f8456393c",
   "metadata": {},
   "outputs": [],
   "source": [
    "x = [1, 2, 3]\n",
    "y = x"
   ]
  },
  {
   "cell_type": "code",
   "execution_count": 66,
   "id": "0994e949-e5c9-416d-80f2-e24017316bd2",
   "metadata": {},
   "outputs": [
    {
     "name": "stdout",
     "output_type": "stream",
     "text": [
      "[1, 2, 3]\n"
     ]
    }
   ],
   "source": [
    "print(y)"
   ]
  },
  {
   "cell_type": "code",
   "execution_count": 68,
   "id": "1fb0ce2d-d99b-4fc4-8418-a0289b26e3f7",
   "metadata": {},
   "outputs": [
    {
     "name": "stdout",
     "output_type": "stream",
     "text": [
      "[1, 2, 3, 4]\n"
     ]
    }
   ],
   "source": [
    "x.append(4)  # append 4 to the list pointed to by x\n",
    "print(y)  # y's list is modified as well!"
   ]
  },
  {
   "cell_type": "code",
   "execution_count": 70,
   "id": "11f5d6a1-ceb5-4154-bb8b-8e63fe9dd3d7",
   "metadata": {},
   "outputs": [
    {
     "name": "stdout",
     "output_type": "stream",
     "text": [
      "[1, 2, 3, 4]\n"
     ]
    }
   ],
   "source": [
    "x = 'something else'\n",
    "print(y)  # y is unchanged"
   ]
  },
  {
   "cell_type": "code",
   "execution_count": 74,
   "id": "af54a810-74c8-43ed-bf4b-4e66c99b8d38",
   "metadata": {},
   "outputs": [
    {
     "name": "stdout",
     "output_type": "stream",
     "text": [
      "x =  15\n",
      "y =  10\n"
     ]
    }
   ],
   "source": [
    "x = 10\n",
    "y = x\n",
    "x += 5  # add 5 to x's value, and assign it to x\n",
    "print('x = ', x)\n",
    "print('y = ', y)"
   ]
  },
  {
   "cell_type": "markdown",
   "id": "6ebacc27-04a0-4935-9da1-fe95d1129249",
   "metadata": {},
   "source": [
    "## Everything is an object"
   ]
  },
  {
   "cell_type": "code",
   "execution_count": 78,
   "id": "739d1f59-84fb-4492-8e2f-1d8c940f6b51",
   "metadata": {},
   "outputs": [
    {
     "data": {
      "text/plain": [
       "int"
      ]
     },
     "execution_count": 78,
     "metadata": {},
     "output_type": "execute_result"
    }
   ],
   "source": [
    "x = 4\n",
    "type(x)"
   ]
  },
  {
   "cell_type": "code",
   "execution_count": 80,
   "id": "6ccce4e8-7a94-4acf-a679-e919f74454f9",
   "metadata": {},
   "outputs": [
    {
     "data": {
      "text/plain": [
       "str"
      ]
     },
     "execution_count": 80,
     "metadata": {},
     "output_type": "execute_result"
    }
   ],
   "source": [
    "x = 'hello'\n",
    "type(x)"
   ]
  },
  {
   "cell_type": "code",
   "execution_count": 82,
   "id": "3034e63b-1d9f-42a8-a752-1a28d6b0f81b",
   "metadata": {},
   "outputs": [
    {
     "data": {
      "text/plain": [
       "float"
      ]
     },
     "execution_count": 82,
     "metadata": {},
     "output_type": "execute_result"
    }
   ],
   "source": [
    "x = 3.15159\n",
    "type(x)"
   ]
  },
  {
   "cell_type": "code",
   "execution_count": 84,
   "id": "d91a4766-2e4c-488c-85d1-81719bd50865",
   "metadata": {},
   "outputs": [
    {
     "name": "stdout",
     "output_type": "stream",
     "text": [
      "[1, 2, 3, 100]\n"
     ]
    }
   ],
   "source": [
    "L = [1, 2, 3]\n",
    "L.append(100)\n",
    "print(L)"
   ]
  },
  {
   "cell_type": "code",
   "execution_count": 86,
   "id": "90897fc6-ca41-40af-8dcf-2ced90a6d2fb",
   "metadata": {},
   "outputs": [
    {
     "name": "stdout",
     "output_type": "stream",
     "text": [
      "4.5 + 0.0 i\n"
     ]
    }
   ],
   "source": [
    "x = 4.5\n",
    "print(x.real, \"+\", x.imag, 'i')"
   ]
  },
  {
   "cell_type": "code",
   "execution_count": 88,
   "id": "af030de5-53fa-479a-87d9-4030edbc71fd",
   "metadata": {},
   "outputs": [
    {
     "data": {
      "text/plain": [
       "False"
      ]
     },
     "execution_count": 88,
     "metadata": {},
     "output_type": "execute_result"
    }
   ],
   "source": [
    "x = 4.5\n",
    "x.is_integer()"
   ]
  },
  {
   "cell_type": "code",
   "execution_count": 90,
   "id": "6ed570d8-e4f0-4a65-a288-81f6e01b8f84",
   "metadata": {},
   "outputs": [
    {
     "data": {
      "text/plain": [
       "True"
      ]
     },
     "execution_count": 90,
     "metadata": {},
     "output_type": "execute_result"
    }
   ],
   "source": [
    "x = 4.0\n",
    "x.is_integer()"
   ]
  },
  {
   "cell_type": "code",
   "execution_count": 94,
   "id": "f09578f1-fa6a-4f23-b640-ac72e70d9d27",
   "metadata": {},
   "outputs": [
    {
     "data": {
      "text/plain": [
       "builtin_function_or_method"
      ]
     },
     "execution_count": 94,
     "metadata": {},
     "output_type": "execute_result"
    }
   ],
   "source": [
    "type(x.is_integer)"
   ]
  },
  {
   "cell_type": "markdown",
   "id": "2b86035c-a239-4f81-a0d9-c3deb92c52d5",
   "metadata": {},
   "source": [
    "# Python semantics: operators"
   ]
  },
  {
   "cell_type": "markdown",
   "id": "4e3ac991-f70f-4054-a8d9-65c4bf80891d",
   "metadata": {},
   "source": [
    "## Arithmetic operations"
   ]
  },
  {
   "cell_type": "code",
   "execution_count": 108,
   "id": "5c6ceeab-afed-46e7-88d0-2c16b6bca722",
   "metadata": {},
   "outputs": [
    {
     "name": "stdout",
     "output_type": "stream",
     "text": [
      "13\n",
      "9\n",
      "22\n",
      "5.5\n",
      "5\n",
      "1\n",
      "121\n"
     ]
    }
   ],
   "source": [
    "print(11 + 2)\n",
    "print(11 - 2)\n",
    "print(11 * 2)\n",
    "print(11 / 2)\n",
    "print(11 // 2)\n",
    "print(11 % 2)\n",
    "print(11 ** 2)"
   ]
  },
  {
   "cell_type": "markdown",
   "id": "8c690e12-9245-4e2e-b93d-199eea2a175a",
   "metadata": {},
   "source": [
    "## Bitwise operations"
   ]
  },
  {
   "cell_type": "code",
   "execution_count": 111,
   "id": "c227a594-c26a-4d8f-bf79-baf88b152dbf",
   "metadata": {},
   "outputs": [
    {
     "data": {
      "text/plain": [
       "'0b1010'"
      ]
     },
     "execution_count": 111,
     "metadata": {},
     "output_type": "execute_result"
    }
   ],
   "source": [
    "bin(10)"
   ]
  },
  {
   "cell_type": "code",
   "execution_count": 113,
   "id": "74c9521f-b5fd-4c34-a2cd-aa05f2583975",
   "metadata": {},
   "outputs": [
    {
     "data": {
      "text/plain": [
       "'0b100'"
      ]
     },
     "execution_count": 113,
     "metadata": {},
     "output_type": "execute_result"
    }
   ],
   "source": [
    "bin(4)"
   ]
  },
  {
   "cell_type": "code",
   "execution_count": 115,
   "id": "8a2db71a-1a91-43b5-ad81-a918a514f512",
   "metadata": {},
   "outputs": [
    {
     "data": {
      "text/plain": [
       "14"
      ]
     },
     "execution_count": 115,
     "metadata": {},
     "output_type": "execute_result"
    }
   ],
   "source": [
    "4 | 10"
   ]
  },
  {
   "cell_type": "code",
   "execution_count": 119,
   "id": "1b235154-b4b0-457f-a5a1-9b32e6a563f7",
   "metadata": {},
   "outputs": [
    {
     "data": {
      "text/plain": [
       "'0b1110'"
      ]
     },
     "execution_count": 119,
     "metadata": {},
     "output_type": "execute_result"
    }
   ],
   "source": [
    "bin(4 | 10)"
   ]
  },
  {
   "cell_type": "markdown",
   "id": "c16010fd-9887-4eba-8f9e-e89d552f8048",
   "metadata": {},
   "source": [
    "## Assignment operations"
   ]
  },
  {
   "cell_type": "code",
   "execution_count": 124,
   "id": "2af2db23-ac28-41df-a093-9a2d7735a978",
   "metadata": {},
   "outputs": [
    {
     "name": "stdout",
     "output_type": "stream",
     "text": [
      "24\n"
     ]
    }
   ],
   "source": [
    "a = 24\n",
    "print(a)"
   ]
  },
  {
   "cell_type": "code",
   "execution_count": 126,
   "id": "1f36392c-7d6f-46c8-9c63-ae73e224b1b3",
   "metadata": {},
   "outputs": [
    {
     "data": {
      "text/plain": [
       "26"
      ]
     },
     "execution_count": 126,
     "metadata": {},
     "output_type": "execute_result"
    }
   ],
   "source": [
    "a + 2"
   ]
  },
  {
   "cell_type": "code",
   "execution_count": 128,
   "id": "182929fd-d3c8-4ebe-bb7d-070ea341c796",
   "metadata": {},
   "outputs": [
    {
     "name": "stdout",
     "output_type": "stream",
     "text": [
      "26\n"
     ]
    }
   ],
   "source": [
    "a += 2  # equivalent to a = a + 2\n",
    "print(a)"
   ]
  },
  {
   "cell_type": "markdown",
   "id": "da1b6c3a-9790-4bbd-af72-cabdd0c1609d",
   "metadata": {},
   "source": [
    "## Comparison operations"
   ]
  },
  {
   "cell_type": "code",
   "execution_count": 131,
   "id": "95d2c972-6355-4c9b-98e9-414f5d3b08c0",
   "metadata": {},
   "outputs": [
    {
     "data": {
      "text/plain": [
       "True"
      ]
     },
     "execution_count": 131,
     "metadata": {},
     "output_type": "execute_result"
    }
   ],
   "source": [
    "# 25 is odd\n",
    "25 % 2 == 1"
   ]
  },
  {
   "cell_type": "code",
   "execution_count": 133,
   "id": "bc7e9b1b-3d30-4733-b6b7-1a4b4e87e511",
   "metadata": {},
   "outputs": [
    {
     "data": {
      "text/plain": [
       "False"
      ]
     },
     "execution_count": 133,
     "metadata": {},
     "output_type": "execute_result"
    }
   ],
   "source": [
    "# 66 is odd\n",
    "66 % 2 == 1"
   ]
  },
  {
   "cell_type": "code",
   "execution_count": 135,
   "id": "ccc3095b-f864-4b69-93c4-7cf90cd36b73",
   "metadata": {},
   "outputs": [
    {
     "data": {
      "text/plain": [
       "True"
      ]
     },
     "execution_count": 135,
     "metadata": {},
     "output_type": "execute_result"
    }
   ],
   "source": [
    "# check if a is between 15 and 30\n",
    "a = 25\n",
    "15 < a < 30"
   ]
  },
  {
   "cell_type": "code",
   "execution_count": 137,
   "id": "aa05c1fa-6d93-4acd-b050-ded00e3e3878",
   "metadata": {},
   "outputs": [
    {
     "data": {
      "text/plain": [
       "True"
      ]
     },
     "execution_count": 137,
     "metadata": {},
     "output_type": "execute_result"
    }
   ],
   "source": [
    "-1 == ~0  # '~' is the bit-flip operator"
   ]
  },
  {
   "cell_type": "markdown",
   "id": "d11a2a26-3278-4ddf-9f2f-e8a0b6c466ed",
   "metadata": {},
   "source": [
    "## Boolean operations"
   ]
  },
  {
   "cell_type": "code",
   "execution_count": 140,
   "id": "eecbd33c-abfe-432a-ba87-2df7b90a1166",
   "metadata": {},
   "outputs": [],
   "source": [
    "x = 4"
   ]
  },
  {
   "cell_type": "code",
   "execution_count": 146,
   "id": "e21f338e-11d9-4a1d-8d00-593b449d71e0",
   "metadata": {},
   "outputs": [
    {
     "data": {
      "text/plain": [
       "True"
      ]
     },
     "execution_count": 146,
     "metadata": {},
     "output_type": "execute_result"
    }
   ],
   "source": [
    "(x < 6) and (x > 2)"
   ]
  },
  {
   "cell_type": "code",
   "execution_count": 148,
   "id": "8f535650-511f-4511-82aa-147fafb6259c",
   "metadata": {},
   "outputs": [
    {
     "data": {
      "text/plain": [
       "True"
      ]
     },
     "execution_count": 148,
     "metadata": {},
     "output_type": "execute_result"
    }
   ],
   "source": [
    "(x > 10) or (x % 2 == 0)"
   ]
  },
  {
   "cell_type": "code",
   "execution_count": 150,
   "id": "4ee72b75-68e3-441d-9d8e-d2c592f7ba99",
   "metadata": {},
   "outputs": [
    {
     "data": {
      "text/plain": [
       "False"
      ]
     },
     "execution_count": 150,
     "metadata": {},
     "output_type": "execute_result"
    }
   ],
   "source": [
    "not (x < 6)"
   ]
  },
  {
   "cell_type": "code",
   "execution_count": 152,
   "id": "6448b9c0-f75d-47ae-be4b-2a10b4af1a1b",
   "metadata": {},
   "outputs": [
    {
     "data": {
      "text/plain": [
       "False"
      ]
     },
     "execution_count": 152,
     "metadata": {},
     "output_type": "execute_result"
    }
   ],
   "source": [
    "# (x > 1) xor (x < 10)\n",
    "(x > 1) != (x < 10)"
   ]
  },
  {
   "cell_type": "markdown",
   "id": "040a5b19-7943-4fb3-a8cc-063c5023786d",
   "metadata": {},
   "source": [
    "## Identity and membership operators"
   ]
  },
  {
   "cell_type": "markdown",
   "id": "82ff2316-3024-4ad8-8de5-504aa58323f2",
   "metadata": {},
   "source": [
    "### Identity operators: \"is\" and \"is not\""
   ]
  },
  {
   "cell_type": "code",
   "execution_count": 155,
   "id": "29f59a6b-c1f1-4428-ace0-7742ede88174",
   "metadata": {},
   "outputs": [],
   "source": [
    "a = [1, 2, 3]\n",
    "b = [1, 2, 3]"
   ]
  },
  {
   "cell_type": "code",
   "execution_count": 157,
   "id": "b7067e76-593f-4c87-a47e-ea0b981b2f10",
   "metadata": {},
   "outputs": [
    {
     "data": {
      "text/plain": [
       "True"
      ]
     },
     "execution_count": 157,
     "metadata": {},
     "output_type": "execute_result"
    }
   ],
   "source": [
    "a == b"
   ]
  },
  {
   "cell_type": "code",
   "execution_count": 159,
   "id": "6cadb1cc-a991-4265-aeca-6b156e074623",
   "metadata": {},
   "outputs": [
    {
     "data": {
      "text/plain": [
       "False"
      ]
     },
     "execution_count": 159,
     "metadata": {},
     "output_type": "execute_result"
    }
   ],
   "source": [
    "a is b"
   ]
  },
  {
   "cell_type": "code",
   "execution_count": 161,
   "id": "fe40d6cb-4f84-421e-9744-7ee6e97c4ef7",
   "metadata": {},
   "outputs": [
    {
     "data": {
      "text/plain": [
       "True"
      ]
     },
     "execution_count": 161,
     "metadata": {},
     "output_type": "execute_result"
    }
   ],
   "source": [
    "a is not b"
   ]
  },
  {
   "cell_type": "code",
   "execution_count": 163,
   "id": "d1874029-aa54-417c-888d-917b4d7e028c",
   "metadata": {},
   "outputs": [
    {
     "data": {
      "text/plain": [
       "True"
      ]
     },
     "execution_count": 163,
     "metadata": {},
     "output_type": "execute_result"
    }
   ],
   "source": [
    "a = [1, 2, 3]\n",
    "b = a\n",
    "a is b"
   ]
  },
  {
   "cell_type": "markdown",
   "id": "402f1ce3-b1fe-4872-a5f2-4db4bbca895c",
   "metadata": {},
   "source": [
    "### Membership operators"
   ]
  },
  {
   "cell_type": "code",
   "execution_count": 167,
   "id": "cc85afe2-f6e2-43d0-b426-1cb3c252970e",
   "metadata": {},
   "outputs": [
    {
     "data": {
      "text/plain": [
       "True"
      ]
     },
     "execution_count": 167,
     "metadata": {},
     "output_type": "execute_result"
    }
   ],
   "source": [
    "1 in [1, 2, 3]"
   ]
  },
  {
   "cell_type": "code",
   "execution_count": 169,
   "id": "0882dfe3-5b3a-423c-8456-d58356fac6e0",
   "metadata": {},
   "outputs": [
    {
     "data": {
      "text/plain": [
       "False"
      ]
     },
     "execution_count": 169,
     "metadata": {},
     "output_type": "execute_result"
    }
   ],
   "source": [
    "2 not in [1, 2, 3]"
   ]
  },
  {
   "cell_type": "markdown",
   "id": "416c2b61-e828-43a5-9332-6b41d5fcaa99",
   "metadata": {},
   "source": [
    "# Built-in scalar types"
   ]
  }
 ],
 "metadata": {
  "kernelspec": {
   "display_name": "Python 3 (ipykernel)",
   "language": "python",
   "name": "python3"
  },
  "language_info": {
   "codemirror_mode": {
    "name": "ipython",
    "version": 3
   },
   "file_extension": ".py",
   "mimetype": "text/x-python",
   "name": "python",
   "nbconvert_exporter": "python",
   "pygments_lexer": "ipython3",
   "version": "3.12.4"
  }
 },
 "nbformat": 4,
 "nbformat_minor": 5
}
