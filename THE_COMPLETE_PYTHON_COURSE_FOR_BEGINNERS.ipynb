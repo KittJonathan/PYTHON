{
 "cells": [
  {
   "cell_type": "markdown",
   "id": "007e7eb4-d158-4950-bb2f-d18a6990e144",
   "metadata": {},
   "source": [
    "# The complete Python course for beginners\n",
    "https://www.youtube.com/watch?v=sxTmJE4k0ho&t=4133s"
   ]
  },
  {
   "cell_type": "markdown",
   "id": "423c8b6b-e29d-429c-b0d2-bf1054498603",
   "metadata": {},
   "source": [
    "## Variables and data types\n",
    "\n",
    "There are 4 main data types :\n",
    "- integers (int) : 1, 5, 0, -1\n",
    "- strings (str) : 'hello', \"hello\", \"hello y'all\"\n",
    "- booleans : True, False\n",
    "- floats : 0.32, 1.232"
   ]
  },
  {
   "cell_type": "markdown",
   "id": "d91e0558-883d-494d-8a54-b97eb191829c",
   "metadata": {},
   "source": [
    "To create a variable :"
   ]
  },
  {
   "cell_type": "code",
   "execution_count": 11,
   "id": "65d4de6d-3e5b-439b-ad04-2558d1f29a61",
   "metadata": {},
   "outputs": [
    {
     "name": "stdout",
     "output_type": "stream",
     "text": [
      "Jo\n"
     ]
    }
   ],
   "source": [
    "name = 'Jo'\n",
    "print(name)"
   ]
  },
  {
   "cell_type": "code",
   "execution_count": 13,
   "id": "87688721-6552-4e49-b172-2fa28bfb50f2",
   "metadata": {},
   "outputs": [
    {
     "name": "stdout",
     "output_type": "stream",
     "text": [
      "Bob\n"
     ]
    }
   ],
   "source": [
    "name = 'Bob'\n",
    "print(name)"
   ]
  },
  {
   "cell_type": "code",
   "execution_count": 15,
   "id": "33eac983-7db7-4a8d-bd75-2f5d317dc2fe",
   "metadata": {},
   "outputs": [
    {
     "name": "stdout",
     "output_type": "stream",
     "text": [
      "39\n"
     ]
    }
   ],
   "source": [
    "age = 39\n",
    "print(age)"
   ]
  },
  {
   "cell_type": "markdown",
   "id": "2daf2fb0-ab3a-47a0-8e0e-6cb08e06a4b2",
   "metadata": {},
   "source": [
    "## Basic operators and inputs"
   ]
  }
 ],
 "metadata": {
  "kernelspec": {
   "display_name": "Python 3 (ipykernel)",
   "language": "python",
   "name": "python3"
  },
  "language_info": {
   "codemirror_mode": {
    "name": "ipython",
    "version": 3
   },
   "file_extension": ".py",
   "mimetype": "text/x-python",
   "name": "python",
   "nbconvert_exporter": "python",
   "pygments_lexer": "ipython3",
   "version": "3.12.4"
  }
 },
 "nbformat": 4,
 "nbformat_minor": 5
}
