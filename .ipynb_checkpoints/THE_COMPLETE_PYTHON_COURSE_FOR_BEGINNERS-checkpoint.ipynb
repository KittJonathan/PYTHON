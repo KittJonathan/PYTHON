{
 "cells": [
  {
   "cell_type": "markdown",
   "id": "007e7eb4-d158-4950-bb2f-d18a6990e144",
   "metadata": {},
   "source": [
    "# The complete Python course for beginners\n",
    "https://www.youtube.com/watch?v=sxTmJE4k0ho&t=4133s"
   ]
  },
  {
   "cell_type": "markdown",
   "id": "423c8b6b-e29d-429c-b0d2-bf1054498603",
   "metadata": {},
   "source": [
    "## Variables and data types"
   ]
  }
 ],
 "metadata": {
  "kernelspec": {
   "display_name": "Python 3 (ipykernel)",
   "language": "python",
   "name": "python3"
  },
  "language_info": {
   "codemirror_mode": {
    "name": "ipython",
    "version": 3
   },
   "file_extension": ".py",
   "mimetype": "text/x-python",
   "name": "python",
   "nbconvert_exporter": "python",
   "pygments_lexer": "ipython3",
   "version": "3.12.4"
  }
 },
 "nbformat": 4,
 "nbformat_minor": 5
}
