{
 "cells": [
  {
   "cell_type": "markdown",
   "id": "b4f66aba-08ce-49c9-9b3b-0efd1ab0aa7c",
   "metadata": {},
   "source": [
    "# Python as fast as possible\n",
    "\n",
    "Link to the video: [https://www.youtube.com/watch?v=VchuKL44s6E](https://www.youtube.com/watch?v=VchuKL44s6E]\n",
    "\n",
    "## Data types"
   ]
  },
  {
   "cell_type": "code",
   "execution_count": 5,
   "id": "6c0a9dfb-3c2b-473f-b2da-bc07052e004f",
   "metadata": {},
   "outputs": [
    {
     "data": {
      "text/plain": [
       "76373"
      ]
     },
     "execution_count": 5,
     "metadata": {},
     "output_type": "execute_result"
    }
   ],
   "source": [
    "# Integer\n",
    "-267236\n",
    "76373"
   ]
  },
  {
   "cell_type": "code",
   "execution_count": 9,
   "id": "b7bb41eb-e08f-47eb-b4d2-28908b44c0ad",
   "metadata": {},
   "outputs": [
    {
     "data": {
      "text/plain": [
       "-9.7"
      ]
     },
     "execution_count": 9,
     "metadata": {},
     "output_type": "execute_result"
    }
   ],
   "source": [
    "# Float\n",
    "2727.0\n",
    "-9.7"
   ]
  },
  {
   "cell_type": "code",
   "execution_count": 15,
   "id": "380edb77-94cf-4d46-a28b-2f86017dfa68",
   "metadata": {},
   "outputs": [
    {
     "data": {
      "text/plain": [
       "'4.6'"
      ]
     },
     "execution_count": 15,
     "metadata": {},
     "output_type": "execute_result"
    }
   ],
   "source": [
    "# String\n",
    "'hello'\n",
    "\"hello\"\n",
    "'hello\"'\n",
    "\"hello'\"\n",
    "'4.6'"
   ]
  },
  {
   "cell_type": "code",
   "execution_count": 17,
   "id": "b306cc1c-3801-4382-9deb-b27ccd0c12a1",
   "metadata": {},
   "outputs": [
    {
     "data": {
      "text/plain": [
       "False"
      ]
     },
     "execution_count": 17,
     "metadata": {},
     "output_type": "execute_result"
    }
   ],
   "source": [
    "# Booleans\n",
    "True\n",
    "False"
   ]
  },
  {
   "cell_type": "markdown",
   "id": "4758a66f-f20c-48bd-a960-4648f9416c5f",
   "metadata": {},
   "source": [
    "## Output and printing"
   ]
  },
  {
   "cell_type": "code",
   "execution_count": 19,
   "id": "6d1fe843-5a23-4bc7-aac1-d818dbbbd427",
   "metadata": {},
   "outputs": [
    {
     "name": "stdout",
     "output_type": "stream",
     "text": [
      "Hello world!\n"
     ]
    }
   ],
   "source": [
    "print('Hello world!')"
   ]
  },
  {
   "cell_type": "code",
   "execution_count": 21,
   "id": "1824a296-6261-40bd-bf24-4bcbb893c567",
   "metadata": {},
   "outputs": [
    {
     "name": "stdout",
     "output_type": "stream",
     "text": [
      "4.5\n"
     ]
    }
   ],
   "source": [
    "print(4.5)"
   ]
  },
  {
   "cell_type": "code",
   "execution_count": 23,
   "id": "a312b56b-55e7-40c7-8434-a9237ac589f2",
   "metadata": {},
   "outputs": [
    {
     "name": "stdout",
     "output_type": "stream",
     "text": [
      "Hello end 87 False\n"
     ]
    }
   ],
   "source": [
    "print('Hello', 'end', 87, False)"
   ]
  },
  {
   "cell_type": "code",
   "execution_count": 25,
   "id": "112a0bcc-8271-4914-8df8-88713432c259",
   "metadata": {},
   "outputs": [
    {
     "name": "stdout",
     "output_type": "stream",
     "text": [
      "Hello end 87 False\n",
      "Hello\n"
     ]
    }
   ],
   "source": [
    "print('Hello', 'end', 87, False, end = '\\n')  # default\n",
    "print('Hello')"
   ]
  },
  {
   "cell_type": "code",
   "execution_count": 27,
   "id": "a9e3b728-be0b-496d-9354-74f7a228de15",
   "metadata": {},
   "outputs": [
    {
     "name": "stdout",
     "output_type": "stream",
     "text": [
      "Hello end 87 False|Hello\n"
     ]
    }
   ],
   "source": [
    "print('Hello', 'end', 87, False, end = '|')\n",
    "print('Hello')"
   ]
  },
  {
   "cell_type": "markdown",
   "id": "b0f40de4-3629-4b24-9c1b-5a0ba030da93",
   "metadata": {},
   "source": [
    "## Variables"
   ]
  },
  {
   "cell_type": "code",
   "execution_count": 31,
   "id": "c878fae1-2532-46ce-a801-5f3e99283f56",
   "metadata": {},
   "outputs": [
    {
     "name": "stdout",
     "output_type": "stream",
     "text": [
      "jo world\n"
     ]
    }
   ],
   "source": [
    "hello = 'jo'\n",
    "world = 'world'\n",
    "\n",
    "print(hello, world)"
   ]
  },
  {
   "cell_type": "code",
   "execution_count": 34,
   "id": "ab7fbb29-11c9-46db-8432-9b286d4bce10",
   "metadata": {},
   "outputs": [
    {
     "name": "stdout",
     "output_type": "stream",
     "text": [
      "jo jo\n"
     ]
    }
   ],
   "source": [
    "hello = 'jo'\n",
    "world = 'world'\n",
    "world = hello\n",
    "\n",
    "print(hello, world)"
   ]
  },
  {
   "cell_type": "code",
   "execution_count": 36,
   "id": "285b11d9-61ea-4ec3-b708-ad35a98f916a",
   "metadata": {},
   "outputs": [
    {
     "name": "stdout",
     "output_type": "stream",
     "text": [
      "no jo\n"
     ]
    }
   ],
   "source": [
    "hello = 'jo'\n",
    "world = 'world'\n",
    "world = hello\n",
    "hello = 'no'\n",
    "\n",
    "print(hello, world)"
   ]
  },
  {
   "cell_type": "markdown",
   "id": "a64f634e-119c-4537-8704-e1b5e4c6eae5",
   "metadata": {},
   "source": [
    "## Input"
   ]
  },
  {
   "cell_type": "code",
   "execution_count": 39,
   "id": "7211f552-6136-4165-8445-9bf398628712",
   "metadata": {},
   "outputs": [
    {
     "name": "stdin",
     "output_type": "stream",
     "text": [
      "Name:  Jo\n"
     ]
    },
    {
     "name": "stdout",
     "output_type": "stream",
     "text": [
      "Jo\n"
     ]
    }
   ],
   "source": [
    "name = input('Name: ')\n",
    "print(name)"
   ]
  },
  {
   "cell_type": "code",
   "execution_count": 41,
   "id": "986add7f-925a-4852-a28b-023dfa103924",
   "metadata": {},
   "outputs": [
    {
     "name": "stdin",
     "output_type": "stream",
     "text": [
      "Name:  Jo\n",
      "Age:  39\n"
     ]
    }
   ],
   "source": [
    "name = input('Name: ')\n",
    "age = input('Age: ')"
   ]
  },
  {
   "cell_type": "code",
   "execution_count": 43,
   "id": "3562b25e-c4e6-4334-85f5-b47c4894b338",
   "metadata": {},
   "outputs": [
    {
     "name": "stdin",
     "output_type": "stream",
     "text": [
      "Name:  Jo\n",
      "Age:  39\n"
     ]
    },
    {
     "name": "stdout",
     "output_type": "stream",
     "text": [
      "Hello Jo you are 39 years old\n"
     ]
    }
   ],
   "source": [
    "name = input('Name: ')\n",
    "age = input('Age: ')\n",
    "print('Hello', name, 'you are', age, 'years old')"
   ]
  },
  {
   "cell_type": "markdown",
   "id": "105bc6eb-e4aa-40e3-85ca-ce477bc77171",
   "metadata": {},
   "source": [
    "## Arithmetic operators"
   ]
  },
  {
   "cell_type": "code",
   "execution_count": 55,
   "id": "dc5cf28e-01c5-4128-af2c-f5408db7ed2d",
   "metadata": {},
   "outputs": [
    {
     "name": "stdout",
     "output_type": "stream",
     "text": [
      "12\n",
      "6\n",
      "27\n",
      "3.0\n",
      "3\n",
      "729\n"
     ]
    }
   ],
   "source": [
    "x = 9\n",
    "y = 3\n",
    "print(x + y)\n",
    "print(x - y)\n",
    "print(x * y)\n",
    "print(x / y)\n",
    "print(int(x / y))\n",
    "print(x ** y)"
   ]
  },
  {
   "cell_type": "code",
   "execution_count": 71,
   "id": "86e02c22-a733-47cd-bb5a-1295dd7881da",
   "metadata": {},
   "outputs": [
    {
     "name": "stdout",
     "output_type": "stream",
     "text": [
      "3\n",
      "1\n",
      "10 / 3  =  3 * 3  +  1\n"
     ]
    }
   ],
   "source": [
    "x = 10\n",
    "y = 3\n",
    "print(x // y)\n",
    "print(x % y)\n",
    "print(x, '/', y, ' = ', y, '*', x//y, ' + ', x%y) "
   ]
  },
  {
   "cell_type": "code",
   "execution_count": 75,
   "id": "9b9afa62-ed9d-441c-bd50-c7f4fec2b658",
   "metadata": {},
   "outputs": [
    {
     "name": "stdin",
     "output_type": "stream",
     "text": [
      "Number : 10\n"
     ]
    },
    {
     "name": "stdout",
     "output_type": "stream",
     "text": [
      "5\n"
     ]
    }
   ],
   "source": [
    "num = input('Number :')  # default -> str\n",
    "print(int(num) - 5)"
   ]
  },
  {
   "cell_type": "markdown",
   "id": "48ca7768-4aad-4e9e-ba7e-857feec2653b",
   "metadata": {},
   "source": [
    "## String methods"
   ]
  },
  {
   "cell_type": "code",
   "execution_count": 77,
   "id": "981324e9-9dfe-4f56-b02f-a1e1d1404347",
   "metadata": {},
   "outputs": [
    {
     "name": "stdout",
     "output_type": "stream",
     "text": [
      "<class 'str'>\n"
     ]
    }
   ],
   "source": [
    "hello = 'hello'\n",
    "print(type(hello))"
   ]
  },
  {
   "cell_type": "code",
   "execution_count": 79,
   "id": "05bc341b-6f86-4cbd-a053-2f787bbf4628",
   "metadata": {},
   "outputs": [
    {
     "name": "stdout",
     "output_type": "stream",
     "text": [
      "HELLO\n"
     ]
    }
   ],
   "source": [
    "hello = 'hello'.upper()\n",
    "print(hello)"
   ]
  },
  {
   "cell_type": "code",
   "execution_count": 83,
   "id": "8d5768e9-2cd4-426e-9f1d-09e621f31134",
   "metadata": {},
   "outputs": [
    {
     "name": "stdout",
     "output_type": "stream",
     "text": [
      "HELLO\n"
     ]
    }
   ],
   "source": [
    "hello = 'hello'\n",
    "print(hello.upper())"
   ]
  },
  {
   "cell_type": "code",
   "execution_count": 97,
   "id": "2a8c2aed-517e-44db-b36b-5695eeaec860",
   "metadata": {},
   "outputs": [
    {
     "name": "stdout",
     "output_type": "stream",
     "text": [
      "hello world\n",
      "Hello world\n",
      "0\n",
      "1\n"
     ]
    }
   ],
   "source": [
    "hello = 'heLLO World'\n",
    "print(hello.lower())\n",
    "print(hello.capitalize())\n",
    "print(hello.count('ll'))\n",
    "print(hello.lower().count('ll'))"
   ]
  },
  {
   "cell_type": "code",
   "execution_count": 106,
   "id": "79e13b87-f812-443e-b59e-75f3d803e566",
   "metadata": {},
   "outputs": [
    {
     "name": "stdout",
     "output_type": "stream",
     "text": [
      "hellohellohello\n"
     ]
    }
   ],
   "source": [
    "x = 'hello'\n",
    "y = 3\n",
    "print(x * y)"
   ]
  },
  {
   "cell_type": "code",
   "execution_count": 108,
   "id": "a1b35e83-7a28-42ab-b58f-f97e347f9b08",
   "metadata": {},
   "outputs": [
    {
     "name": "stdout",
     "output_type": "stream",
     "text": [
      "helloyou\n"
     ]
    }
   ],
   "source": [
    "x = 'hello'\n",
    "y = 'you'\n",
    "print(x + y)"
   ]
  },
  {
   "cell_type": "markdown",
   "id": "e19a0162-40e3-4bc6-b839-23201d558b1e",
   "metadata": {},
   "source": [
    "## Conditional operators"
   ]
  },
  {
   "cell_type": "code",
   "execution_count": 112,
   "id": "23676df1-937f-42d4-81a8-3f9f2652c796",
   "metadata": {},
   "outputs": [
    {
     "name": "stdout",
     "output_type": "stream",
     "text": [
      "True\n",
      "False\n"
     ]
    }
   ],
   "source": [
    "x = 'hello'\n",
    "y = 'hello'\n",
    "print(x == y)\n",
    "print(x != y)"
   ]
  },
  {
   "cell_type": "code",
   "execution_count": 118,
   "id": "3a67f14b-0b0a-4d9e-a0ea-8abd7bf80094",
   "metadata": {},
   "outputs": [
    {
     "name": "stdout",
     "output_type": "stream",
     "text": [
      "True\n",
      "97 90\n"
     ]
    }
   ],
   "source": [
    "print('a' > 'Z')\n",
    "print(ord('a'), ord('Z'))"
   ]
  },
  {
   "cell_type": "code",
   "execution_count": 122,
   "id": "29e346f5-937e-4f96-a425-b4c3a95bfd52",
   "metadata": {},
   "outputs": [
    {
     "name": "stdout",
     "output_type": "stream",
     "text": [
      "False\n",
      "97 98\n"
     ]
    }
   ],
   "source": [
    "print('a' > 'b')\n",
    "print(ord('a'), ord('b'))"
   ]
  },
  {
   "cell_type": "code",
   "execution_count": 130,
   "id": "a0b293da-2f96-47b1-aaa8-d4e006884499",
   "metadata": {},
   "outputs": [
    {
     "name": "stdout",
     "output_type": "stream",
     "text": [
      "False\n",
      "98 100\n"
     ]
    }
   ],
   "source": [
    "print('ab' > 'ad')\n",
    "print(ord('b'), ord('d'))"
   ]
  },
  {
   "cell_type": "code",
   "execution_count": 134,
   "id": "32cc6969-0d7e-4e1f-81f9-d53264222e94",
   "metadata": {},
   "outputs": [
    {
     "name": "stdout",
     "output_type": "stream",
     "text": [
      "False\n",
      "True\n",
      "True\n"
     ]
    }
   ],
   "source": [
    "print(7.5 == 7)\n",
    "print(7.5 > 7)\n",
    "print(7.0 == 7)"
   ]
  },
  {
   "cell_type": "code",
   "execution_count": 136,
   "id": "55c784af-5b79-4c73-94a4-2aec158e2a93",
   "metadata": {},
   "outputs": [
    {
     "name": "stdout",
     "output_type": "stream",
     "text": [
      "True\n"
     ]
    }
   ],
   "source": [
    "result = 6 == 6\n",
    "print(result)"
   ]
  },
  {
   "cell_type": "markdown",
   "id": "1f37c9a1-5143-498f-bae5-73892183a540",
   "metadata": {},
   "source": [
    "## Chained conditionals"
   ]
  },
  {
   "cell_type": "code",
   "execution_count": 145,
   "id": "a98f6298-9057-4e2d-b103-563c4f8d2063",
   "metadata": {},
   "outputs": [
    {
     "name": "stdout",
     "output_type": "stream",
     "text": [
      "True\n",
      "True\n",
      "False\n"
     ]
    }
   ],
   "source": [
    "x = 7\n",
    "y = 8\n",
    "z = 0\n",
    "\n",
    "result1 = x == y\n",
    "result2 = y > x\n",
    "result3 = z - 2 < x +2\n",
    "\n",
    "result4 = result1 or result2 or result3\n",
    "print(result4)\n",
    "\n",
    "result4 = result1 or not result2 or result3\n",
    "print(result4)\n",
    "\n",
    "print(not(False or True))  # order : not -> and -> or"
   ]
  },
  {
   "cell_type": "markdown",
   "id": "9925acbd-eeb3-4a28-85d8-14070f17b78a",
   "metadata": {},
   "source": [
    "## If/Else/Elif"
   ]
  },
  {
   "cell_type": "code",
   "execution_count": 152,
   "id": "349ab3f3-d538-49d2-ae9f-32a212af8f9a",
   "metadata": {},
   "outputs": [
    {
     "name": "stdin",
     "output_type": "stream",
     "text": [
      "Name:  Jo\n"
     ]
    },
    {
     "name": "stdout",
     "output_type": "stream",
     "text": [
      "You are great\n",
      "\n",
      "Always do this\n"
     ]
    }
   ],
   "source": [
    "x = input('Name: ')\n",
    "\n",
    "if x == 'Jo':\n",
    "    print('You are great')\n",
    "    print()\n",
    "\n",
    "print('Always do this')"
   ]
  },
  {
   "cell_type": "code",
   "execution_count": 158,
   "id": "497f8e8c-141d-4ab7-9dc8-3d8199c65ed6",
   "metadata": {},
   "outputs": [
    {
     "name": "stdin",
     "output_type": "stream",
     "text": [
      "Name:  Joe\n"
     ]
    },
    {
     "name": "stdout",
     "output_type": "stream",
     "text": [
      "No\n"
     ]
    }
   ],
   "source": [
    "x = input('Name: ')\n",
    "\n",
    "if x == 'Jo':\n",
    "    print('You are great')\n",
    "else:\n",
    "    print('No')"
   ]
  },
  {
   "cell_type": "code",
   "execution_count": 164,
   "id": "f8219589-e255-4a04-8a8e-4957a94dddd9",
   "metadata": {},
   "outputs": [
    {
     "name": "stdin",
     "output_type": "stream",
     "text": [
      "Name:  Truc\n"
     ]
    },
    {
     "name": "stdout",
     "output_type": "stream",
     "text": [
      "No\n"
     ]
    }
   ],
   "source": [
    "x = input('Name: ')\n",
    "\n",
    "if x == 'Jo':\n",
    "    print('You are great!')\n",
    "elif x == 'Tim':\n",
    "    print('Bye Tim')\n",
    "else:\n",
    "    print('No')"
   ]
  },
  {
   "cell_type": "code",
   "execution_count": null,
   "id": "e9ca71dc-0594-4ea8-b433-812f7723e06a",
   "metadata": {},
   "outputs": [],
   "source": [
    "x = input('Name: ')\n",
    "\n",
    "if x == 'Jo':\n",
    "    print('You are great!')\n",
    "elif x == 'Tim':\n",
    "    print('Bye Tim')"
   ]
  },
  {
   "cell_type": "code",
   "execution_count": null,
   "id": "1634b59b-e403-4c30-9a57-ea7b17a597f3",
   "metadata": {},
   "outputs": [],
   "source": [
    "x = input('Name: ')\n",
    "\n",
    "if x == 'Jo':\n",
    "    print('You are great!')\n",
    "elif x == 'Tim':\n",
    "    print('Bye Tim')\n",
    "elif x == 'Sarah':\n",
    "    print('Random')"
   ]
  },
  {
   "cell_type": "markdown",
   "id": "9e9edaf4-a70f-467a-be79-343530501671",
   "metadata": {},
   "source": [
    "## Lists"
   ]
  },
  {
   "cell_type": "code",
   "execution_count": 1,
   "id": "2c0434f8-5029-4025-8c03-053e9d08c107",
   "metadata": {},
   "outputs": [
    {
     "name": "stdout",
     "output_type": "stream",
     "text": [
      "3\n"
     ]
    }
   ],
   "source": [
    "x = [4, True, 'hi']\n",
    "print(len(x))"
   ]
  },
  {
   "cell_type": "code",
   "execution_count": 3,
   "id": "a4cc8333-ed3c-4a95-b8a9-b931888b7c32",
   "metadata": {},
   "outputs": [
    {
     "name": "stdout",
     "output_type": "stream",
     "text": [
      "[4, True, 'hi', 'hello']\n"
     ]
    }
   ],
   "source": [
    "x.append('hello')\n",
    "print(x)"
   ]
  },
  {
   "cell_type": "code",
   "execution_count": 5,
   "id": "b907d9e0-c23b-4acd-b8ce-58a5e0cdd6ac",
   "metadata": {},
   "outputs": [
    {
     "name": "stdout",
     "output_type": "stream",
     "text": [
      "[4, True, 'hi', 'hello', 4, 5, 5, 5, 5, 5]\n"
     ]
    }
   ],
   "source": [
    "x.extend([4, 5, 5, 5, 5, 5])\n",
    "print(x)"
   ]
  },
  {
   "cell_type": "code",
   "execution_count": 13,
   "id": "132c3a22-9110-4c62-b6bc-af3939093fe6",
   "metadata": {},
   "outputs": [
    {
     "name": "stdout",
     "output_type": "stream",
     "text": [
      "hi\n",
      "[4, True]\n"
     ]
    }
   ],
   "source": [
    "x = [4, True, 'hi']\n",
    "print(x.pop())\n",
    "print(x)"
   ]
  },
  {
   "cell_type": "code",
   "execution_count": 15,
   "id": "f4d4d910-93c9-419a-a82f-f373929ae376",
   "metadata": {},
   "outputs": [
    {
     "name": "stdout",
     "output_type": "stream",
     "text": [
      "4\n",
      "[True, 'hi']\n"
     ]
    }
   ],
   "source": [
    "x = [4, True, 'hi']\n",
    "print(x.pop(0))\n",
    "print(x)"
   ]
  },
  {
   "cell_type": "code",
   "execution_count": 17,
   "id": "3d3f3238-0607-49fe-9e47-2763e0303ad9",
   "metadata": {},
   "outputs": [
    {
     "name": "stdout",
     "output_type": "stream",
     "text": [
      "True\n"
     ]
    }
   ],
   "source": [
    "x = [4, True, 'hi']\n",
    "print(x[1])"
   ]
  },
  {
   "cell_type": "code",
   "execution_count": 21,
   "id": "f0a5a8d9-61ce-4e29-a580-0f0dbad26935",
   "metadata": {},
   "outputs": [
    {
     "name": "stdout",
     "output_type": "stream",
     "text": [
      "['hello', True, 'hi']\n"
     ]
    }
   ],
   "source": [
    "x = [4, True, 'hi']\n",
    "x[0] = 'hello'\n",
    "print(x)"
   ]
  },
  {
   "cell_type": "code",
   "execution_count": 23,
   "id": "f7b93bc8-1ac2-49ce-9810-aacac9292ed1",
   "metadata": {},
   "outputs": [
    {
     "name": "stdout",
     "output_type": "stream",
     "text": [
      "['hello', True, 'hi'] ['hello', True, 'hi']\n"
     ]
    }
   ],
   "source": [
    "x = [4, True, 'hi']\n",
    "y = x\n",
    "x[0] = 'hello'\n",
    "print(x, y)"
   ]
  },
  {
   "cell_type": "code",
   "execution_count": 25,
   "id": "22f59760-c60f-44c7-afba-be61f4e42902",
   "metadata": {},
   "outputs": [
    {
     "name": "stdout",
     "output_type": "stream",
     "text": [
      "['hello', True, 'hi'] [4, True, 'hi']\n"
     ]
    }
   ],
   "source": [
    "x = [4, True, 'hi']\n",
    "y = x[:]\n",
    "x[0] = 'hello'\n",
    "print(x, y)"
   ]
  },
  {
   "cell_type": "markdown",
   "id": "9b5e3f15-d088-4224-b4cb-e5e7c4b72ee7",
   "metadata": {},
   "source": [
    "## Tuples"
   ]
  },
  {
   "cell_type": "code",
   "execution_count": 1,
   "id": "3b3c6ad0-4c30-4b46-80c6-d1bf6494fc2f",
   "metadata": {},
   "outputs": [
    {
     "name": "stdout",
     "output_type": "stream",
     "text": [
      "<class 'tuple'>\n",
      "0\n"
     ]
    }
   ],
   "source": [
    "x = (0, 0, 2, 2)\n",
    "print(type(x))\n",
    "print(x[0])"
   ]
  },
  {
   "cell_type": "code",
   "execution_count": 3,
   "id": "9aed32b4-6539-46c5-91fa-dc0a5c42c28b",
   "metadata": {},
   "outputs": [
    {
     "ename": "TypeError",
     "evalue": "'tuple' object does not support item assignment",
     "output_type": "error",
     "traceback": [
      "\u001b[1;31m---------------------------------------------------------------------------\u001b[0m",
      "\u001b[1;31mTypeError\u001b[0m                                 Traceback (most recent call last)",
      "Cell \u001b[1;32mIn[3], line 1\u001b[0m\n\u001b[1;32m----> 1\u001b[0m \u001b[43mx\u001b[49m\u001b[43m[\u001b[49m\u001b[38;5;241;43m0\u001b[39;49m\u001b[43m]\u001b[49m \u001b[38;5;241m=\u001b[39m \u001b[38;5;241m5\u001b[39m\n",
      "\u001b[1;31mTypeError\u001b[0m: 'tuple' object does not support item assignment"
     ]
    }
   ],
   "source": [
    "x[0] = 5"
   ]
  },
  {
   "cell_type": "markdown",
   "id": "e25b0638-1c13-46fc-adbd-8c3e05eb389e",
   "metadata": {},
   "source": [
    "## For loops"
   ]
  },
  {
   "cell_type": "code",
   "execution_count": 5,
   "id": "cc339f37-5032-4758-aac2-30c3b4563ae3",
   "metadata": {},
   "outputs": [
    {
     "name": "stdout",
     "output_type": "stream",
     "text": [
      "0\n",
      "1\n",
      "2\n",
      "3\n",
      "4\n",
      "5\n",
      "6\n",
      "7\n",
      "8\n",
      "9\n"
     ]
    }
   ],
   "source": [
    "for i in range(10):\n",
    "    print(i)"
   ]
  },
  {
   "cell_type": "code",
   "execution_count": 7,
   "id": "da1ca83e-d094-4a82-9787-b2b167ea6368",
   "metadata": {},
   "outputs": [
    {
     "name": "stdout",
     "output_type": "stream",
     "text": [
      "1\n",
      "2\n",
      "3\n",
      "4\n",
      "5\n",
      "6\n",
      "7\n",
      "8\n",
      "9\n"
     ]
    }
   ],
   "source": [
    "for i in range(1, 10):\n",
    "    print(i)"
   ]
  },
  {
   "cell_type": "code",
   "execution_count": 9,
   "id": "2e071cb7-f61d-4271-b9d2-5bdd5b0204f5",
   "metadata": {},
   "outputs": [
    {
     "name": "stdout",
     "output_type": "stream",
     "text": [
      "10\n",
      "9\n",
      "8\n",
      "7\n",
      "6\n",
      "5\n",
      "4\n",
      "3\n",
      "2\n",
      "1\n",
      "0\n"
     ]
    }
   ],
   "source": [
    "for i in range(10, -1, -1):\n",
    "    print(i)"
   ]
  },
  {
   "cell_type": "code",
   "execution_count": 11,
   "id": "828513f6-6796-47cf-94b8-8d334377d33a",
   "metadata": {},
   "outputs": [
    {
     "name": "stdout",
     "output_type": "stream",
     "text": [
      "3\n",
      "4\n",
      "42\n",
      "3\n",
      "2\n",
      "4\n"
     ]
    }
   ],
   "source": [
    "for i in [3, 4, 42, 3, 2, 4]:\n",
    "    print(i)"
   ]
  },
  {
   "cell_type": "code",
   "execution_count": 17,
   "id": "fea30657-b353-4cdb-8ae3-0ca7927f7c0b",
   "metadata": {},
   "outputs": [
    {
     "name": "stdout",
     "output_type": "stream",
     "text": [
      "3\n",
      "4\n",
      "42\n",
      "3\n",
      "2\n",
      "4\n",
      "0 3\n",
      "1 4\n",
      "2 42\n",
      "3 3\n",
      "4 2\n",
      "5 4\n"
     ]
    }
   ],
   "source": [
    "x = [3, 4, 42, 3, 2, 4]\n",
    "\n",
    "for i in range(len(x)):\n",
    "    print(x[i])\n",
    "\n",
    "for i, element in enumerate(x):\n",
    "    print(i, element)"
   ]
  },
  {
   "cell_type": "markdown",
   "id": "1bc12961-bd00-4600-b6d4-1d264a80090c",
   "metadata": {},
   "source": [
    "## While loops"
   ]
  },
  {
   "cell_type": "code",
   "execution_count": 20,
   "id": "249c1333-210e-4cc0-80e0-e74e88891e36",
   "metadata": {},
   "outputs": [
    {
     "name": "stdout",
     "output_type": "stream",
     "text": [
      "run\n",
      "run\n",
      "run\n",
      "run\n",
      "run\n",
      "run\n",
      "run\n",
      "run\n",
      "run\n",
      "run\n"
     ]
    }
   ],
   "source": [
    "i = 0\n",
    "while i < 10:\n",
    "    print('run')\n",
    "    i += 1"
   ]
  },
  {
   "cell_type": "code",
   "execution_count": 22,
   "id": "396338ef-813d-42e4-815d-abf2bcd9a1ab",
   "metadata": {},
   "outputs": [
    {
     "name": "stdout",
     "output_type": "stream",
     "text": [
      "run\n",
      "run\n",
      "run\n",
      "run\n",
      "run\n",
      "run\n",
      "run\n",
      "run\n",
      "run\n",
      "run\n"
     ]
    }
   ],
   "source": [
    "i = 0\n",
    "while True:\n",
    "    print('run')\n",
    "    i += 1\n",
    "    if i == 10:\n",
    "        break"
   ]
  },
  {
   "cell_type": "markdown",
   "id": "10fcc7cc-53a1-4646-b7ef-d8d18d435158",
   "metadata": {},
   "source": [
    "## Slice operator"
   ]
  },
  {
   "cell_type": "code",
   "execution_count": 47,
   "id": "88190405-1802-4513-8227-d90068b84d0d",
   "metadata": {},
   "outputs": [
    {
     "name": "stdout",
     "output_type": "stream",
     "text": [
      "[0, 2]\n",
      "[0, 1, 2, 3, 4, 5, 6, 7, 8]\n",
      "[0, 2, 4, 6, 8]\n",
      "[0, 1]\n",
      "[4, 3]\n",
      "[8, 7, 6, 5, 4, 3, 2, 1, 0]\n",
      "olleh\n",
      "hlo\n",
      "(1, 3, 4, 2)\n"
     ]
    }
   ],
   "source": [
    "x = [0, 1, 2, 3, 4, 5, 6, 7, 8]\n",
    "y = ['hi', 'hello', 'goodbye', 'cya', 'sure']\n",
    "s = \"hello\"\n",
    "\n",
    "sliced = x[0:4:2]\n",
    "print(sliced)\n",
    "\n",
    "print(x[0::])\n",
    "print(x[0::2])\n",
    "print(x[:2:])\n",
    "print(x[4:2:-1])\n",
    "\n",
    "print(x[::-1])\n",
    "\n",
    "print(s[::-1])\n",
    "print(s[::2])\n",
    "\n",
    "sliced = (1, 2, 3, 4, 4, 2, 2, 1)[::2]\n",
    "print(sliced)"
   ]
  },
  {
   "cell_type": "markdown",
   "id": "c6050525-8744-4116-a6e1-d6c4fe0f4f39",
   "metadata": {},
   "source": [
    "## Sets"
   ]
  },
  {
   "cell_type": "code",
   "execution_count": 1,
   "id": "12320d34-32e6-4f56-b637-406f6d44a14a",
   "metadata": {},
   "outputs": [
    {
     "name": "stdout",
     "output_type": "stream",
     "text": [
      "{32, 2, 4}\n"
     ]
    }
   ],
   "source": [
    "x = set()\n",
    "s = {4, 32, 2, 2}\n",
    "print(s)"
   ]
  },
  {
   "cell_type": "code",
   "execution_count": 3,
   "id": "47e2da23-0960-4603-a76e-715bf71731e5",
   "metadata": {},
   "outputs": [
    {
     "name": "stdout",
     "output_type": "stream",
     "text": [
      "{32, 2, 4, 5}\n"
     ]
    }
   ],
   "source": [
    "s.add(5)\n",
    "print(s)"
   ]
  },
  {
   "cell_type": "code",
   "execution_count": 7,
   "id": "d3f83570-6cbe-4513-aa7a-e362e0d4cdd8",
   "metadata": {},
   "outputs": [
    {
     "name": "stdout",
     "output_type": "stream",
     "text": [
      "{32, 4}\n"
     ]
    }
   ],
   "source": [
    "s.remove(2)\n",
    "print(s)"
   ]
  },
  {
   "cell_type": "code",
   "execution_count": 9,
   "id": "02a6fa74-fbfd-41c8-8249-827c7376f99d",
   "metadata": {},
   "outputs": [
    {
     "name": "stdout",
     "output_type": "stream",
     "text": [
      "True\n"
     ]
    }
   ],
   "source": [
    "print(4 in s)"
   ]
  },
  {
   "cell_type": "code",
   "execution_count": 11,
   "id": "c02831b9-630d-4fa6-a548-992b83e7e7ee",
   "metadata": {},
   "outputs": [
    {
     "name": "stdout",
     "output_type": "stream",
     "text": [
      "False\n"
     ]
    }
   ],
   "source": [
    "print(33 in s)"
   ]
  },
  {
   "cell_type": "code",
   "execution_count": 19,
   "id": "45b516e2-82e7-48f7-bd76-227ff9c2c1b3",
   "metadata": {},
   "outputs": [
    {
     "name": "stdout",
     "output_type": "stream",
     "text": [
      "{32, 1, 2, 3, 4, 22}\n",
      "{32, 2}\n",
      "{4}\n"
     ]
    }
   ],
   "source": [
    "s = {4, 32, 2, 2}\n",
    "s2 = {3, 4, 22, 1}\n",
    "\n",
    "print(s.union(s2))\n",
    "print(s.difference(s2))\n",
    "print(s.intersection(s2))"
   ]
  },
  {
   "cell_type": "markdown",
   "id": "95866d02-5e77-4fef-9dd7-6d19ad7adad3",
   "metadata": {},
   "source": [
    "## Dictionaries"
   ]
  },
  {
   "cell_type": "code",
   "execution_count": 24,
   "id": "d1a5a90c-a2b2-4cf5-97ef-4366a5d2177d",
   "metadata": {},
   "outputs": [
    {
     "name": "stdout",
     "output_type": "stream",
     "text": [
      "4\n"
     ]
    }
   ],
   "source": [
    "x = {'key' : 4}\n",
    "print(x['key'])"
   ]
  },
  {
   "cell_type": "code",
   "execution_count": 28,
   "id": "a91c63ed-37d6-4f99-8564-ddc8a3b506ab",
   "metadata": {},
   "outputs": [
    {
     "name": "stdout",
     "output_type": "stream",
     "text": [
      "{'key': 4, 'key2': 5}\n"
     ]
    }
   ],
   "source": [
    "x['key2'] = 5\n",
    "print(x)"
   ]
  },
  {
   "cell_type": "code",
   "execution_count": 30,
   "id": "e7bb9ef6-0833-40ea-861d-feb733dca7f2",
   "metadata": {},
   "outputs": [
    {
     "name": "stdout",
     "output_type": "stream",
     "text": [
      "{'key': 4, 'key2': 5, 2: 8}\n"
     ]
    }
   ],
   "source": [
    "x[2] = 8\n",
    "print(x)"
   ]
  },
  {
   "cell_type": "code",
   "execution_count": 32,
   "id": "63dc1666-eb31-493b-bfe3-bdc8a204df40",
   "metadata": {},
   "outputs": [
    {
     "name": "stdout",
     "output_type": "stream",
     "text": [
      "{'key': 4, 'key2': 5, 2: 8, 'key3': [1, 1, 2, 2]}\n"
     ]
    }
   ],
   "source": [
    "x['key3'] = [1, 1, 2, 2]\n",
    "print(x)"
   ]
  },
  {
   "cell_type": "code",
   "execution_count": 34,
   "id": "df1ac9fa-0083-46d7-b9aa-7e5ad93c6795",
   "metadata": {},
   "outputs": [
    {
     "name": "stdout",
     "output_type": "stream",
     "text": [
      "True\n"
     ]
    }
   ],
   "source": [
    "print('key' in x)"
   ]
  },
  {
   "cell_type": "code",
   "execution_count": 40,
   "id": "b875ea9e-c56c-4f14-b0b3-5aeb41ccd4a4",
   "metadata": {},
   "outputs": [
    {
     "name": "stdout",
     "output_type": "stream",
     "text": [
      "dict_values([4, 5, 8, [1, 1, 2, 2]])\n",
      "[4, 5, 8, [1, 1, 2, 2]]\n",
      "['key', 'key2', 2, 'key3']\n"
     ]
    }
   ],
   "source": [
    "print(x.values())\n",
    "print(list(x.values()))\n",
    "print(list(x.keys()))"
   ]
  },
  {
   "cell_type": "code",
   "execution_count": 42,
   "id": "2013b717-b04d-4ee4-b1ae-762f648aa650",
   "metadata": {},
   "outputs": [
    {
     "name": "stdout",
     "output_type": "stream",
     "text": [
      "{'key': 4}\n",
      "{}\n"
     ]
    }
   ],
   "source": [
    "x = {'key' : 4}\n",
    "print(x)\n",
    "del(x['key'])\n",
    "print(x)"
   ]
  },
  {
   "cell_type": "code",
   "execution_count": 46,
   "id": "cef02804-231a-4b64-91c2-e381b69436ae",
   "metadata": {},
   "outputs": [
    {
     "name": "stdout",
     "output_type": "stream",
     "text": [
      "key 4\n",
      "key 4\n"
     ]
    }
   ],
   "source": [
    "x = {'key' : 4}\n",
    "\n",
    "for key, value in x.items():\n",
    "    print(key, value)\n",
    "\n",
    "for key in x:\n",
    "    print(key, x[key])"
   ]
  },
  {
   "cell_type": "markdown",
   "id": "204876af-0481-4a69-9868-7683efa6eeb0",
   "metadata": {},
   "source": [
    "## Comprehensions"
   ]
  },
  {
   "cell_type": "code",
   "execution_count": 53,
   "id": "be92c158-2c58-4be1-ba0c-defab19c9ac6",
   "metadata": {},
   "outputs": [
    {
     "name": "stdout",
     "output_type": "stream",
     "text": [
      "[0, 1, 2, 3, 4]\n",
      "[5, 6, 7, 8, 9]\n"
     ]
    }
   ],
   "source": [
    "x = [x for x in range(5)]\n",
    "print(x)\n",
    "\n",
    "x = [x + 5 for x in range(5)]\n",
    "print(x)"
   ]
  },
  {
   "cell_type": "code",
   "execution_count": 61,
   "id": "942c1cfc-5716-44db-886c-c5dd8287e453",
   "metadata": {},
   "outputs": [
    {
     "name": "stdout",
     "output_type": "stream",
     "text": [
      "[[0, 0, 0, 0, 0, 0, 0, 0, 0, 0, 0, 0, 0, 0, 0, 0, 0, 0, 0, 0, 0, 0, 0, 0, 0, 0, 0, 0, 0, 0, 0, 0, 0, 0, 0, 0, 0, 0, 0, 0, 0, 0, 0, 0, 0, 0, 0, 0, 0, 0, 0, 0, 0, 0, 0, 0, 0, 0, 0, 0, 0, 0, 0, 0, 0, 0, 0, 0, 0, 0, 0, 0, 0, 0, 0, 0, 0, 0, 0, 0, 0, 0, 0, 0, 0, 0, 0, 0, 0, 0, 0, 0, 0, 0, 0, 0, 0, 0, 0, 0], [0, 0, 0, 0, 0, 0, 0, 0, 0, 0, 0, 0, 0, 0, 0, 0, 0, 0, 0, 0, 0, 0, 0, 0, 0, 0, 0, 0, 0, 0, 0, 0, 0, 0, 0, 0, 0, 0, 0, 0, 0, 0, 0, 0, 0, 0, 0, 0, 0, 0, 0, 0, 0, 0, 0, 0, 0, 0, 0, 0, 0, 0, 0, 0, 0, 0, 0, 0, 0, 0, 0, 0, 0, 0, 0, 0, 0, 0, 0, 0, 0, 0, 0, 0, 0, 0, 0, 0, 0, 0, 0, 0, 0, 0, 0, 0, 0, 0, 0, 0], [0, 0, 0, 0, 0, 0, 0, 0, 0, 0, 0, 0, 0, 0, 0, 0, 0, 0, 0, 0, 0, 0, 0, 0, 0, 0, 0, 0, 0, 0, 0, 0, 0, 0, 0, 0, 0, 0, 0, 0, 0, 0, 0, 0, 0, 0, 0, 0, 0, 0, 0, 0, 0, 0, 0, 0, 0, 0, 0, 0, 0, 0, 0, 0, 0, 0, 0, 0, 0, 0, 0, 0, 0, 0, 0, 0, 0, 0, 0, 0, 0, 0, 0, 0, 0, 0, 0, 0, 0, 0, 0, 0, 0, 0, 0, 0, 0, 0, 0, 0], [0, 0, 0, 0, 0, 0, 0, 0, 0, 0, 0, 0, 0, 0, 0, 0, 0, 0, 0, 0, 0, 0, 0, 0, 0, 0, 0, 0, 0, 0, 0, 0, 0, 0, 0, 0, 0, 0, 0, 0, 0, 0, 0, 0, 0, 0, 0, 0, 0, 0, 0, 0, 0, 0, 0, 0, 0, 0, 0, 0, 0, 0, 0, 0, 0, 0, 0, 0, 0, 0, 0, 0, 0, 0, 0, 0, 0, 0, 0, 0, 0, 0, 0, 0, 0, 0, 0, 0, 0, 0, 0, 0, 0, 0, 0, 0, 0, 0, 0, 0], [0, 0, 0, 0, 0, 0, 0, 0, 0, 0, 0, 0, 0, 0, 0, 0, 0, 0, 0, 0, 0, 0, 0, 0, 0, 0, 0, 0, 0, 0, 0, 0, 0, 0, 0, 0, 0, 0, 0, 0, 0, 0, 0, 0, 0, 0, 0, 0, 0, 0, 0, 0, 0, 0, 0, 0, 0, 0, 0, 0, 0, 0, 0, 0, 0, 0, 0, 0, 0, 0, 0, 0, 0, 0, 0, 0, 0, 0, 0, 0, 0, 0, 0, 0, 0, 0, 0, 0, 0, 0, 0, 0, 0, 0, 0, 0, 0, 0, 0, 0]]\n"
     ]
    }
   ],
   "source": [
    "x = [[0 for x in range(100)] for x in range(5)]\n",
    "print(x)"
   ]
  },
  {
   "cell_type": "code",
   "execution_count": 63,
   "id": "83f2d4e9-bf79-4eb9-8b75-856e0178008b",
   "metadata": {},
   "outputs": [
    {
     "name": "stdout",
     "output_type": "stream",
     "text": [
      "[0, 5, 10, 15, 20, 25, 30, 35, 40, 45, 50, 55, 60, 65, 70, 75, 80, 85, 90, 95]\n"
     ]
    }
   ],
   "source": [
    "x = [i for i in range(100) if i % 5 == 0]\n",
    "print(x)"
   ]
  },
  {
   "cell_type": "code",
   "execution_count": 67,
   "id": "c598afc1-5e13-4591-99c8-635795807525",
   "metadata": {},
   "outputs": [
    {
     "name": "stdout",
     "output_type": "stream",
     "text": [
      "{0: 0, 5: 0, 10: 0, 15: 0, 20: 0, 25: 0, 30: 0, 35: 0, 40: 0, 45: 0, 50: 0, 55: 0, 60: 0, 65: 0, 70: 0, 75: 0, 80: 0, 85: 0, 90: 0, 95: 0}\n"
     ]
    }
   ],
   "source": [
    "x = {i:0 for i in range(100) if i % 5 == 0}\n",
    "print(x)"
   ]
  },
  {
   "cell_type": "code",
   "execution_count": 69,
   "id": "c6af3f39-4450-4246-ac13-94a30c242ac3",
   "metadata": {},
   "outputs": [
    {
     "name": "stdout",
     "output_type": "stream",
     "text": [
      "{0, 5, 10, 15, 20, 25, 30, 35, 40, 45, 50, 55, 60, 65, 70, 75, 80, 85, 90, 95}\n"
     ]
    }
   ],
   "source": [
    "x = {i for i in range(100) if i % 5 == 0}\n",
    "print(x)"
   ]
  },
  {
   "cell_type": "code",
   "execution_count": 73,
   "id": "441728ef-9eab-42ce-b147-516838c0bde2",
   "metadata": {},
   "outputs": [
    {
     "name": "stdout",
     "output_type": "stream",
     "text": [
      "(0, 5, 10, 15, 20, 25, 30, 35, 40, 45, 50, 55, 60, 65, 70, 75, 80, 85, 90, 95)\n"
     ]
    }
   ],
   "source": [
    "x = tuple(i for i in range(100) if i % 5 == 0)\n",
    "print(x)"
   ]
  },
  {
   "cell_type": "markdown",
   "id": "19f8b63a-ca01-4f25-bc65-b211d3206867",
   "metadata": {},
   "source": [
    "## Functions"
   ]
  },
  {
   "cell_type": "code",
   "execution_count": 76,
   "id": "518fdba1-f494-4351-9882-1934987c3d46",
   "metadata": {},
   "outputs": [
    {
     "name": "stdout",
     "output_type": "stream",
     "text": [
      "Run\n"
     ]
    }
   ],
   "source": [
    "def func():\n",
    "    print('Run')\n",
    "\n",
    "func()"
   ]
  },
  {
   "cell_type": "code",
   "execution_count": 78,
   "id": "36e10f4b-d9ac-4c64-afcf-2ca9dba059dd",
   "metadata": {},
   "outputs": [
    {
     "name": "stdout",
     "output_type": "stream",
     "text": [
      "Run 5 6\n"
     ]
    }
   ],
   "source": [
    "def func(x, y):\n",
    "    print('Run', x, y)\n",
    "\n",
    "func(5, 6)"
   ]
  },
  {
   "cell_type": "code",
   "execution_count": 86,
   "id": "3e6cdae4-54ae-4c6e-8469-4cc2b0a7444c",
   "metadata": {},
   "outputs": [
    {
     "name": "stdout",
     "output_type": "stream",
     "text": [
      "Run 5 6\n",
      "30\n"
     ]
    }
   ],
   "source": [
    "def func(x, y):\n",
    "    print('Run', x, y)\n",
    "    return x * y\n",
    "\n",
    "print(func(5, 6))"
   ]
  },
  {
   "cell_type": "markdown",
   "id": "98b665ec-4ab5-44f3-8f3d-a6cf8720e944",
   "metadata": {},
   "source": [
    "def func(x, y):\n",
    "    print('Run', x, y)\n",
    "    return x * y, x / y\n",
    "\n",
    "print(func(5, 6))"
   ]
  },
  {
   "cell_type": "code",
   "execution_count": 90,
   "id": "790e35bc-af77-4f14-965f-199f149046d1",
   "metadata": {},
   "outputs": [
    {
     "name": "stdout",
     "output_type": "stream",
     "text": [
      "Run 5 6\n",
      "30 0.8333333333333334\n"
     ]
    }
   ],
   "source": [
    "def func(x, y):\n",
    "    print('Run', x, y)\n",
    "    return x * y, x / y\n",
    "\n",
    "r1, r2 = func(5, 6)\n",
    "print(r1, r2)"
   ]
  },
  {
   "cell_type": "code",
   "execution_count": 92,
   "id": "6a8ce5b0-7c47-4c6f-b027-e4ec684f792b",
   "metadata": {},
   "outputs": [
    {
     "name": "stdout",
     "output_type": "stream",
     "text": [
      "Run 5 6 None\n",
      "30 0.8333333333333334\n"
     ]
    }
   ],
   "source": [
    "def func(x, y, z = None):\n",
    "    print('Run', x, y, z)\n",
    "    return x * y, x / y\n",
    "\n",
    "r1, r2 = func(5, 6)\n",
    "print(r1, r2)"
   ]
  },
  {
   "cell_type": "code",
   "execution_count": 94,
   "id": "775c8db9-6840-46f3-8bb0-e6a7df4a29e7",
   "metadata": {},
   "outputs": [
    {
     "name": "stdout",
     "output_type": "stream",
     "text": [
      "Run 5 6 7\n",
      "30 0.8333333333333334\n"
     ]
    }
   ],
   "source": [
    "def func(x, y, z = None):\n",
    "    print('Run', x, y, z)\n",
    "    return x * y, x / y\n",
    "\n",
    "r1, r2 = func(5, 6, 7)\n",
    "print(r1, r2)"
   ]
  },
  {
   "cell_type": "markdown",
   "id": "91b7ab2e-b4e8-4d95-883f-0d8c6302782e",
   "metadata": {},
   "source": [
    "## Unpack operator / *args and **kwargs"
   ]
  },
  {
   "cell_type": "code",
   "execution_count": 103,
   "id": "a37a972c-d684-4c2d-9a99-1157d971ff9f",
   "metadata": {},
   "outputs": [
    {
     "name": "stdout",
     "output_type": "stream",
     "text": [
      "<function func.<locals>.func2 at 0x000002140766AB60>\n",
      "3\n",
      "None\n",
      "3\n"
     ]
    }
   ],
   "source": [
    "def func(x):\n",
    "    def func2():\n",
    "        print(x)\n",
    "\n",
    "    return func2\n",
    "\n",
    "print(func(3))\n",
    "print(func(3)())\n",
    "\n",
    "x = func(3)\n",
    "x()"
   ]
  },
  {
   "cell_type": "code",
   "execution_count": 105,
   "id": "61de71c6-4772-4f74-ab55-1c3752704073",
   "metadata": {},
   "outputs": [
    {
     "name": "stdout",
     "output_type": "stream",
     "text": [
      "[1, 23, 236363, 2727]\n",
      "1 23 236363 2727\n"
     ]
    }
   ],
   "source": [
    "def func(*args, **kwargs):\n",
    "    pass\n",
    "\n",
    "x = [1, 23, 236363, 2727]\n",
    "print(x)\n",
    "print(*x)"
   ]
  },
  {
   "cell_type": "code",
   "execution_count": 115,
   "id": "1ab13273-1750-4016-a7eb-9ebb858ef944",
   "metadata": {},
   "outputs": [
    {
     "name": "stdout",
     "output_type": "stream",
     "text": [
      "1 2\n",
      "3 4\n",
      "2 5\n",
      "2 5\n"
     ]
    }
   ],
   "source": [
    "def func(x, y):\n",
    "    print(x, y)\n",
    "\n",
    "pairs = [(1, 2), (3, 4)]\n",
    "\n",
    "for pair in pairs:\n",
    "    func(*pair)\n",
    "\n",
    "func(**{'x' : 2, 'y' : 5})\n",
    "func(**{'y' : 5, 'x' : 2})"
   ]
  },
  {
   "cell_type": "code",
   "execution_count": 117,
   "id": "2aa4140d-58ab-4e67-98b9-79003a2cc183",
   "metadata": {},
   "outputs": [
    {
     "name": "stdout",
     "output_type": "stream",
     "text": [
      "(1, 2, 3, 4, 5) {'one': 0, 'two': 1}\n"
     ]
    }
   ],
   "source": [
    "def func(*args, **kwargs):\n",
    "    print(args, kwargs)\n",
    "\n",
    "func(1, 2, 3, 4, 5, one = 0, two = 1)"
   ]
  },
  {
   "cell_type": "code",
   "execution_count": 119,
   "id": "bb2f7a1e-f794-4941-90eb-4d9b5c734cdc",
   "metadata": {},
   "outputs": [
    {
     "name": "stdout",
     "output_type": "stream",
     "text": [
      "1 2 3 4 5\n"
     ]
    }
   ],
   "source": [
    "def func(*args, **kwargs):\n",
    "    print(*args)\n",
    "\n",
    "func(1, 2, 3, 4, 5, one = 0, two = 1)"
   ]
  },
  {
   "cell_type": "code",
   "execution_count": 121,
   "id": "279ae2a3-d309-4b0a-a838-d4e6c60fc4b8",
   "metadata": {},
   "outputs": [
    {
     "ename": "TypeError",
     "evalue": "'one' is an invalid keyword argument for print()",
     "output_type": "error",
     "traceback": [
      "\u001b[1;31m---------------------------------------------------------------------------\u001b[0m",
      "\u001b[1;31mTypeError\u001b[0m                                 Traceback (most recent call last)",
      "Cell \u001b[1;32mIn[121], line 4\u001b[0m\n\u001b[0;32m      1\u001b[0m \u001b[38;5;28;01mdef\u001b[39;00m \u001b[38;5;21mfunc\u001b[39m(\u001b[38;5;241m*\u001b[39margs, \u001b[38;5;241m*\u001b[39m\u001b[38;5;241m*\u001b[39mkwargs):\n\u001b[0;32m      2\u001b[0m     \u001b[38;5;28mprint\u001b[39m(\u001b[38;5;241m*\u001b[39m\u001b[38;5;241m*\u001b[39mkwargs)\n\u001b[1;32m----> 4\u001b[0m \u001b[43mfunc\u001b[49m\u001b[43m(\u001b[49m\u001b[38;5;241;43m1\u001b[39;49m\u001b[43m,\u001b[49m\u001b[43m \u001b[49m\u001b[38;5;241;43m2\u001b[39;49m\u001b[43m,\u001b[49m\u001b[43m \u001b[49m\u001b[38;5;241;43m3\u001b[39;49m\u001b[43m,\u001b[49m\u001b[43m \u001b[49m\u001b[38;5;241;43m4\u001b[39;49m\u001b[43m,\u001b[49m\u001b[43m \u001b[49m\u001b[38;5;241;43m5\u001b[39;49m\u001b[43m,\u001b[49m\u001b[43m \u001b[49m\u001b[43mone\u001b[49m\u001b[43m \u001b[49m\u001b[38;5;241;43m=\u001b[39;49m\u001b[43m \u001b[49m\u001b[38;5;241;43m0\u001b[39;49m\u001b[43m,\u001b[49m\u001b[43m \u001b[49m\u001b[43mtwo\u001b[49m\u001b[43m \u001b[49m\u001b[38;5;241;43m=\u001b[39;49m\u001b[43m \u001b[49m\u001b[38;5;241;43m1\u001b[39;49m\u001b[43m)\u001b[49m\n",
      "Cell \u001b[1;32mIn[121], line 2\u001b[0m, in \u001b[0;36mfunc\u001b[1;34m(*args, **kwargs)\u001b[0m\n\u001b[0;32m      1\u001b[0m \u001b[38;5;28;01mdef\u001b[39;00m \u001b[38;5;21mfunc\u001b[39m(\u001b[38;5;241m*\u001b[39margs, \u001b[38;5;241m*\u001b[39m\u001b[38;5;241m*\u001b[39mkwargs):\n\u001b[1;32m----> 2\u001b[0m     \u001b[38;5;28;43mprint\u001b[39;49m\u001b[43m(\u001b[49m\u001b[38;5;241;43m*\u001b[39;49m\u001b[38;5;241;43m*\u001b[39;49m\u001b[43mkwargs\u001b[49m\u001b[43m)\u001b[49m\n",
      "\u001b[1;31mTypeError\u001b[0m: 'one' is an invalid keyword argument for print()"
     ]
    }
   ],
   "source": [
    "def func(*args, **kwargs):\n",
    "    print(**kwargs)\n",
    "\n",
    "func(1, 2, 3, 4, 5, one = 0, two = 1)"
   ]
  },
  {
   "cell_type": "markdown",
   "id": "b51c4fc2-e980-4588-99c2-91b04b9db4f8",
   "metadata": {},
   "source": [
    "## Scope and global"
   ]
  },
  {
   "cell_type": "code",
   "execution_count": 124,
   "id": "ab901ef8-a591-47a7-b730-313491193db3",
   "metadata": {},
   "outputs": [
    {
     "name": "stdout",
     "output_type": "stream",
     "text": [
      "tim\n",
      "tim\n"
     ]
    }
   ],
   "source": [
    "x = 'tim'\n",
    "\n",
    "def func(name):\n",
    "    x = name\n",
    "\n",
    "print(x)\n",
    "func('changed')\n",
    "print(x)"
   ]
  },
  {
   "cell_type": "code",
   "execution_count": 126,
   "id": "e67cbeaf-c03e-426e-9e10-f76612934b40",
   "metadata": {},
   "outputs": [
    {
     "name": "stdout",
     "output_type": "stream",
     "text": [
      "tim\n",
      "changed\n"
     ]
    }
   ],
   "source": [
    "x = 'tim'\n",
    "\n",
    "def func(name):\n",
    "    global x\n",
    "    x = name\n",
    "\n",
    "print(x)\n",
    "func('changed')\n",
    "print(x)"
   ]
  },
  {
   "cell_type": "markdown",
   "id": "a37b0dce-5d39-4da8-9409-88eb28b4d368",
   "metadata": {},
   "source": [
    "## Exceptions"
   ]
  },
  {
   "cell_type": "code",
   "execution_count": 129,
   "id": "09543d4b-6ee7-4889-b21f-58ad659a21bd",
   "metadata": {},
   "outputs": [
    {
     "ename": "Exception",
     "evalue": "Bad",
     "output_type": "error",
     "traceback": [
      "\u001b[1;31m---------------------------------------------------------------------------\u001b[0m",
      "\u001b[1;31mException\u001b[0m                                 Traceback (most recent call last)",
      "Cell \u001b[1;32mIn[129], line 1\u001b[0m\n\u001b[1;32m----> 1\u001b[0m \u001b[38;5;28;01mraise\u001b[39;00m \u001b[38;5;167;01mException\u001b[39;00m(\u001b[38;5;124m'\u001b[39m\u001b[38;5;124mBad\u001b[39m\u001b[38;5;124m'\u001b[39m)\n",
      "\u001b[1;31mException\u001b[0m: Bad"
     ]
    }
   ],
   "source": [
    "raise Exception('Bad')"
   ]
  },
  {
   "cell_type": "markdown",
   "id": "f8f2e1ae-38cf-4085-acbb-b17750523846",
   "metadata": {},
   "source": [
    "## Handling exceptions"
   ]
  },
  {
   "cell_type": "code",
   "execution_count": 134,
   "id": "1562de90-a90f-4b80-ac5f-c7787a426ab9",
   "metadata": {},
   "outputs": [
    {
     "name": "stdout",
     "output_type": "stream",
     "text": [
      "division by zero\n"
     ]
    }
   ],
   "source": [
    "try:\n",
    "    x = 7 / 0\n",
    "except Exception as e:\n",
    "    print(e)"
   ]
  },
  {
   "cell_type": "code",
   "execution_count": 136,
   "id": "aea6b0c9-1f40-426c-a3db-26519b57c059",
   "metadata": {},
   "outputs": [
    {
     "ename": "ZeroDivisionError",
     "evalue": "division by zero",
     "output_type": "error",
     "traceback": [
      "\u001b[1;31m---------------------------------------------------------------------------\u001b[0m",
      "\u001b[1;31mZeroDivisionError\u001b[0m                         Traceback (most recent call last)",
      "Cell \u001b[1;32mIn[136], line 1\u001b[0m\n\u001b[1;32m----> 1\u001b[0m x \u001b[38;5;241m=\u001b[39m \u001b[38;5;241;43m7\u001b[39;49m\u001b[43m \u001b[49m\u001b[38;5;241;43m/\u001b[39;49m\u001b[43m \u001b[49m\u001b[38;5;241;43m0\u001b[39;49m\n",
      "\u001b[1;31mZeroDivisionError\u001b[0m: division by zero"
     ]
    }
   ],
   "source": [
    "x = 7 / 0"
   ]
  },
  {
   "cell_type": "code",
   "execution_count": 138,
   "id": "5b847b94-714f-43cc-bd8d-816f83d897cc",
   "metadata": {},
   "outputs": [
    {
     "name": "stdout",
     "output_type": "stream",
     "text": [
      "division by zero\n",
      "finally\n"
     ]
    }
   ],
   "source": [
    "try:\n",
    "    x = 7 / 0\n",
    "except Exception as e:\n",
    "    print(e)\n",
    "finally:\n",
    "    print('finally')"
   ]
  },
  {
   "cell_type": "markdown",
   "id": "cba9bb2c-ccc1-41b4-9418-870019d61ffa",
   "metadata": {},
   "source": [
    "## Lambda"
   ]
  },
  {
   "cell_type": "code",
   "execution_count": 141,
   "id": "7c69f8d8-e8ec-4507-a3eb-ce6e1a9f93c6",
   "metadata": {},
   "outputs": [
    {
     "name": "stdout",
     "output_type": "stream",
     "text": [
      "7\n"
     ]
    }
   ],
   "source": [
    "x = lambda x: x + 5\n",
    "print(x(2))"
   ]
  },
  {
   "cell_type": "code",
   "execution_count": 143,
   "id": "b4533a20-2e99-449d-9675-93fb2197cca5",
   "metadata": {},
   "outputs": [
    {
     "name": "stdout",
     "output_type": "stream",
     "text": [
      "34\n"
     ]
    }
   ],
   "source": [
    "x = lambda x, y: x + y\n",
    "print(x(2, 32))"
   ]
  },
  {
   "cell_type": "markdown",
   "id": "8d2ff32c-be2f-4ed3-9879-d44e6d45b895",
   "metadata": {},
   "source": [
    "## Map and filter"
   ]
  },
  {
   "cell_type": "code",
   "execution_count": 158,
   "id": "abf9b56a-6693-4660-92b6-9dc7dca7b490",
   "metadata": {},
   "outputs": [
    {
     "name": "stdout",
     "output_type": "stream",
     "text": [
      "[3, 4, 6, 7, 5, 5, 23, 4, 23, 4, 315, 3, 25, 144, 6]\n",
      "[2, 4, 2, 2, 142, 4]\n"
     ]
    }
   ],
   "source": [
    "x = [1, 2, 4, 5, 3, 3, 21, 2, 21, 2, 313, 1, 23, 142, 4]\n",
    "\n",
    "mp = map(lambda i: i + 2, x)\n",
    "print(list(mp))\n",
    "\n",
    "mp = filter(lambda i: i % 2 == 0, x)\n",
    "print(list(mp))"
   ]
  },
  {
   "cell_type": "markdown",
   "id": "9ba3ce45-eb80-4e45-9914-5ccd170fa9f0",
   "metadata": {},
   "source": [
    "## F strings"
   ]
  },
  {
   "cell_type": "code",
   "execution_count": 167,
   "id": "5c61764a-79c2-4f5e-9424-4dfdfc9fc256",
   "metadata": {},
   "outputs": [
    {
     "name": "stdout",
     "output_type": "stream",
     "text": [
      "hello 14\n"
     ]
    }
   ],
   "source": [
    "x = f'hello {6 + 8}'\n",
    "print(x)"
   ]
  },
  {
   "cell_type": "code",
   "execution_count": 169,
   "id": "e1c5c089-6fb8-4952-91d6-c4603d9d80d2",
   "metadata": {},
   "outputs": [
    {
     "name": "stdout",
     "output_type": "stream",
     "text": [
      "hello 14 89\n"
     ]
    }
   ],
   "source": [
    "tim = 89\n",
    "x = f'hello {6 + 8} {tim}'\n",
    "print(x)"
   ]
  },
  {
   "cell_type": "code",
   "execution_count": 171,
   "id": "2096a52d-2a32-433d-88a4-4374305fcb34",
   "metadata": {},
   "outputs": [
    {
     "name": "stdout",
     "output_type": "stream",
     "text": [
      "hello 89\n"
     ]
    }
   ],
   "source": [
    "print(f'hello {tim}')"
   ]
  }
 ],
 "metadata": {
  "kernelspec": {
   "display_name": "Python 3 (ipykernel)",
   "language": "python",
   "name": "python3"
  },
  "language_info": {
   "codemirror_mode": {
    "name": "ipython",
    "version": 3
   },
   "file_extension": ".py",
   "mimetype": "text/x-python",
   "name": "python",
   "nbconvert_exporter": "python",
   "pygments_lexer": "ipython3",
   "version": "3.12.4"
  }
 },
 "nbformat": 4,
 "nbformat_minor": 5
}
