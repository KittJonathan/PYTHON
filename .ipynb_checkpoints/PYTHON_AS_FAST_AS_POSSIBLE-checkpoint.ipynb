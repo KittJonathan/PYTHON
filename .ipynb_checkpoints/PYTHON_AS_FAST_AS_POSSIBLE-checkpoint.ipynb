{
 "cells": [
  {
   "cell_type": "markdown",
   "id": "b4f66aba-08ce-49c9-9b3b-0efd1ab0aa7c",
   "metadata": {},
   "source": [
    "# Python as fast as possible\n",
    "\n",
    "Link to the video: [https://www.youtube.com/watch?v=VchuKL44s6E](https://www.youtube.com/watch?v=VchuKL44s6E]\n",
    "\n",
    "## Data types"
   ]
  },
  {
   "cell_type": "code",
   "execution_count": 5,
   "id": "6c0a9dfb-3c2b-473f-b2da-bc07052e004f",
   "metadata": {},
   "outputs": [
    {
     "data": {
      "text/plain": [
       "76373"
      ]
     },
     "execution_count": 5,
     "metadata": {},
     "output_type": "execute_result"
    }
   ],
   "source": [
    "# Integer\n",
    "-267236\n",
    "76373"
   ]
  },
  {
   "cell_type": "code",
   "execution_count": 9,
   "id": "b7bb41eb-e08f-47eb-b4d2-28908b44c0ad",
   "metadata": {},
   "outputs": [
    {
     "data": {
      "text/plain": [
       "-9.7"
      ]
     },
     "execution_count": 9,
     "metadata": {},
     "output_type": "execute_result"
    }
   ],
   "source": [
    "# Float\n",
    "2727.0\n",
    "-9.7"
   ]
  },
  {
   "cell_type": "code",
   "execution_count": 15,
   "id": "380edb77-94cf-4d46-a28b-2f86017dfa68",
   "metadata": {},
   "outputs": [
    {
     "data": {
      "text/plain": [
       "'4.6'"
      ]
     },
     "execution_count": 15,
     "metadata": {},
     "output_type": "execute_result"
    }
   ],
   "source": [
    "# String\n",
    "'hello'\n",
    "\"hello\"\n",
    "'hello\"'\n",
    "\"hello'\"\n",
    "'4.6'"
   ]
  },
  {
   "cell_type": "code",
   "execution_count": 17,
   "id": "b306cc1c-3801-4382-9deb-b27ccd0c12a1",
   "metadata": {},
   "outputs": [
    {
     "data": {
      "text/plain": [
       "False"
      ]
     },
     "execution_count": 17,
     "metadata": {},
     "output_type": "execute_result"
    }
   ],
   "source": [
    "# Booleans\n",
    "True\n",
    "False"
   ]
  },
  {
   "cell_type": "markdown",
   "id": "4758a66f-f20c-48bd-a960-4648f9416c5f",
   "metadata": {},
   "source": [
    "## Output and printing"
   ]
  },
  {
   "cell_type": "code",
   "execution_count": 19,
   "id": "6d1fe843-5a23-4bc7-aac1-d818dbbbd427",
   "metadata": {},
   "outputs": [
    {
     "name": "stdout",
     "output_type": "stream",
     "text": [
      "Hello world!\n"
     ]
    }
   ],
   "source": [
    "print('Hello world!')"
   ]
  },
  {
   "cell_type": "code",
   "execution_count": 21,
   "id": "1824a296-6261-40bd-bf24-4bcbb893c567",
   "metadata": {},
   "outputs": [
    {
     "name": "stdout",
     "output_type": "stream",
     "text": [
      "4.5\n"
     ]
    }
   ],
   "source": [
    "print(4.5)"
   ]
  },
  {
   "cell_type": "code",
   "execution_count": 23,
   "id": "a312b56b-55e7-40c7-8434-a9237ac589f2",
   "metadata": {},
   "outputs": [
    {
     "name": "stdout",
     "output_type": "stream",
     "text": [
      "Hello end 87 False\n"
     ]
    }
   ],
   "source": [
    "print('Hello', 'end', 87, False)"
   ]
  },
  {
   "cell_type": "code",
   "execution_count": 25,
   "id": "112a0bcc-8271-4914-8df8-88713432c259",
   "metadata": {},
   "outputs": [
    {
     "name": "stdout",
     "output_type": "stream",
     "text": [
      "Hello end 87 False\n",
      "Hello\n"
     ]
    }
   ],
   "source": [
    "print('Hello', 'end', 87, False, end = '\\n')  # default\n",
    "print('Hello')"
   ]
  },
  {
   "cell_type": "code",
   "execution_count": 27,
   "id": "a9e3b728-be0b-496d-9354-74f7a228de15",
   "metadata": {},
   "outputs": [
    {
     "name": "stdout",
     "output_type": "stream",
     "text": [
      "Hello end 87 False|Hello\n"
     ]
    }
   ],
   "source": [
    "print('Hello', 'end', 87, False, end = '|')\n",
    "print('Hello')"
   ]
  },
  {
   "cell_type": "markdown",
   "id": "b0f40de4-3629-4b24-9c1b-5a0ba030da93",
   "metadata": {},
   "source": [
    "## Variables"
   ]
  },
  {
   "cell_type": "code",
   "execution_count": 31,
   "id": "c878fae1-2532-46ce-a801-5f3e99283f56",
   "metadata": {},
   "outputs": [
    {
     "name": "stdout",
     "output_type": "stream",
     "text": [
      "jo world\n"
     ]
    }
   ],
   "source": [
    "hello = 'jo'\n",
    "world = 'world'\n",
    "\n",
    "print(hello, world)"
   ]
  },
  {
   "cell_type": "code",
   "execution_count": 34,
   "id": "ab7fbb29-11c9-46db-8432-9b286d4bce10",
   "metadata": {},
   "outputs": [
    {
     "name": "stdout",
     "output_type": "stream",
     "text": [
      "jo jo\n"
     ]
    }
   ],
   "source": [
    "hello = 'jo'\n",
    "world = 'world'\n",
    "world = hello\n",
    "\n",
    "print(hello, world)"
   ]
  },
  {
   "cell_type": "code",
   "execution_count": 36,
   "id": "285b11d9-61ea-4ec3-b708-ad35a98f916a",
   "metadata": {},
   "outputs": [
    {
     "name": "stdout",
     "output_type": "stream",
     "text": [
      "no jo\n"
     ]
    }
   ],
   "source": [
    "hello = 'jo'\n",
    "world = 'world'\n",
    "world = hello\n",
    "hello = 'no'\n",
    "\n",
    "print(hello, world)"
   ]
  },
  {
   "cell_type": "markdown",
   "id": "a64f634e-119c-4537-8704-e1b5e4c6eae5",
   "metadata": {},
   "source": [
    "## Input"
   ]
  },
  {
   "cell_type": "code",
   "execution_count": 39,
   "id": "7211f552-6136-4165-8445-9bf398628712",
   "metadata": {},
   "outputs": [
    {
     "name": "stdin",
     "output_type": "stream",
     "text": [
      "Name:  Jo\n"
     ]
    },
    {
     "name": "stdout",
     "output_type": "stream",
     "text": [
      "Jo\n"
     ]
    }
   ],
   "source": [
    "name = input('Name: ')\n",
    "print(name)"
   ]
  },
  {
   "cell_type": "code",
   "execution_count": 41,
   "id": "986add7f-925a-4852-a28b-023dfa103924",
   "metadata": {},
   "outputs": [
    {
     "name": "stdin",
     "output_type": "stream",
     "text": [
      "Name:  Jo\n",
      "Age:  39\n"
     ]
    }
   ],
   "source": [
    "name = input('Name: ')\n",
    "age = input('Age: ')"
   ]
  },
  {
   "cell_type": "code",
   "execution_count": 43,
   "id": "3562b25e-c4e6-4334-85f5-b47c4894b338",
   "metadata": {},
   "outputs": [
    {
     "name": "stdin",
     "output_type": "stream",
     "text": [
      "Name:  Jo\n",
      "Age:  39\n"
     ]
    },
    {
     "name": "stdout",
     "output_type": "stream",
     "text": [
      "Hello Jo you are 39 years old\n"
     ]
    }
   ],
   "source": [
    "name = input('Name: ')\n",
    "age = input('Age: ')\n",
    "print('Hello', name, 'you are', age, 'years old')"
   ]
  },
  {
   "cell_type": "markdown",
   "id": "105bc6eb-e4aa-40e3-85ca-ce477bc77171",
   "metadata": {},
   "source": [
    "## Arithmetic operators"
   ]
  },
  {
   "cell_type": "code",
   "execution_count": 55,
   "id": "dc5cf28e-01c5-4128-af2c-f5408db7ed2d",
   "metadata": {},
   "outputs": [
    {
     "name": "stdout",
     "output_type": "stream",
     "text": [
      "12\n",
      "6\n",
      "27\n",
      "3.0\n",
      "3\n",
      "729\n"
     ]
    }
   ],
   "source": [
    "x = 9\n",
    "y = 3\n",
    "print(x + y)\n",
    "print(x - y)\n",
    "print(x * y)\n",
    "print(x / y)\n",
    "print(int(x / y))\n",
    "print(x ** y)"
   ]
  },
  {
   "cell_type": "code",
   "execution_count": 71,
   "id": "86e02c22-a733-47cd-bb5a-1295dd7881da",
   "metadata": {},
   "outputs": [
    {
     "name": "stdout",
     "output_type": "stream",
     "text": [
      "3\n",
      "1\n",
      "10 / 3  =  3 * 3  +  1\n"
     ]
    }
   ],
   "source": [
    "x = 10\n",
    "y = 3\n",
    "print(x // y)\n",
    "print(x % y)\n",
    "print(x, '/', y, ' = ', y, '*', x//y, ' + ', x%y) "
   ]
  },
  {
   "cell_type": "code",
   "execution_count": 75,
   "id": "9b9afa62-ed9d-441c-bd50-c7f4fec2b658",
   "metadata": {},
   "outputs": [
    {
     "name": "stdin",
     "output_type": "stream",
     "text": [
      "Number : 10\n"
     ]
    },
    {
     "name": "stdout",
     "output_type": "stream",
     "text": [
      "5\n"
     ]
    }
   ],
   "source": [
    "num = input('Number :')  # default -> str\n",
    "print(int(num) - 5)"
   ]
  },
  {
   "cell_type": "markdown",
   "id": "48ca7768-4aad-4e9e-ba7e-857feec2653b",
   "metadata": {},
   "source": [
    "## String methods"
   ]
  },
  {
   "cell_type": "code",
   "execution_count": 77,
   "id": "981324e9-9dfe-4f56-b02f-a1e1d1404347",
   "metadata": {},
   "outputs": [
    {
     "name": "stdout",
     "output_type": "stream",
     "text": [
      "<class 'str'>\n"
     ]
    }
   ],
   "source": [
    "hello = 'hello'\n",
    "print(type(hello))"
   ]
  },
  {
   "cell_type": "code",
   "execution_count": 79,
   "id": "05bc341b-6f86-4cbd-a053-2f787bbf4628",
   "metadata": {},
   "outputs": [
    {
     "name": "stdout",
     "output_type": "stream",
     "text": [
      "HELLO\n"
     ]
    }
   ],
   "source": [
    "hello = 'hello'.upper()\n",
    "print(hello)"
   ]
  },
  {
   "cell_type": "code",
   "execution_count": 83,
   "id": "8d5768e9-2cd4-426e-9f1d-09e621f31134",
   "metadata": {},
   "outputs": [
    {
     "name": "stdout",
     "output_type": "stream",
     "text": [
      "HELLO\n"
     ]
    }
   ],
   "source": [
    "hello = 'hello'\n",
    "print(hello.upper())"
   ]
  },
  {
   "cell_type": "code",
   "execution_count": 97,
   "id": "2a8c2aed-517e-44db-b36b-5695eeaec860",
   "metadata": {},
   "outputs": [
    {
     "name": "stdout",
     "output_type": "stream",
     "text": [
      "hello world\n",
      "Hello world\n",
      "0\n",
      "1\n"
     ]
    }
   ],
   "source": [
    "hello = 'heLLO World'\n",
    "print(hello.lower())\n",
    "print(hello.capitalize())\n",
    "print(hello.count('ll'))\n",
    "print(hello.lower().count('ll'))"
   ]
  },
  {
   "cell_type": "code",
   "execution_count": 106,
   "id": "79e13b87-f812-443e-b59e-75f3d803e566",
   "metadata": {},
   "outputs": [
    {
     "name": "stdout",
     "output_type": "stream",
     "text": [
      "hellohellohello\n"
     ]
    }
   ],
   "source": [
    "x = 'hello'\n",
    "y = 3\n",
    "print(x * y)"
   ]
  },
  {
   "cell_type": "code",
   "execution_count": 108,
   "id": "a1b35e83-7a28-42ab-b58f-f97e347f9b08",
   "metadata": {},
   "outputs": [
    {
     "name": "stdout",
     "output_type": "stream",
     "text": [
      "helloyou\n"
     ]
    }
   ],
   "source": [
    "x = 'hello'\n",
    "y = 'you'\n",
    "print(x + y)"
   ]
  },
  {
   "cell_type": "markdown",
   "id": "e19a0162-40e3-4bc6-b839-23201d558b1e",
   "metadata": {},
   "source": [
    "## Conditional operators"
   ]
  },
  {
   "cell_type": "code",
   "execution_count": 112,
   "id": "23676df1-937f-42d4-81a8-3f9f2652c796",
   "metadata": {},
   "outputs": [
    {
     "name": "stdout",
     "output_type": "stream",
     "text": [
      "True\n",
      "False\n"
     ]
    }
   ],
   "source": [
    "x = 'hello'\n",
    "y = 'hello'\n",
    "print(x == y)\n",
    "print(x != y)"
   ]
  },
  {
   "cell_type": "code",
   "execution_count": 118,
   "id": "3a67f14b-0b0a-4d9e-a0ea-8abd7bf80094",
   "metadata": {},
   "outputs": [
    {
     "name": "stdout",
     "output_type": "stream",
     "text": [
      "True\n",
      "97 90\n"
     ]
    }
   ],
   "source": [
    "print('a' > 'Z')\n",
    "print(ord('a'), ord('Z'))"
   ]
  },
  {
   "cell_type": "code",
   "execution_count": 122,
   "id": "29e346f5-937e-4f96-a425-b4c3a95bfd52",
   "metadata": {},
   "outputs": [
    {
     "name": "stdout",
     "output_type": "stream",
     "text": [
      "False\n",
      "97 98\n"
     ]
    }
   ],
   "source": [
    "print('a' > 'b')\n",
    "print(ord('a'), ord('b'))"
   ]
  },
  {
   "cell_type": "code",
   "execution_count": 130,
   "id": "a0b293da-2f96-47b1-aaa8-d4e006884499",
   "metadata": {},
   "outputs": [
    {
     "name": "stdout",
     "output_type": "stream",
     "text": [
      "False\n",
      "98 100\n"
     ]
    }
   ],
   "source": [
    "print('ab' > 'ad')\n",
    "print(ord('b'), ord('d'))"
   ]
  },
  {
   "cell_type": "code",
   "execution_count": 134,
   "id": "32cc6969-0d7e-4e1f-81f9-d53264222e94",
   "metadata": {},
   "outputs": [
    {
     "name": "stdout",
     "output_type": "stream",
     "text": [
      "False\n",
      "True\n",
      "True\n"
     ]
    }
   ],
   "source": [
    "print(7.5 == 7)\n",
    "print(7.5 > 7)\n",
    "print(7.0 == 7)"
   ]
  },
  {
   "cell_type": "code",
   "execution_count": 136,
   "id": "55c784af-5b79-4c73-94a4-2aec158e2a93",
   "metadata": {},
   "outputs": [
    {
     "name": "stdout",
     "output_type": "stream",
     "text": [
      "True\n"
     ]
    }
   ],
   "source": [
    "result = 6 == 6\n",
    "print(result)"
   ]
  },
  {
   "cell_type": "markdown",
   "id": "1f37c9a1-5143-498f-bae5-73892183a540",
   "metadata": {},
   "source": [
    "## Chained conditionals"
   ]
  },
  {
   "cell_type": "code",
   "execution_count": 145,
   "id": "a98f6298-9057-4e2d-b103-563c4f8d2063",
   "metadata": {},
   "outputs": [
    {
     "name": "stdout",
     "output_type": "stream",
     "text": [
      "True\n",
      "True\n",
      "False\n"
     ]
    }
   ],
   "source": [
    "x = 7\n",
    "y = 8\n",
    "z = 0\n",
    "\n",
    "result1 = x == y\n",
    "result2 = y > x\n",
    "result3 = z - 2 < x +2\n",
    "\n",
    "result4 = result1 or result2 or result3\n",
    "print(result4)\n",
    "\n",
    "result4 = result1 or not result2 or result3\n",
    "print(result4)\n",
    "\n",
    "print(not(False or True))  # order : not -> and -> or"
   ]
  },
  {
   "cell_type": "markdown",
   "id": "9925acbd-eeb3-4a28-85d8-14070f17b78a",
   "metadata": {},
   "source": [
    "## If/Else/Elif"
   ]
  },
  {
   "cell_type": "code",
   "execution_count": 152,
   "id": "349ab3f3-d538-49d2-ae9f-32a212af8f9a",
   "metadata": {},
   "outputs": [
    {
     "name": "stdin",
     "output_type": "stream",
     "text": [
      "Name:  Jo\n"
     ]
    },
    {
     "name": "stdout",
     "output_type": "stream",
     "text": [
      "You are great\n",
      "\n",
      "Always do this\n"
     ]
    }
   ],
   "source": [
    "x = input('Name: ')\n",
    "\n",
    "if x == 'Jo':\n",
    "    print('You are great')\n",
    "    print()\n",
    "\n",
    "print('Always do this')"
   ]
  },
  {
   "cell_type": "code",
   "execution_count": 158,
   "id": "497f8e8c-141d-4ab7-9dc8-3d8199c65ed6",
   "metadata": {},
   "outputs": [
    {
     "name": "stdin",
     "output_type": "stream",
     "text": [
      "Name:  Joe\n"
     ]
    },
    {
     "name": "stdout",
     "output_type": "stream",
     "text": [
      "No\n"
     ]
    }
   ],
   "source": [
    "x = input('Name: ')\n",
    "\n",
    "if x == 'Jo':\n",
    "    print('You are great')\n",
    "else:\n",
    "    print('No')"
   ]
  },
  {
   "cell_type": "code",
   "execution_count": 164,
   "id": "f8219589-e255-4a04-8a8e-4957a94dddd9",
   "metadata": {},
   "outputs": [
    {
     "name": "stdin",
     "output_type": "stream",
     "text": [
      "Name:  Truc\n"
     ]
    },
    {
     "name": "stdout",
     "output_type": "stream",
     "text": [
      "No\n"
     ]
    }
   ],
   "source": [
    "x = input('Name: ')\n",
    "\n",
    "if x == 'Jo':\n",
    "    print('You are great!')\n",
    "elif x == 'Tim':\n",
    "    print('Bye Tim')\n",
    "else:\n",
    "    print('No')"
   ]
  },
  {
   "cell_type": "code",
   "execution_count": null,
   "id": "e9ca71dc-0594-4ea8-b433-812f7723e06a",
   "metadata": {},
   "outputs": [],
   "source": [
    "x = input('Name: ')\n",
    "\n",
    "if x == 'Jo':\n",
    "    print('You are great!')\n",
    "elif x == 'Tim':\n",
    "    print('Bye Tim')"
   ]
  },
  {
   "cell_type": "code",
   "execution_count": null,
   "id": "1634b59b-e403-4c30-9a57-ea7b17a597f3",
   "metadata": {},
   "outputs": [],
   "source": [
    "x = input('Name: ')\n",
    "\n",
    "if x == 'Jo':\n",
    "    print('You are great!')\n",
    "elif x == 'Tim':\n",
    "    print('Bye Tim')\n",
    "elif x == 'Sarah':\n",
    "    print('Random')"
   ]
  },
  {
   "cell_type": "markdown",
   "id": "9e9edaf4-a70f-467a-be79-343530501671",
   "metadata": {},
   "source": [
    "## Lists"
   ]
  },
  {
   "cell_type": "code",
   "execution_count": 1,
   "id": "2c0434f8-5029-4025-8c03-053e9d08c107",
   "metadata": {},
   "outputs": [
    {
     "name": "stdout",
     "output_type": "stream",
     "text": [
      "3\n"
     ]
    }
   ],
   "source": [
    "x = [4, True, 'hi']\n",
    "print(len(x))"
   ]
  },
  {
   "cell_type": "code",
   "execution_count": 3,
   "id": "a4cc8333-ed3c-4a95-b8a9-b931888b7c32",
   "metadata": {},
   "outputs": [
    {
     "name": "stdout",
     "output_type": "stream",
     "text": [
      "[4, True, 'hi', 'hello']\n"
     ]
    }
   ],
   "source": [
    "x.append('hello')\n",
    "print(x)"
   ]
  },
  {
   "cell_type": "code",
   "execution_count": 5,
   "id": "b907d9e0-c23b-4acd-b8ce-58a5e0cdd6ac",
   "metadata": {},
   "outputs": [
    {
     "name": "stdout",
     "output_type": "stream",
     "text": [
      "[4, True, 'hi', 'hello', 4, 5, 5, 5, 5, 5]\n"
     ]
    }
   ],
   "source": [
    "x.extend([4, 5, 5, 5, 5, 5])\n",
    "print(x)"
   ]
  },
  {
   "cell_type": "code",
   "execution_count": 13,
   "id": "132c3a22-9110-4c62-b6bc-af3939093fe6",
   "metadata": {},
   "outputs": [
    {
     "name": "stdout",
     "output_type": "stream",
     "text": [
      "hi\n",
      "[4, True]\n"
     ]
    }
   ],
   "source": [
    "x = [4, True, 'hi']\n",
    "print(x.pop())\n",
    "print(x)"
   ]
  },
  {
   "cell_type": "code",
   "execution_count": 15,
   "id": "f4d4d910-93c9-419a-a82f-f373929ae376",
   "metadata": {},
   "outputs": [
    {
     "name": "stdout",
     "output_type": "stream",
     "text": [
      "4\n",
      "[True, 'hi']\n"
     ]
    }
   ],
   "source": [
    "x = [4, True, 'hi']\n",
    "print(x.pop(0))\n",
    "print(x)"
   ]
  },
  {
   "cell_type": "code",
   "execution_count": 17,
   "id": "3d3f3238-0607-49fe-9e47-2763e0303ad9",
   "metadata": {},
   "outputs": [
    {
     "name": "stdout",
     "output_type": "stream",
     "text": [
      "True\n"
     ]
    }
   ],
   "source": [
    "x = [4, True, 'hi']\n",
    "print(x[1])"
   ]
  },
  {
   "cell_type": "code",
   "execution_count": 21,
   "id": "f0a5a8d9-61ce-4e29-a580-0f0dbad26935",
   "metadata": {},
   "outputs": [
    {
     "name": "stdout",
     "output_type": "stream",
     "text": [
      "['hello', True, 'hi']\n"
     ]
    }
   ],
   "source": [
    "x = [4, True, 'hi']\n",
    "x[0] = 'hello'\n",
    "print(x)"
   ]
  },
  {
   "cell_type": "code",
   "execution_count": 23,
   "id": "f7b93bc8-1ac2-49ce-9810-aacac9292ed1",
   "metadata": {},
   "outputs": [
    {
     "name": "stdout",
     "output_type": "stream",
     "text": [
      "['hello', True, 'hi'] ['hello', True, 'hi']\n"
     ]
    }
   ],
   "source": [
    "x = [4, True, 'hi']\n",
    "y = x\n",
    "x[0] = 'hello'\n",
    "print(x, y)"
   ]
  },
  {
   "cell_type": "code",
   "execution_count": 25,
   "id": "22f59760-c60f-44c7-afba-be61f4e42902",
   "metadata": {},
   "outputs": [
    {
     "name": "stdout",
     "output_type": "stream",
     "text": [
      "['hello', True, 'hi'] [4, True, 'hi']\n"
     ]
    }
   ],
   "source": [
    "x = [4, True, 'hi']\n",
    "y = x[:]\n",
    "x[0] = 'hello'\n",
    "print(x, y)"
   ]
  },
  {
   "cell_type": "markdown",
   "id": "9b5e3f15-d088-4224-b4cb-e5e7c4b72ee7",
   "metadata": {},
   "source": [
    "## Tuples"
   ]
  },
  {
   "cell_type": "code",
   "execution_count": 1,
   "id": "3b3c6ad0-4c30-4b46-80c6-d1bf6494fc2f",
   "metadata": {},
   "outputs": [
    {
     "name": "stdout",
     "output_type": "stream",
     "text": [
      "<class 'tuple'>\n",
      "0\n"
     ]
    }
   ],
   "source": [
    "x = (0, 0, 2, 2)\n",
    "print(type(x))\n",
    "print(x[0])"
   ]
  },
  {
   "cell_type": "code",
   "execution_count": 3,
   "id": "9aed32b4-6539-46c5-91fa-dc0a5c42c28b",
   "metadata": {},
   "outputs": [
    {
     "ename": "TypeError",
     "evalue": "'tuple' object does not support item assignment",
     "output_type": "error",
     "traceback": [
      "\u001b[1;31m---------------------------------------------------------------------------\u001b[0m",
      "\u001b[1;31mTypeError\u001b[0m                                 Traceback (most recent call last)",
      "Cell \u001b[1;32mIn[3], line 1\u001b[0m\n\u001b[1;32m----> 1\u001b[0m \u001b[43mx\u001b[49m\u001b[43m[\u001b[49m\u001b[38;5;241;43m0\u001b[39;49m\u001b[43m]\u001b[49m \u001b[38;5;241m=\u001b[39m \u001b[38;5;241m5\u001b[39m\n",
      "\u001b[1;31mTypeError\u001b[0m: 'tuple' object does not support item assignment"
     ]
    }
   ],
   "source": [
    "x[0] = 5"
   ]
  },
  {
   "cell_type": "markdown",
   "id": "e25b0638-1c13-46fc-adbd-8c3e05eb389e",
   "metadata": {},
   "source": [
    "## For loops"
   ]
  },
  {
   "cell_type": "code",
   "execution_count": 5,
   "id": "cc339f37-5032-4758-aac2-30c3b4563ae3",
   "metadata": {},
   "outputs": [
    {
     "name": "stdout",
     "output_type": "stream",
     "text": [
      "0\n",
      "1\n",
      "2\n",
      "3\n",
      "4\n",
      "5\n",
      "6\n",
      "7\n",
      "8\n",
      "9\n"
     ]
    }
   ],
   "source": [
    "for i in range(10):\n",
    "    print(i)"
   ]
  },
  {
   "cell_type": "code",
   "execution_count": 7,
   "id": "da1ca83e-d094-4a82-9787-b2b167ea6368",
   "metadata": {},
   "outputs": [
    {
     "name": "stdout",
     "output_type": "stream",
     "text": [
      "1\n",
      "2\n",
      "3\n",
      "4\n",
      "5\n",
      "6\n",
      "7\n",
      "8\n",
      "9\n"
     ]
    }
   ],
   "source": [
    "for i in range(1, 10):\n",
    "    print(i)"
   ]
  },
  {
   "cell_type": "code",
   "execution_count": 9,
   "id": "2e071cb7-f61d-4271-b9d2-5bdd5b0204f5",
   "metadata": {},
   "outputs": [
    {
     "name": "stdout",
     "output_type": "stream",
     "text": [
      "10\n",
      "9\n",
      "8\n",
      "7\n",
      "6\n",
      "5\n",
      "4\n",
      "3\n",
      "2\n",
      "1\n",
      "0\n"
     ]
    }
   ],
   "source": [
    "for i in range(10, -1, -1):\n",
    "    print(i)"
   ]
  },
  {
   "cell_type": "code",
   "execution_count": 11,
   "id": "828513f6-6796-47cf-94b8-8d334377d33a",
   "metadata": {},
   "outputs": [
    {
     "name": "stdout",
     "output_type": "stream",
     "text": [
      "3\n",
      "4\n",
      "42\n",
      "3\n",
      "2\n",
      "4\n"
     ]
    }
   ],
   "source": [
    "for i in [3, 4, 42, 3, 2, 4]:\n",
    "    print(i)"
   ]
  },
  {
   "cell_type": "code",
   "execution_count": 17,
   "id": "fea30657-b353-4cdb-8ae3-0ca7927f7c0b",
   "metadata": {},
   "outputs": [
    {
     "name": "stdout",
     "output_type": "stream",
     "text": [
      "3\n",
      "4\n",
      "42\n",
      "3\n",
      "2\n",
      "4\n",
      "0 3\n",
      "1 4\n",
      "2 42\n",
      "3 3\n",
      "4 2\n",
      "5 4\n"
     ]
    }
   ],
   "source": [
    "x = [3, 4, 42, 3, 2, 4]\n",
    "\n",
    "for i in range(len(x)):\n",
    "    print(x[i])\n",
    "\n",
    "for i, element in enumerate(x):\n",
    "    print(i, element)"
   ]
  },
  {
   "cell_type": "markdown",
   "id": "1bc12961-bd00-4600-b6d4-1d264a80090c",
   "metadata": {},
   "source": [
    "## While loops"
   ]
  },
  {
   "cell_type": "code",
   "execution_count": 20,
   "id": "249c1333-210e-4cc0-80e0-e74e88891e36",
   "metadata": {},
   "outputs": [
    {
     "name": "stdout",
     "output_type": "stream",
     "text": [
      "run\n",
      "run\n",
      "run\n",
      "run\n",
      "run\n",
      "run\n",
      "run\n",
      "run\n",
      "run\n",
      "run\n"
     ]
    }
   ],
   "source": [
    "i = 0\n",
    "while i < 10:\n",
    "    print('run')\n",
    "    i += 1"
   ]
  },
  {
   "cell_type": "code",
   "execution_count": 22,
   "id": "396338ef-813d-42e4-815d-abf2bcd9a1ab",
   "metadata": {},
   "outputs": [
    {
     "name": "stdout",
     "output_type": "stream",
     "text": [
      "run\n",
      "run\n",
      "run\n",
      "run\n",
      "run\n",
      "run\n",
      "run\n",
      "run\n",
      "run\n",
      "run\n"
     ]
    }
   ],
   "source": [
    "i = 0\n",
    "while True:\n",
    "    print('run')\n",
    "    i += 1\n",
    "    if i == 10:\n",
    "        break"
   ]
  },
  {
   "cell_type": "markdown",
   "id": "10fcc7cc-53a1-4646-b7ef-d8d18d435158",
   "metadata": {},
   "source": [
    "## Slice operator"
   ]
  },
  {
   "cell_type": "code",
   "execution_count": 47,
   "id": "88190405-1802-4513-8227-d90068b84d0d",
   "metadata": {},
   "outputs": [
    {
     "name": "stdout",
     "output_type": "stream",
     "text": [
      "[0, 2]\n",
      "[0, 1, 2, 3, 4, 5, 6, 7, 8]\n",
      "[0, 2, 4, 6, 8]\n",
      "[0, 1]\n",
      "[4, 3]\n",
      "[8, 7, 6, 5, 4, 3, 2, 1, 0]\n",
      "olleh\n",
      "hlo\n",
      "(1, 3, 4, 2)\n"
     ]
    }
   ],
   "source": [
    "x = [0, 1, 2, 3, 4, 5, 6, 7, 8]\n",
    "y = ['hi', 'hello', 'goodbye', 'cya', 'sure']\n",
    "s = \"hello\"\n",
    "\n",
    "sliced = x[0:4:2]\n",
    "print(sliced)\n",
    "\n",
    "print(x[0::])\n",
    "print(x[0::2])\n",
    "print(x[:2:])\n",
    "print(x[4:2:-1])\n",
    "\n",
    "print(x[::-1])\n",
    "\n",
    "print(s[::-1])\n",
    "print(s[::2])\n",
    "\n",
    "sliced = (1, 2, 3, 4, 4, 2, 2, 1)[::2]\n",
    "print(sliced)"
   ]
  },
  {
   "cell_type": "markdown",
   "id": "c6050525-8744-4116-a6e1-d6c4fe0f4f39",
   "metadata": {},
   "source": [
    "## Sets"
   ]
  }
 ],
 "metadata": {
  "kernelspec": {
   "display_name": "Python 3 (ipykernel)",
   "language": "python",
   "name": "python3"
  },
  "language_info": {
   "codemirror_mode": {
    "name": "ipython",
    "version": 3
   },
   "file_extension": ".py",
   "mimetype": "text/x-python",
   "name": "python",
   "nbconvert_exporter": "python",
   "pygments_lexer": "ipython3",
   "version": "3.12.4"
  }
 },
 "nbformat": 4,
 "nbformat_minor": 5
}
