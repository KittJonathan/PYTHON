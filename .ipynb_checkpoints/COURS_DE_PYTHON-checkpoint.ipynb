{
 "cells": [
  {
   "cell_type": "markdown",
   "id": "57167d7a-37ed-495d-aca8-06090a3f82fa",
   "metadata": {},
   "source": [
    "Prise de notes a partir du livre en ligne https://python.sdv.u-paris.fr/"
   ]
  },
  {
   "cell_type": "markdown",
   "id": "57d0b6b5-2c0b-4ecf-b8e2-ae23b9a95d25",
   "metadata": {},
   "source": [
    "# 1. Introduction"
   ]
  },
  {
   "cell_type": "code",
   "execution_count": 5,
   "id": "6b3f737f-5537-4c6d-963d-e9d73c570c33",
   "metadata": {},
   "outputs": [
    {
     "name": "stdout",
     "output_type": "stream",
     "text": [
      "Hello world!\n"
     ]
    }
   ],
   "source": [
    "print('Hello world!')"
   ]
  },
  {
   "cell_type": "code",
   "execution_count": 7,
   "id": "2675b588-bad2-4645-bed4-dde5b06fde9b",
   "metadata": {},
   "outputs": [
    {
     "data": {
      "text/plain": [
       "2"
      ]
     },
     "execution_count": 7,
     "metadata": {},
     "output_type": "execute_result"
    }
   ],
   "source": [
    "1 + 1"
   ]
  },
  {
   "cell_type": "code",
   "execution_count": 9,
   "id": "30ac9bd0-b3fa-4742-ba7b-543eeb4ba154",
   "metadata": {},
   "outputs": [
    {
     "data": {
      "text/plain": [
       "18"
      ]
     },
     "execution_count": 9,
     "metadata": {},
     "output_type": "execute_result"
    }
   ],
   "source": [
    "6*3"
   ]
  },
  {
   "cell_type": "code",
   "execution_count": 19,
   "id": "4dbec8a3-a9f7-4dbb-a7e3-913b9bb90090",
   "metadata": {},
   "outputs": [
    {
     "name": "stdout",
     "output_type": "stream",
     "text": [
      "Hello world!\n"
     ]
    }
   ],
   "source": [
    "%run test.py"
   ]
  },
  {
   "cell_type": "markdown",
   "id": "752d5693-63a9-4941-9d2d-08de5d3da792",
   "metadata": {},
   "source": [
    "# 2. Variables"
   ]
  },
  {
   "cell_type": "code",
   "execution_count": 1,
   "id": "72cc48e2-6868-47db-904b-ca257e6cd626",
   "metadata": {},
   "outputs": [
    {
     "data": {
      "text/plain": [
       "2"
      ]
     },
     "execution_count": 1,
     "metadata": {},
     "output_type": "execute_result"
    }
   ],
   "source": [
    "x = 2\n",
    "x"
   ]
  },
  {
   "cell_type": "code",
   "execution_count": 3,
   "id": "c439fff4-73f8-447f-a670-7600f2ae8bfc",
   "metadata": {},
   "outputs": [
    {
     "ename": "NameError",
     "evalue": "name 'voyelle' is not defined",
     "output_type": "error",
     "traceback": [
      "\u001b[1;31m---------------------------------------------------------------------------\u001b[0m",
      "\u001b[1;31mNameError\u001b[0m                                 Traceback (most recent call last)",
      "Cell \u001b[1;32mIn[3], line 2\u001b[0m\n\u001b[0;32m      1\u001b[0m voyelles \u001b[38;5;241m=\u001b[39m \u001b[38;5;124m\"\u001b[39m\u001b[38;5;124maeiouy\u001b[39m\u001b[38;5;124m\"\u001b[39m\n\u001b[1;32m----> 2\u001b[0m \u001b[43mvoyelle\u001b[49m\n",
      "\u001b[1;31mNameError\u001b[0m: name 'voyelle' is not defined"
     ]
    }
   ],
   "source": [
    "voyelles = \"aeiouy\"\n",
    "voyelle"
   ]
  },
  {
   "cell_type": "code",
   "execution_count": 5,
   "id": "fc8e2fcb-28b8-44bf-ab4d-848d2ea31eab",
   "metadata": {},
   "outputs": [
    {
     "ename": "NameError",
     "evalue": "name 'farmacia' is not defined",
     "output_type": "error",
     "traceback": [
      "\u001b[1;31m---------------------------------------------------------------------------\u001b[0m",
      "\u001b[1;31mNameError\u001b[0m                                 Traceback (most recent call last)",
      "Cell \u001b[1;32mIn[5], line 2\u001b[0m\n\u001b[0;32m      1\u001b[0m pharmacie \u001b[38;5;241m=\u001b[39m \u001b[38;5;124m\"\u001b[39m\u001b[38;5;124mvente de médicaments\u001b[39m\u001b[38;5;124m\"\u001b[39m\n\u001b[1;32m----> 2\u001b[0m \u001b[43mfarmacia\u001b[49m\n",
      "\u001b[1;31mNameError\u001b[0m: name 'farmacia' is not defined"
     ]
    }
   ],
   "source": [
    "pharmacie = \"vente de médicaments\"\n",
    "farmacia"
   ]
  },
  {
   "cell_type": "code",
   "execution_count": 9,
   "id": "b27ed9c1-aede-497d-8584-05e867ffb34f",
   "metadata": {},
   "outputs": [
    {
     "data": {
      "text/plain": [
       "2"
      ]
     },
     "execution_count": 9,
     "metadata": {},
     "output_type": "execute_result"
    }
   ],
   "source": [
    "x = 2\n",
    "y = x\n",
    "y"
   ]
  },
  {
   "cell_type": "code",
   "execution_count": 13,
   "id": "bbb60af1-3e57-4ded-9b4f-b9e2e2c0e1db",
   "metadata": {},
   "outputs": [
    {
     "data": {
      "text/plain": [
       "3"
      ]
     },
     "execution_count": 13,
     "metadata": {},
     "output_type": "execute_result"
    }
   ],
   "source": [
    "x = 5 - 2\n",
    "x"
   ]
  },
  {
   "cell_type": "code",
   "execution_count": 15,
   "id": "0f5bb284-3a92-41fb-ace4-6ee4d304a889",
   "metadata": {},
   "outputs": [
    {
     "data": {
      "text/plain": [
       "3.14"
      ]
     },
     "execution_count": 15,
     "metadata": {},
     "output_type": "execute_result"
    }
   ],
   "source": [
    "y = 3.14\n",
    "y"
   ]
  },
  {
   "cell_type": "code",
   "execution_count": 17,
   "id": "d3159c8f-fb65-4244-853c-fe75e5d2f396",
   "metadata": {},
   "outputs": [
    {
     "data": {
      "text/plain": [
       "'bonjour'"
      ]
     },
     "execution_count": 17,
     "metadata": {},
     "output_type": "execute_result"
    }
   ],
   "source": [
    "a = \"bonjour\"\n",
    "a"
   ]
  },
  {
   "cell_type": "code",
   "execution_count": 19,
   "id": "df57b9eb-bc1b-4f14-ac0a-e3c04418e866",
   "metadata": {},
   "outputs": [
    {
     "data": {
      "text/plain": [
       "'salut'"
      ]
     },
     "execution_count": 19,
     "metadata": {},
     "output_type": "execute_result"
    }
   ],
   "source": [
    "b = 'salut'\n",
    "b"
   ]
  },
  {
   "cell_type": "code",
   "execution_count": 21,
   "id": "62eb501e-d2cf-4655-aac5-fdb22bad6590",
   "metadata": {},
   "outputs": [
    {
     "data": {
      "text/plain": [
       "'girafe'"
      ]
     },
     "execution_count": 21,
     "metadata": {},
     "output_type": "execute_result"
    }
   ],
   "source": [
    "c = \"\"\"girafe\"\"\"\n",
    "c"
   ]
  },
  {
   "cell_type": "code",
   "execution_count": 23,
   "id": "22225599-d36a-4ed1-8d1a-4fdbf0c40349",
   "metadata": {},
   "outputs": [
    {
     "data": {
      "text/plain": [
       "'lion'"
      ]
     },
     "execution_count": 23,
     "metadata": {},
     "output_type": "execute_result"
    }
   ],
   "source": [
    "d = '''lion'''\n",
    "d"
   ]
  },
  {
   "cell_type": "code",
   "execution_count": 27,
   "id": "f8096740-ed66-4600-a081-58612d7a9bdc",
   "metadata": {},
   "outputs": [
    {
     "data": {
      "text/plain": [
       "True"
      ]
     },
     "execution_count": 27,
     "metadata": {},
     "output_type": "execute_result"
    }
   ],
   "source": [
    "var = True\n",
    "var"
   ]
  },
  {
   "cell_type": "code",
   "execution_count": 29,
   "id": "d5fff603-3f3c-483f-b645-e7bea2ef43b4",
   "metadata": {},
   "outputs": [
    {
     "data": {
      "text/plain": [
       "False"
      ]
     },
     "execution_count": 29,
     "metadata": {},
     "output_type": "execute_result"
    }
   ],
   "source": [
    "var2 = False\n",
    "var2"
   ]
  },
  {
   "cell_type": "code",
   "execution_count": 31,
   "id": "7ecf0efa-cf70-4d30-9b39-fbd6d97750b2",
   "metadata": {},
   "outputs": [
    {
     "data": {
      "text/plain": [
       "1000000.0"
      ]
     },
     "execution_count": 31,
     "metadata": {},
     "output_type": "execute_result"
    }
   ],
   "source": [
    "1e6"
   ]
  },
  {
   "cell_type": "code",
   "execution_count": 33,
   "id": "3686caed-db26-4331-96d2-216627442da7",
   "metadata": {},
   "outputs": [
    {
     "data": {
      "text/plain": [
       "0.00312"
      ]
     },
     "execution_count": 33,
     "metadata": {},
     "output_type": "execute_result"
    }
   ],
   "source": [
    "3.12e-3"
   ]
  },
  {
   "cell_type": "code",
   "execution_count": 35,
   "id": "84a061ec-dcb3-4edb-a44f-1622d1d42c47",
   "metadata": {},
   "outputs": [
    {
     "data": {
      "text/plain": [
       "6.02214076e+23"
      ]
     },
     "execution_count": 35,
     "metadata": {},
     "output_type": "execute_result"
    }
   ],
   "source": [
    "avogadro_number = 6.022_140_76e23\n",
    "avogadro_number"
   ]
  },
  {
   "cell_type": "code",
   "execution_count": 37,
   "id": "f48036ab-2213-4908-bc49-a8f0aa08c4a6",
   "metadata": {},
   "outputs": [
    {
     "name": "stdout",
     "output_type": "stream",
     "text": [
      "8094752749\n"
     ]
    }
   ],
   "source": [
    "humans_on_earth = 8_094_752_749\n",
    "print(humans_on_earth)"
   ]
  },
  {
   "cell_type": "code",
   "execution_count": 39,
   "id": "b697b6ca-28a2-47a7-9d7a-393f9fd047d3",
   "metadata": {},
   "outputs": [
    {
     "name": "stdout",
     "output_type": "stream",
     "text": [
      "8094752749\n"
     ]
    }
   ],
   "source": [
    "print(80_94_7527_49)"
   ]
  },
  {
   "cell_type": "code",
   "execution_count": 41,
   "id": "82fff15c-6877-47ba-ad66-ff7917336ff4",
   "metadata": {},
   "outputs": [
    {
     "name": "stdout",
     "output_type": "stream",
     "text": [
      "47\n",
      "43\n",
      "135\n"
     ]
    }
   ],
   "source": [
    "x = 45\n",
    "print(x + 2)\n",
    "print(x - 2)\n",
    "print(x * 3)"
   ]
  },
  {
   "cell_type": "code",
   "execution_count": 43,
   "id": "2dc2d4fd-d2be-46d0-b41b-d99ccd5a5b30",
   "metadata": {},
   "outputs": [
    {
     "name": "stdout",
     "output_type": "stream",
     "text": [
      "42.5\n",
      "452.5\n"
     ]
    }
   ],
   "source": [
    "y = 2.5\n",
    "print(x - y)\n",
    "print((x * 10) + y)"
   ]
  },
  {
   "cell_type": "code",
   "execution_count": 45,
   "id": "7cee00e6-185a-4829-b214-a1013c601e92",
   "metadata": {},
   "outputs": [
    {
     "name": "stdout",
     "output_type": "stream",
     "text": [
      "0.75\n",
      "1.25\n"
     ]
    }
   ],
   "source": [
    "print(3 / 4)\n",
    "print(2.5 / 2)"
   ]
  },
  {
   "cell_type": "code",
   "execution_count": 47,
   "id": "0576a6f3-90dc-427a-b62a-f34e6640b608",
   "metadata": {},
   "outputs": [
    {
     "name": "stdout",
     "output_type": "stream",
     "text": [
      "8\n",
      "16\n"
     ]
    }
   ],
   "source": [
    "print(2 ** 3)\n",
    "print(2 ** 4)"
   ]
  },
  {
   "cell_type": "code",
   "execution_count": 49,
   "id": "a84494e7-390c-4c0f-8bdf-1670c825bc5b",
   "metadata": {},
   "outputs": [
    {
     "name": "stdout",
     "output_type": "stream",
     "text": [
      "1\n",
      "1\n",
      "2\n",
      "0\n"
     ]
    }
   ],
   "source": [
    "print(5 // 4)\n",
    "print(5 % 4)\n",
    "print(8 // 4)\n",
    "print(8 % 4)"
   ]
  },
  {
   "cell_type": "code",
   "execution_count": 57,
   "id": "0b8e54b2-866e-445d-a2c5-112e8bc3c0c4",
   "metadata": {},
   "outputs": [
    {
     "name": "stdout",
     "output_type": "stream",
     "text": [
      "1\n",
      "2\n",
      "4\n"
     ]
    }
   ],
   "source": [
    "i = 0\n",
    "i = i + 1\n",
    "print(i)\n",
    "i += 1\n",
    "print(i)\n",
    "i += 2\n",
    "print(i)"
   ]
  },
  {
   "cell_type": "code",
   "execution_count": 63,
   "id": "e7e24834-595f-45f6-9a7a-be16c887512c",
   "metadata": {},
   "outputs": [
    {
     "name": "stdout",
     "output_type": "stream",
     "text": [
      "Salut\n",
      "Salut Python\n",
      "SalutSalutSalut\n"
     ]
    }
   ],
   "source": [
    "chaine = \"Salut\"\n",
    "print(chaine)\n",
    "print(chaine + \" Python\")\n",
    "print(chaine * 3)"
   ]
  },
  {
   "cell_type": "code",
   "execution_count": 71,
   "id": "bc15a6e1-5652-4e92-87a7-0459cd9aeb48",
   "metadata": {},
   "outputs": [
    {
     "ename": "TypeError",
     "evalue": "can't multiply sequence by non-int of type 'float'",
     "output_type": "error",
     "traceback": [
      "\u001b[1;31m---------------------------------------------------------------------------\u001b[0m",
      "\u001b[1;31mTypeError\u001b[0m                                 Traceback (most recent call last)",
      "Cell \u001b[1;32mIn[71], line 1\u001b[0m\n\u001b[1;32m----> 1\u001b[0m \u001b[38;5;28mprint\u001b[39m(\u001b[38;5;124;43m\"\u001b[39;49m\u001b[38;5;124;43mtoto\u001b[39;49m\u001b[38;5;124;43m\"\u001b[39;49m\u001b[43m \u001b[49m\u001b[38;5;241;43m*\u001b[39;49m\u001b[43m \u001b[49m\u001b[38;5;241;43m1.3\u001b[39;49m)\n\u001b[0;32m      2\u001b[0m \u001b[38;5;28mprint\u001b[39m(\u001b[38;5;124m\"\u001b[39m\u001b[38;5;124mtoto\u001b[39m\u001b[38;5;124m\"\u001b[39m \u001b[38;5;241m+\u001b[39m \u001b[38;5;241m2\u001b[39m)\n",
      "\u001b[1;31mTypeError\u001b[0m: can't multiply sequence by non-int of type 'float'"
     ]
    }
   ],
   "source": [
    "print(\"toto\" * 1.3)\n",
    "print(\"toto\" + 2)"
   ]
  },
  {
   "cell_type": "code",
   "execution_count": 77,
   "id": "7f64ec45-245f-4766-8ae6-bba632f97c0a",
   "metadata": {},
   "outputs": [
    {
     "data": {
      "text/plain": [
       "int"
      ]
     },
     "execution_count": 77,
     "metadata": {},
     "output_type": "execute_result"
    }
   ],
   "source": [
    "x = 2\n",
    "type(x)"
   ]
  },
  {
   "cell_type": "code",
   "execution_count": 79,
   "id": "08da13af-be75-4e58-afa0-f6b7c164d51c",
   "metadata": {},
   "outputs": [
    {
     "data": {
      "text/plain": [
       "float"
      ]
     },
     "execution_count": 79,
     "metadata": {},
     "output_type": "execute_result"
    }
   ],
   "source": [
    "y = 22.0\n",
    "type(y)"
   ]
  },
  {
   "cell_type": "code",
   "execution_count": 81,
   "id": "69d21d02-bcde-4587-96f4-1f3076c11ff6",
   "metadata": {},
   "outputs": [
    {
     "data": {
      "text/plain": [
       "str"
      ]
     },
     "execution_count": 81,
     "metadata": {},
     "output_type": "execute_result"
    }
   ],
   "source": [
    "z = '2'\n",
    "type(z)"
   ]
  },
  {
   "cell_type": "code",
   "execution_count": 83,
   "id": "9416c08f-b347-46a9-bab7-46d0e2e40b29",
   "metadata": {},
   "outputs": [
    {
     "data": {
      "text/plain": [
       "bool"
      ]
     },
     "execution_count": 83,
     "metadata": {},
     "output_type": "execute_result"
    }
   ],
   "source": [
    "type(True)"
   ]
  },
  {
   "cell_type": "code",
   "execution_count": 85,
   "id": "d1a71e61-ce94-40eb-b838-150d8bb1008d",
   "metadata": {},
   "outputs": [
    {
     "data": {
      "text/plain": [
       "'3'"
      ]
     },
     "execution_count": 85,
     "metadata": {},
     "output_type": "execute_result"
    }
   ],
   "source": [
    "i = 3\n",
    "str(i)"
   ]
  },
  {
   "cell_type": "code",
   "execution_count": 87,
   "id": "9c620678-a0d5-4c1d-87db-fb656cb17de2",
   "metadata": {},
   "outputs": [
    {
     "data": {
      "text/plain": [
       "456"
      ]
     },
     "execution_count": 87,
     "metadata": {},
     "output_type": "execute_result"
    }
   ],
   "source": [
    "i = '456'\n",
    "int(i)"
   ]
  },
  {
   "cell_type": "code",
   "execution_count": 89,
   "id": "62974494-2d0e-4e89-b776-a760a7030093",
   "metadata": {},
   "outputs": [
    {
     "data": {
      "text/plain": [
       "456.0"
      ]
     },
     "execution_count": 89,
     "metadata": {},
     "output_type": "execute_result"
    }
   ],
   "source": [
    "float(i)"
   ]
  },
  {
   "cell_type": "code",
   "execution_count": 91,
   "id": "49c8cce4-1602-4d2f-8a84-0c7825366f1a",
   "metadata": {},
   "outputs": [
    {
     "data": {
      "text/plain": [
       "3.1416"
      ]
     },
     "execution_count": 91,
     "metadata": {},
     "output_type": "execute_result"
    }
   ],
   "source": [
    "i = '3.1416'\n",
    "float(i)"
   ]
  },
  {
   "cell_type": "code",
   "execution_count": 93,
   "id": "712e37e1-a7fa-4e6a-a733-f4c00e08c122",
   "metadata": {},
   "outputs": [
    {
     "data": {
      "text/plain": [
       "-2"
      ]
     },
     "execution_count": 93,
     "metadata": {},
     "output_type": "execute_result"
    }
   ],
   "source": [
    "min(1, -2, 4)"
   ]
  },
  {
   "cell_type": "code",
   "execution_count": 95,
   "id": "d7813926-1424-4699-8dbd-578da9971d4b",
   "metadata": {},
   "outputs": [
    {
     "data": {
      "text/plain": [
       "3.14"
      ]
     },
     "execution_count": 95,
     "metadata": {},
     "output_type": "execute_result"
    }
   ],
   "source": [
    "pi = 3.14\n",
    "e = 2.71\n",
    "max(e, pi)"
   ]
  },
  {
   "cell_type": "code",
   "execution_count": 97,
   "id": "dce43f0b-4cef-40e6-8649-ceabecab06bc",
   "metadata": {},
   "outputs": [
    {
     "data": {
      "text/plain": [
       "2.4"
      ]
     },
     "execution_count": 97,
     "metadata": {},
     "output_type": "execute_result"
    }
   ],
   "source": [
    "max(1, 2.4, -6)"
   ]
  },
  {
   "cell_type": "code",
   "execution_count": 109,
   "id": "10b018f3-c598-4433-9837-d999e4568610",
   "metadata": {},
   "outputs": [
    {
     "name": "stdout",
     "output_type": "stream",
     "text": [
      "736\n",
      "343\n",
      "724\n",
      "1285\n",
      "2187\n"
     ]
    }
   ],
   "source": [
    "print(7 + 3**6)\n",
    "print((3 + 4) ** 3)\n",
    "print(3**6 - 5)\n",
    "print((1 + 2**8) * 5)\n",
    "print((2 + 1 ** 8) ** 7)"
   ]
  },
  {
   "cell_type": "code",
   "execution_count": 139,
   "id": "25e613d5-951a-43b3-abb1-e8d7056eb3c9",
   "metadata": {},
   "outputs": [
    {
     "name": "stdout",
     "output_type": "stream",
     "text": [
      "27\n",
      "DaDaDaDa\n",
      "PaLaPaLa\n",
      "2.5\n",
      "2\n",
      "1\n"
     ]
    }
   ],
   "source": [
    "print((1 + 2) ** 3)\n",
    "print(\"Da\" * 4)\n",
    "#print(\"Da\" + 3)\n",
    "print((\"Pa\" + \"La\") * 2)\n",
    "#print((\"Da\" * 4) / 2)\n",
    "print(5 / 2)\n",
    "print(5 // 2)\n",
    "print(5 % 2)"
   ]
  },
  {
   "cell_type": "code",
   "execution_count": 155,
   "id": "4ec6c614-3297-4b66-a9b1-44a24930a7b7",
   "metadata": {},
   "outputs": [
    {
     "name": "stdout",
     "output_type": "stream",
     "text": [
      "444\n",
      "6.2\n",
      "0.750.75\n"
     ]
    }
   ],
   "source": [
    "print(str(4) * int(\"3\"))\n",
    "print(int(\"3\") + float(\"3.2\"))\n",
    "#print(str(3) * float(\"3.2\"))\n",
    "print(str(3/4) * 2)"
   ]
  },
  {
   "cell_type": "markdown",
   "id": "363a5150-547d-4c93-87da-449df9f2084c",
   "metadata": {},
   "source": [
    "# 3. Affichage"
   ]
  },
  {
   "cell_type": "code",
   "execution_count": 160,
   "id": "d304de6d-c056-458e-92e7-0f19e4b15969",
   "metadata": {},
   "outputs": [
    {
     "name": "stdout",
     "output_type": "stream",
     "text": [
      "Hello world!\n"
     ]
    }
   ],
   "source": [
    "print(\"Hello world!\")"
   ]
  },
  {
   "cell_type": "code",
   "execution_count": 162,
   "id": "0931ff27-6b1b-4fac-9188-3b256e44f638",
   "metadata": {},
   "outputs": [
    {
     "name": "stdout",
     "output_type": "stream",
     "text": [
      "Hello world!"
     ]
    }
   ],
   "source": [
    "print(\"Hello world!\", end=\"\")"
   ]
  },
  {
   "cell_type": "code",
   "execution_count": 164,
   "id": "644ae6d3-f04f-4c4e-b024-2892c341a301",
   "metadata": {},
   "outputs": [
    {
     "name": "stdout",
     "output_type": "stream",
     "text": [
      "Hello\n",
      "Joe\n"
     ]
    }
   ],
   "source": [
    "print(\"Hello\") ; print(\"Joe\")"
   ]
  },
  {
   "cell_type": "code",
   "execution_count": 166,
   "id": "a0a833c4-0833-41ba-8cdb-ce3ef8b80ec0",
   "metadata": {},
   "outputs": [
    {
     "name": "stdout",
     "output_type": "stream",
     "text": [
      "HelloJoe\n"
     ]
    }
   ],
   "source": [
    "print(\"Hello\", end=\"\") ; print(\"Joe\")"
   ]
  },
  {
   "cell_type": "code",
   "execution_count": 168,
   "id": "46a5d656-8550-4096-a479-2614af7dddc0",
   "metadata": {},
   "outputs": [
    {
     "name": "stdout",
     "output_type": "stream",
     "text": [
      "Hello Joe\n"
     ]
    }
   ],
   "source": [
    "print(\"Hello\", end = \" \") ; print(\"Joe\")"
   ]
  },
  {
   "cell_type": "code",
   "execution_count": 170,
   "id": "68e90e5f-5956-4fc3-8a03-e2c913bb639c",
   "metadata": {},
   "outputs": [
    {
     "name": "stdout",
     "output_type": "stream",
     "text": [
      "3\n"
     ]
    }
   ],
   "source": [
    "var = 3\n",
    "print(var)"
   ]
  },
  {
   "cell_type": "code",
   "execution_count": 172,
   "id": "3b04fb7b-8f72-4c88-9013-35c2b95db536",
   "metadata": {},
   "outputs": [
    {
     "name": "stdout",
     "output_type": "stream",
     "text": [
      "John a 32 ans\n"
     ]
    }
   ],
   "source": [
    "x = 32\n",
    "nom = \"John\"\n",
    "print(nom, \"a\", x, \"ans\")"
   ]
  },
  {
   "cell_type": "code",
   "execution_count": 174,
   "id": "beca7ee3-d758-409a-805e-49102af814b1",
   "metadata": {},
   "outputs": [
    {
     "name": "stdout",
     "output_type": "stream",
     "text": [
      "Johna32ans\n"
     ]
    }
   ],
   "source": [
    "x = 32\n",
    "nom = \"John\"\n",
    "print(nom, \"a\", x, \"ans\", sep=\"\")"
   ]
  },
  {
   "cell_type": "code",
   "execution_count": 176,
   "id": "e230c568-021d-4828-babb-a35ac5f2f7ff",
   "metadata": {},
   "outputs": [
    {
     "name": "stdout",
     "output_type": "stream",
     "text": [
      "John-a-32-ans\n"
     ]
    }
   ],
   "source": [
    "x = 32\n",
    "nom = \"John\"\n",
    "print(nom, \"a\", x, \"ans\", sep=\"-\")"
   ]
  },
  {
   "cell_type": "code",
   "execution_count": 178,
   "id": "ec3d843c-2af7-4a8c-8adb-6de9b10851fe",
   "metadata": {},
   "outputs": [
    {
     "name": "stdout",
     "output_type": "stream",
     "text": [
      "John_a_32_ans\n"
     ]
    }
   ],
   "source": [
    "x = 32\n",
    "nom = \"John\"\n",
    "print(nom, \"a\", x, \"ans\", sep=\"_\")"
   ]
  },
  {
   "cell_type": "code",
   "execution_count": 184,
   "id": "4ffe6bb1-4598-400e-a677-1232faa264e0",
   "metadata": {},
   "outputs": [
    {
     "name": "stdout",
     "output_type": "stream",
     "text": [
      "chat souris\n",
      "chatsouris\n",
      "chat souris\n"
     ]
    }
   ],
   "source": [
    "ani1 = \"chat\"\n",
    "ani2 = \"souris\"\n",
    "print(ani1, ani2)\n",
    "print(ani1 + ani2)\n",
    "print(ani1, ani2, sep=\" \")"
   ]
  },
  {
   "cell_type": "code",
   "execution_count": 186,
   "id": "7f127312-40ee-4de2-b27b-b07db097cb6d",
   "metadata": {},
   "outputs": [
    {
     "data": {
      "text/plain": [
       "'Ceci est une chaîne de caractères'"
      ]
     },
     "execution_count": 186,
     "metadata": {},
     "output_type": "execute_result"
    }
   ],
   "source": [
    "\"Ceci est une chaîne de caractères\""
   ]
  },
  {
   "cell_type": "code",
   "execution_count": 188,
   "id": "5881cba0-4000-4923-9061-588d4de4d751",
   "metadata": {},
   "outputs": [
    {
     "data": {
      "text/plain": [
       "'Ceci est une chaîne de caractères'"
      ]
     },
     "execution_count": 188,
     "metadata": {},
     "output_type": "execute_result"
    }
   ],
   "source": [
    "f\"Ceci est une chaîne de caractères\""
   ]
  },
  {
   "cell_type": "code",
   "execution_count": 194,
   "id": "405c0fb4-e993-4383-bf20-6763be64fd3a",
   "metadata": {},
   "outputs": [
    {
     "name": "stdout",
     "output_type": "stream",
     "text": [
      "John a 32 ans\n",
      "John a 32 ans\n",
      "{nom} a {x} ans\n"
     ]
    }
   ],
   "source": [
    "x = 32\n",
    "nom = \"John\"\n",
    "print(f\"{nom} a {x} ans\")\n",
    "print(nom, \"a\", x, \"ans\")\n",
    "print(\"{nom} a {x} ans\")"
   ]
  },
  {
   "cell_type": "code",
   "execution_count": 196,
   "id": "7bd9757b-295f-404b-868e-a76e9ae7eb04",
   "metadata": {},
   "outputs": [
    {
     "name": "stdout",
     "output_type": "stream",
     "text": [
      "to et to font toto\n"
     ]
    }
   ],
   "source": [
    "var = \"to\"\n",
    "print(f\"{var} et {var} font {var}{var}\")"
   ]
  },
  {
   "cell_type": "code",
   "execution_count": 200,
   "id": "0aaf22fa-22a9-40d8-a454-0655f8baf841",
   "metadata": {},
   "outputs": [
    {
     "name": "stdout",
     "output_type": "stream",
     "text": [
      "J'affiche l'entier 10 et le float 3.14\n",
      "J'affiche la chaine Python\n"
     ]
    }
   ],
   "source": [
    "print(f\"J'affiche l'entier {10} et le float {3.14}\")\n",
    "print(f\"J'affiche la chaine {'Python'}\")"
   ]
  },
  {
   "cell_type": "code",
   "execution_count": 1,
   "id": "6e6d490e-971d-449f-8316-8099be89c0a7",
   "metadata": {},
   "outputs": [
    {
     "name": "stdout",
     "output_type": "stream",
     "text": [
      "La proportion de GC est 0.4780405405405405\n",
      "La proportion de GC est 0.48\n",
      "La proportion de GC est 0.478\n"
     ]
    }
   ],
   "source": [
    "prop_GC = (4500 + 2575) / 14800\n",
    "print(\"La proportion de GC est\", prop_GC)\n",
    "print(f\"La proportion de GC est {prop_GC:.2f}\")\n",
    "print(f\"La proportion de GC est {prop_GC:.3f}\")"
   ]
  },
  {
   "cell_type": "code",
   "execution_count": 3,
   "id": "4ad22a7f-7f05-44de-91c1-ad3f97356708",
   "metadata": {},
   "outputs": [
    {
     "name": "stdout",
     "output_type": "stream",
     "text": [
      "Ce génome contient 4500 guanines\n",
      "Ce génome contient 4500 guanines\n"
     ]
    }
   ],
   "source": [
    "nb_G = 4500\n",
    "print(f\"Ce génome contient {nb_G} guanines\")\n",
    "print(f\"Ce génome contient {nb_G:d} guanines\")"
   ]
  },
  {
   "cell_type": "code",
   "execution_count": 4,
   "id": "1b5284e3-c7b4-4bef-9555-d9df7b88fe63",
   "metadata": {},
   "outputs": [
    {
     "name": "stdout",
     "output_type": "stream",
     "text": [
      "Ce génome contient 4500 G et 2575 C, soit une proportion de 0.48\n"
     ]
    }
   ],
   "source": [
    "nb_G = 4500\n",
    "nb_C = 2575\n",
    "print(f\"Ce génome contient {nb_G:d} G et {nb_C:d} C, \"\n",
    "      f\"soit une proportion de {prop_GC:.2f}\")"
   ]
  },
  {
   "cell_type": "code",
   "execution_count": 11,
   "id": "d8a7eeb5-64a6-4e5f-8882-0fff748ee0a4",
   "metadata": {},
   "outputs": [
    {
     "name": "stdout",
     "output_type": "stream",
     "text": [
      "Ce génome contient 4500 G et 2575 C, soit un %GC de 47.80 %\n"
     ]
    }
   ],
   "source": [
    "perc_GC = prop_GC * 100\n",
    "print(f\"Ce génome contient {nb_G:d} G et {nb_C:d} C, \"\n",
    "      f\"soit un %GC de {perc_GC:.2f} %\")"
   ]
  },
  {
   "cell_type": "code",
   "execution_count": 13,
   "id": "ce993bcf-cadc-4c40-99b1-41f1a63f4ae8",
   "metadata": {},
   "outputs": [
    {
     "name": "stdout",
     "output_type": "stream",
     "text": [
      "10\n",
      "1000\n"
     ]
    }
   ],
   "source": [
    "print(10) ; print(1000)"
   ]
  },
  {
   "cell_type": "code",
   "execution_count": 17,
   "id": "439c93e7-3ad6-4073-a0b0-7d49879bc2c8",
   "metadata": {},
   "outputs": [
    {
     "name": "stdout",
     "output_type": "stream",
     "text": [
      "    10\n",
      "  1000\n"
     ]
    }
   ],
   "source": [
    "print(f\"{10:>6d}\") ; print(f\"{1000:>6d}\")"
   ]
  },
  {
   "cell_type": "code",
   "execution_count": 19,
   "id": "269ef197-c727-47dc-a719-5b2e4c454077",
   "metadata": {},
   "outputs": [
    {
     "name": "stdout",
     "output_type": "stream",
     "text": [
      "10    \n",
      "1000  \n"
     ]
    }
   ],
   "source": [
    "print(f\"{10:<6d}\") ; print(f\"{1000:<6d}\")"
   ]
  },
  {
   "cell_type": "code",
   "execution_count": 21,
   "id": "9afb2b10-ea4a-4c1d-bd7e-badcfd72afdf",
   "metadata": {},
   "outputs": [
    {
     "name": "stdout",
     "output_type": "stream",
     "text": [
      "  10  \n",
      " 1000 \n"
     ]
    }
   ],
   "source": [
    "print(f\"{10:^6d}\") ; print(f\"{1000:^6d}\")"
   ]
  },
  {
   "cell_type": "code",
   "execution_count": 23,
   "id": "eb6be6ab-22e1-49e3-b2b4-ff5eb0eddfa7",
   "metadata": {},
   "outputs": [
    {
     "name": "stdout",
     "output_type": "stream",
     "text": [
      "**10**\n",
      "*1000*\n"
     ]
    }
   ],
   "source": [
    "print(f\"{10:*^6d}\") ; print(f\"{1000:*^6d}\")"
   ]
  },
  {
   "cell_type": "code",
   "execution_count": 25,
   "id": "8d56d1a5-b7d6-45f2-b07f-034c3a26cf70",
   "metadata": {},
   "outputs": [
    {
     "name": "stdout",
     "output_type": "stream",
     "text": [
      "000010\n",
      "001000\n"
     ]
    }
   ],
   "source": [
    "print(f\"{10:0>6d}\") ; print(f\"{1000:0>6d}\")"
   ]
  },
  {
   "cell_type": "code",
   "execution_count": 27,
   "id": "158b03c8-1ddb-4272-a588-3a5c2e39f5d8",
   "metadata": {},
   "outputs": [
    {
     "name": "stdout",
     "output_type": "stream",
     "text": [
      "atom HN\n",
      "atom HDE1\n"
     ]
    }
   ],
   "source": [
    "print(\"atom HN\") ; print(\"atom HDE1\")"
   ]
  },
  {
   "cell_type": "code",
   "execution_count": 29,
   "id": "d6779c99-ef00-4593-9bff-4b044e7c69bd",
   "metadata": {},
   "outputs": [
    {
     "name": "stdout",
     "output_type": "stream",
     "text": [
      "atom   HN\n",
      "atom HDE1\n"
     ]
    }
   ],
   "source": [
    "print(f\"atom {'HN':>4s}\") ; print(f\"atom {'HDE1':>4s}\")"
   ]
  },
  {
   "cell_type": "code",
   "execution_count": 31,
   "id": "aced2adb-a1bf-4630-a7f7-d816e02c7650",
   "metadata": {},
   "outputs": [
    {
     "name": "stdout",
     "output_type": "stream",
     "text": [
      " 47.804\n",
      "    47.804\n"
     ]
    }
   ],
   "source": [
    "print(f\"{perc_GC:7.3f}\")\n",
    "print(f\"{perc_GC:10}\")"
   ]
  },
  {
   "cell_type": "code",
   "execution_count": 35,
   "id": "52fc8b4b-dd31-411a-88bb-2f0edcec754c",
   "metadata": {},
   "outputs": [
    {
     "name": "stdout",
     "output_type": "stream",
     "text": [
      "Accolades littérales {} ou { ou } et pour le formatage 10\n"
     ]
    }
   ],
   "source": [
    "print(f\"Accolades littérales {{}} ou {{ ou }} \"\n",
    "      f\"et pour le formatage {10}\")"
   ]
  },
  {
   "cell_type": "code",
   "execution_count": 37,
   "id": "98ae566b-46a6-4898-882f-b8d7b2fcd9a5",
   "metadata": {},
   "outputs": [
    {
     "ename": "SyntaxError",
     "evalue": "f-string: valid expression required before '}' (2665589666.py, line 1)",
     "output_type": "error",
     "traceback": [
      "\u001b[1;36m  Cell \u001b[1;32mIn[37], line 1\u001b[1;36m\u001b[0m\n\u001b[1;33m    print(f\"Accolades sans variable {}\")\u001b[0m\n\u001b[1;37m                                     ^\u001b[0m\n\u001b[1;31mSyntaxError\u001b[0m\u001b[1;31m:\u001b[0m f-string: valid expression required before '}'\n"
     ]
    }
   ],
   "source": [
    "print(f\"Accolades sans variable {}\")"
   ]
  },
  {
   "cell_type": "code",
   "execution_count": 39,
   "id": "4c42d0c0-cf3f-4a57-88c2-2fd7ccf22837",
   "metadata": {},
   "outputs": [
    {
     "data": {
      "text/plain": [
       "'    47.804'"
      ]
     },
     "execution_count": 39,
     "metadata": {},
     "output_type": "execute_result"
    }
   ],
   "source": [
    "f\"{perc_GC:10.3f}\""
   ]
  },
  {
   "cell_type": "code",
   "execution_count": 41,
   "id": "ccab1162-7a25-49b2-9c7e-a46053d61cdb",
   "metadata": {},
   "outputs": [
    {
     "data": {
      "text/plain": [
       "str"
      ]
     },
     "execution_count": 41,
     "metadata": {},
     "output_type": "execute_result"
    }
   ],
   "source": [
    "type(f\"{perc_GC:10.3f}\")"
   ]
  },
  {
   "cell_type": "code",
   "execution_count": 57,
   "id": "03e29f5d-ddbd-4b23-a2fc-6e767ada6238",
   "metadata": {},
   "outputs": [
    {
     "name": "stdout",
     "output_type": "stream",
     "text": [
      "Le résultat de 5 * 5 vaut 25\n",
      "Résultat d'une opération avec des floats : 27.47\n",
      "Le minimum est -2\n",
      "Le type de 2 est <class 'int'>\n"
     ]
    }
   ],
   "source": [
    "print(f\"Le résultat de 5 * 5 vaut {5 * 5}\")\n",
    "print(f\"Résultat d'une opération avec des floats : {(4.1 * 6.7)}\")\n",
    "print(f\"Le minimum est {min(1, -2, 4)}\")\n",
    "entier = 2\n",
    "print(f\"Le type de {entier} est {type(entier)}\")"
   ]
  },
  {
   "cell_type": "code",
   "execution_count": 61,
   "id": "d474222a-2d71-4494-a7f5-0b9641a4c98a",
   "metadata": {},
   "outputs": [
    {
     "name": "stdout",
     "output_type": "stream",
     "text": [
      "1.000000e+09\n",
      "1.000000e-09\n"
     ]
    }
   ],
   "source": [
    "print(f\"{1_000_000_000:e}\")\n",
    "print(f\"{0.000_000_001:e}\")"
   ]
  },
  {
   "cell_type": "code",
   "execution_count": 65,
   "id": "78ecfb4f-61cd-4b85-a388-82b0beef0870",
   "metadata": {},
   "outputs": [
    {
     "name": "stdout",
     "output_type": "stream",
     "text": [
      "6e+23\n",
      "6.022e+23\n",
      "6.022141e+23\n"
     ]
    }
   ],
   "source": [
    "avogadro_number = 6.022_140_76e23\n",
    "print(f\"{avogadro_number:.0e}\")\n",
    "print(f\"{avogadro_number:.3e}\")\n",
    "print(f\"{avogadro_number:.6e}\")"
   ]
  },
  {
   "cell_type": "code",
   "execution_count": 67,
   "id": "f11e2df0-d6d1-41b3-88a9-1520bb30b03e",
   "metadata": {},
   "outputs": [
    {
     "data": {
      "text/plain": [
       "2"
      ]
     },
     "execution_count": 67,
     "metadata": {},
     "output_type": "execute_result"
    }
   ],
   "source": [
    "1 + 1"
   ]
  },
  {
   "cell_type": "code",
   "execution_count": 79,
   "id": "7a20b20e-4fe6-4232-9056-cffc73d0f311",
   "metadata": {},
   "outputs": [
    {
     "name": "stdout",
     "output_type": "stream",
     "text": [
      "AAAAAAAAAAAAAAAAAAAA\n"
     ]
    }
   ],
   "source": [
    "polyA = (\"A\" * 20)\n",
    "print(polyA)"
   ]
  },
  {
   "cell_type": "code",
   "execution_count": 83,
   "id": "5e6403b1-51ec-419c-a797-b56d4ca11ff3",
   "metadata": {},
   "outputs": [
    {
     "name": "stdout",
     "output_type": "stream",
     "text": [
      "AAAAAAAAAAAAAAAAAAAAGCGCGCGCGCGCGCGCGCGCGCGCGCGCGCGCGCGCGCGC\n"
     ]
    }
   ],
   "source": [
    "strand = (\"A\" * 20 + \"GC\" * 20)\n",
    "print(strand)"
   ]
  },
  {
   "cell_type": "code",
   "execution_count": 91,
   "id": "58c31034-9937-44a5-9a6e-e9c210c275b3",
   "metadata": {},
   "outputs": [
    {
     "name": "stdout",
     "output_type": "stream",
     "text": [
      "salut 102 10.318\n",
      "salut, 102, 10.32\n"
     ]
    }
   ],
   "source": [
    "a, b, c = 'salut', 102, 10.318\n",
    "print(a, b,c )\n",
    "print(f\"{a}, {b}, {c:.2f}\")"
   ]
  },
  {
   "cell_type": "code",
   "execution_count": 93,
   "id": "4ba8f68d-67ca-4fa5-8ecb-79c71690acc4",
   "metadata": {},
   "outputs": [],
   "source": [
    "%run percGC.py"
   ]
  },
  {
   "cell_type": "code",
   "execution_count": 117,
   "id": "20b86105-c931-4d85-b296-5ef251e8183b",
   "metadata": {},
   "outputs": [
    {
     "name": "stdout",
     "output_type": "stream",
     "text": [
      "Le pourcentage de GC est 48     %\n",
      "Le pourcentage de GC est 47.8   %\n",
      "Le pourcentage de GC est 47.80  %\n",
      "Le pourcentage de GC est 47.804 %\n"
     ]
    }
   ],
   "source": [
    "print(f\"Le pourcentage de GC est {perc_GC:<6.0f} %\")\n",
    "print(f\"Le pourcentage de GC est {perc_GC:<6.1f} %\")\n",
    "print(f\"Le pourcentage de GC est {perc_GC:<6.2f} %\")\n",
    "print(f\"Le pourcentage de GC est {perc_GC:<6.3f} %\")"
   ]
  },
  {
   "cell_type": "code",
   "execution_count": 127,
   "id": "1e4233fe-f2bb-41a4-8a45-1b4770d42bb3",
   "metadata": {},
   "outputs": [
    {
     "name": "stdout",
     "output_type": "stream",
     "text": [
      "7/3 = 2 + 1/3\n",
      "9/4 = 2 + 1/4\n",
      "23/5 = 4 + 3/5\n",
      "21/8 = 2 + 5/8\n",
      "7/2 = 3 + 1/2\n"
     ]
    }
   ],
   "source": [
    "print(f\"7/3 = {7//3} + {7%3}/3\")\n",
    "print(f\"9/4 = {9//4} + {9%4}/4\")\n",
    "print(f\"23/5 = {23//5} + {23%5}/5\")\n",
    "print(f\"21/8 = {21//8} + {21%8}/8\")\n",
    "print(f\"7/2 = {7//2} + {7%2}/2\")"
   ]
  },
  {
   "cell_type": "markdown",
   "id": "a9b75927-ffdf-4864-be31-b33390fb0138",
   "metadata": {},
   "source": [
    "# 4. Listes"
   ]
  },
  {
   "cell_type": "code",
   "execution_count": 134,
   "id": "a1a621e4-c29d-4e81-8050-0266683a3c76",
   "metadata": {},
   "outputs": [
    {
     "name": "stdout",
     "output_type": "stream",
     "text": [
      "['girafe', 'tigre', 'singe', 'souris']\n",
      "[5, 2.5, 1.75, 0.15]\n",
      "['girafe', 5, 'souris', 0.15]\n"
     ]
    }
   ],
   "source": [
    "animaux = [\"girafe\", \"tigre\", \"singe\", \"souris\"]\n",
    "tailles = [5, 2.5, 1.75, 0.15]\n",
    "mixte = [\"girafe\", 5, \"souris\", 0.15]\n",
    "print(animaux)\n",
    "print(tailles)\n",
    "print(mixte)"
   ]
  },
  {
   "cell_type": "code",
   "execution_count": 142,
   "id": "bbfdd3b6-0b07-455e-a1fc-7efb986b09b8",
   "metadata": {},
   "outputs": [
    {
     "name": "stdout",
     "output_type": "stream",
     "text": [
      "['girafe', 'tigre', 'singe', 'souris']\n",
      "girafe\n",
      "tigre\n",
      "souris\n"
     ]
    }
   ],
   "source": [
    "print(animaux)\n",
    "print(animaux[0])\n",
    "print(animaux[1])\n",
    "print(animaux[3])"
   ]
  },
  {
   "cell_type": "code",
   "execution_count": 144,
   "id": "1699152c-e179-4f7e-9c41-0e96c5f08c8f",
   "metadata": {},
   "outputs": [
    {
     "ename": "IndexError",
     "evalue": "list index out of range",
     "output_type": "error",
     "traceback": [
      "\u001b[1;31m---------------------------------------------------------------------------\u001b[0m",
      "\u001b[1;31mIndexError\u001b[0m                                Traceback (most recent call last)",
      "Cell \u001b[1;32mIn[144], line 1\u001b[0m\n\u001b[1;32m----> 1\u001b[0m \u001b[43manimaux\u001b[49m\u001b[43m[\u001b[49m\u001b[38;5;241;43m4\u001b[39;49m\u001b[43m]\u001b[49m\n",
      "\u001b[1;31mIndexError\u001b[0m: list index out of range"
     ]
    }
   ],
   "source": [
    "animaux[4]"
   ]
  },
  {
   "cell_type": "code",
   "execution_count": 168,
   "id": "d2d8ee8e-b3d4-42e4-b76b-a6f5bcafc7b1",
   "metadata": {},
   "outputs": [
    {
     "name": "stdout",
     "output_type": "stream",
     "text": [
      "['girafe', 'tigre', 'singe', 'souris']\n",
      "['girafe', 'tigre', 'girafe', 'tigre', 'girafe', 'tigre']\n"
     ]
    }
   ],
   "source": [
    "ani1 = [\"girafe\", \"tigre\"]\n",
    "ani2 = [\"singe\", \"souris\"]\n",
    "print(ani1 + ani2)\n",
    "print(ani1 * 3)"
   ]
  },
  {
   "cell_type": "code",
   "execution_count": 170,
   "id": "515bb1ad-844c-45ef-ba3c-e0f978542fac",
   "metadata": {},
   "outputs": [
    {
     "name": "stdout",
     "output_type": "stream",
     "text": [
      "[]\n",
      "[15]\n",
      "[15, -5]\n"
     ]
    }
   ],
   "source": [
    "liste1 = []\n",
    "print(liste1)\n",
    "liste1 = liste1 + [15]\n",
    "print(liste1)\n",
    "liste1 = liste1 + [-5]\n",
    "print(liste1)"
   ]
  },
  {
   "cell_type": "code",
   "execution_count": 172,
   "id": "8473b0cf-20ff-4082-95fe-d125a7a78582",
   "metadata": {},
   "outputs": [
    {
     "name": "stdout",
     "output_type": "stream",
     "text": [
      "[15, -5, 13]\n",
      "[15, -5, 13, -3]\n"
     ]
    }
   ],
   "source": [
    "liste1.append(13)\n",
    "print(liste1)\n",
    "liste1.append(-3)\n",
    "print(liste1)"
   ]
  },
  {
   "cell_type": "code",
   "execution_count": 178,
   "id": "db06b6a2-dd7d-49b5-9128-503cb0099670",
   "metadata": {},
   "outputs": [
    {
     "name": "stdout",
     "output_type": "stream",
     "text": [
      "['girafe', 'tigre', 'singe', 'souris']\n",
      "souris\n",
      "singe\n",
      "girafe\n",
      "girafe\n"
     ]
    }
   ],
   "source": [
    "animaux = [\"girafe\", \"tigre\", \"singe\", \"souris\"]\n",
    "print(animaux)\n",
    "print(animaux[-1])\n",
    "print(animaux[-2])\n",
    "print(animaux[-4])\n",
    "print(animaux[0])"
   ]
  },
  {
   "cell_type": "code",
   "execution_count": 192,
   "id": "e73a06c2-671a-486f-9fc1-931804080773",
   "metadata": {},
   "outputs": [
    {
     "name": "stdout",
     "output_type": "stream",
     "text": [
      "['girafe', 'tigre', 'singe', 'souris']\n",
      "['girafe', 'tigre']\n",
      "['girafe', 'tigre', 'singe']\n",
      "['girafe', 'tigre', 'singe', 'souris']\n",
      "['girafe', 'tigre', 'singe', 'souris']\n",
      "['tigre', 'singe', 'souris']\n",
      "['tigre', 'singe']\n"
     ]
    }
   ],
   "source": [
    "animaux = [\"girafe\", \"tigre\", \"singe\", \"souris\"]\n",
    "print(animaux)\n",
    "print(animaux[0:2])\n",
    "print(animaux[0:3])\n",
    "print(animaux[0:])\n",
    "print(animaux[:])\n",
    "print(animaux[1:])\n",
    "print(animaux[1:-1])"
   ]
  },
  {
   "cell_type": "code",
   "execution_count": 194,
   "id": "b07fe33c-b376-41a0-86e2-9daf9783d264",
   "metadata": {},
   "outputs": [
    {
     "name": "stdout",
     "output_type": "stream",
     "text": [
      "['girafe', 'singe']\n"
     ]
    }
   ],
   "source": [
    "animaux = [\"girafe\", \"tigre\", \"singe\", \"souris\"]\n",
    "print(animaux[0:3:2])"
   ]
  },
  {
   "cell_type": "code",
   "execution_count": 206,
   "id": "deac3288-1133-43fe-96ef-df4235ee8cff",
   "metadata": {},
   "outputs": [
    {
     "name": "stdout",
     "output_type": "stream",
     "text": [
      "[0, 1, 2, 3, 4, 5, 6, 7, 8, 9]\n",
      "[0, 1, 2, 3, 4, 5, 6, 7, 8, 9]\n",
      "[0, 2, 4, 6, 8]\n",
      "[0, 3, 6, 9]\n",
      "[1, 4]\n"
     ]
    }
   ],
   "source": [
    "x = [0, 1, 2, 3, 4, 5, 6, 7, 8, 9]\n",
    "print(x)\n",
    "print(x[::1])\n",
    "print(x[::2])\n",
    "print(x[::3])\n",
    "print(x[1:6:3])"
   ]
  },
  {
   "cell_type": "code",
   "execution_count": 210,
   "id": "cf774207-cc2f-4f6d-8d2c-369f7fcc583b",
   "metadata": {},
   "outputs": [
    {
     "name": "stdout",
     "output_type": "stream",
     "text": [
      "4\n",
      "8\n"
     ]
    }
   ],
   "source": [
    "animaux = [\"girafe\", \"tigre\", \"singe\", \"souris\"]\n",
    "print(len(animaux))\n",
    "print(len([1, 2, 3, 4, 5, 6, 7, 8]))"
   ]
  },
  {
   "cell_type": "code",
   "execution_count": 214,
   "id": "fe6d27aa-e757-471d-a5e3-606f719d21d9",
   "metadata": {},
   "outputs": [
    {
     "name": "stdout",
     "output_type": "stream",
     "text": [
      "range(0, 10)\n",
      "[0, 1, 2, 3, 4, 5, 6, 7, 8, 9]\n"
     ]
    }
   ],
   "source": [
    "print(range(10))\n",
    "print(list(range(10)))"
   ]
  },
  {
   "cell_type": "code",
   "execution_count": 222,
   "id": "9e83c4be-9c27-4b6a-a6d9-84f0363b766f",
   "metadata": {},
   "outputs": [
    {
     "name": "stdout",
     "output_type": "stream",
     "text": [
      "[0, 1, 2, 3, 4]\n",
      "[15, 16, 17, 18, 19]\n",
      "[0, 200, 400, 600, 800]\n",
      "[2, 1, 0, -1]\n"
     ]
    }
   ],
   "source": [
    "print(list(range(0, 5)))\n",
    "print(list(range(15, 20)))\n",
    "print(list(range(0, 1000, 200)))\n",
    "print(list(range(2, -2, -1)))"
   ]
  },
  {
   "cell_type": "code",
   "execution_count": 224,
   "id": "9637ae84-4860-4218-bbf9-ffa150e864b2",
   "metadata": {},
   "outputs": [
    {
     "name": "stdout",
     "output_type": "stream",
     "text": [
      "[]\n"
     ]
    }
   ],
   "source": [
    "print(list(range(10, 0)))"
   ]
  },
  {
   "cell_type": "code",
   "execution_count": 226,
   "id": "36de94e1-d1d4-4c8d-997f-594d9f2bf0d5",
   "metadata": {},
   "outputs": [
    {
     "name": "stdout",
     "output_type": "stream",
     "text": [
      "[10, 9, 8, 7, 6, 5, 4, 3, 2, 1]\n"
     ]
    }
   ],
   "source": [
    "print(list(range(10, 0, -1)))"
   ]
  },
  {
   "cell_type": "code",
   "execution_count": 228,
   "id": "1b5f98e5-2132-49e7-a25e-8182698c5fca",
   "metadata": {},
   "outputs": [
    {
     "name": "stdout",
     "output_type": "stream",
     "text": [
      "[['girafe', 4], ['tigre', 2], ['singe', 5]]\n"
     ]
    }
   ],
   "source": [
    "prairie1 = [\"girafe\", 4]\n",
    "prairie2 = [\"tigre\", 2]\n",
    "prairie3 = [\"singe\", 5]\n",
    "savane = [prairie1, prairie2, prairie3]\n",
    "print(savane)"
   ]
  },
  {
   "cell_type": "code",
   "execution_count": 234,
   "id": "098bff1b-d9b0-4ec5-aff1-061026530779",
   "metadata": {},
   "outputs": [
    {
     "name": "stdout",
     "output_type": "stream",
     "text": [
      "['tigre', 2]\n",
      "tigre\n",
      "2\n"
     ]
    }
   ],
   "source": [
    "print(savane[1])\n",
    "print(savane[1][0])\n",
    "print(savane[1][1])"
   ]
  },
  {
   "cell_type": "code",
   "execution_count": 242,
   "id": "fee2815e-8e41-4a2e-9ffc-7d4af6a7891b",
   "metadata": {},
   "outputs": [
    {
     "name": "stdout",
     "output_type": "stream",
     "text": [
      "[0, 1, 2, 3, 4, 5, 6, 7, 8, 9]\n",
      "45\n",
      "0\n",
      "9\n"
     ]
    }
   ],
   "source": [
    "liste1 = list(range(10))\n",
    "print(liste1)\n",
    "print(sum(liste1))\n",
    "print(min(liste1))\n",
    "print(max(liste1))"
   ]
  },
  {
   "cell_type": "code",
   "execution_count": 244,
   "id": "9bf44afd-158d-447b-bf61-d75f167f59eb",
   "metadata": {},
   "outputs": [
    {
     "data": {
      "text/plain": [
       "3"
      ]
     },
     "execution_count": 244,
     "metadata": {},
     "output_type": "execute_result"
    }
   ],
   "source": [
    "min(3, 4)"
   ]
  },
  {
   "cell_type": "code",
   "execution_count": 246,
   "id": "07f489f8-5180-4f4b-8203-a1b2817d848e",
   "metadata": {},
   "outputs": [
    {
     "ename": "TypeError",
     "evalue": "'<' not supported between instances of 'int' and 'list'",
     "output_type": "error",
     "traceback": [
      "\u001b[1;31m---------------------------------------------------------------------------\u001b[0m",
      "\u001b[1;31mTypeError\u001b[0m                                 Traceback (most recent call last)",
      "Cell \u001b[1;32mIn[246], line 1\u001b[0m\n\u001b[1;32m----> 1\u001b[0m \u001b[38;5;28;43mmin\u001b[39;49m\u001b[43m(\u001b[49m\u001b[43mliste1\u001b[49m\u001b[43m,\u001b[49m\u001b[43m \u001b[49m\u001b[38;5;241;43m3\u001b[39;49m\u001b[43m,\u001b[49m\u001b[43m \u001b[49m\u001b[38;5;241;43m4\u001b[39;49m\u001b[43m)\u001b[49m\n",
      "\u001b[1;31mTypeError\u001b[0m: '<' not supported between instances of 'int' and 'list'"
     ]
    }
   ],
   "source": [
    "min(liste1, 3, 4)"
   ]
  },
  {
   "cell_type": "code",
   "execution_count": 250,
   "id": "0ffb7bd2-3f6c-429a-92b6-4961901c02c5",
   "metadata": {},
   "outputs": [
    {
     "name": "stdout",
     "output_type": "stream",
     "text": [
      "[0, 1, 2, 3, 4]\n",
      "[0, 1, 2, 3, 4]\n",
      "[0, 1, 2, -50, 4]\n",
      "[0, 1, 2, -50, 4]\n"
     ]
    }
   ],
   "source": [
    "liste1 = list(range(5))\n",
    "print(liste1)\n",
    "liste2 = liste1\n",
    "print(liste2)\n",
    "liste1[3] = -50\n",
    "print(liste1)\n",
    "print(liste2)"
   ]
  },
  {
   "cell_type": "code",
   "execution_count": 254,
   "id": "36f7b5b6-928d-48e1-94bb-9f11d8f3df54",
   "metadata": {},
   "outputs": [
    {
     "name": "stdout",
     "output_type": "stream",
     "text": [
      "[0, 1, 2, 3, 4]\n",
      "[0, 1, 2, 3, 4]\n",
      "[0, 1, 2, -50, 4]\n",
      "[0, 1, 2, 3, 4]\n"
     ]
    }
   ],
   "source": [
    "liste1 = list(range(5))\n",
    "print(liste1)\n",
    "liste2 = list(liste1)\n",
    "print(liste2)\n",
    "liste1[3] = -50\n",
    "print(liste1)\n",
    "print(liste2)"
   ]
  },
  {
   "cell_type": "code",
   "execution_count": 256,
   "id": "c0babdeb-2352-43ac-8256-e5a3457145f5",
   "metadata": {},
   "outputs": [
    {
     "name": "stdout",
     "output_type": "stream",
     "text": [
      "[1, 2, 3]\n"
     ]
    }
   ],
   "source": [
    "liste1 = [1, 2]\n",
    "liste1.append(3)\n",
    "print(liste1)"
   ]
  },
  {
   "cell_type": "code",
   "execution_count": 270,
   "id": "b0bc13ed-a49e-4c10-bf9c-0853d4a328fd",
   "metadata": {},
   "outputs": [],
   "source": [
    "liste1 = list(range(10, 15))\n",
    "var = 0\n",
    "var2 = 10"
   ]
  },
  {
   "cell_type": "code",
   "execution_count": 274,
   "id": "5c3d71ee-6a8a-4fd2-949f-ac0fa3c6ba23",
   "metadata": {},
   "outputs": [
    {
     "name": "stdout",
     "output_type": "stream",
     "text": [
      "12\n",
      "10\n"
     ]
    }
   ],
   "source": [
    "print(liste1[2])\n",
    "print(liste1[var])\n",
    "#print(liste1[var2])\n",
    "#print(liste1[\"var\"])"
   ]
  },
  {
   "cell_type": "code",
   "execution_count": 304,
   "id": "2e294996-33f0-4a63-94e0-1c8f196f00db",
   "metadata": {},
   "outputs": [
    {
     "name": "stdout",
     "output_type": "stream",
     "text": [
      "['lundi', 'mardi', 'mercredi', 'jeudi', 'vendredi', 'samedi', 'dimanche']\n",
      "['lundi', 'mardi', 'mercredi', 'jeudi', 'vendredi']\n",
      "['samedi', 'dimanche']\n",
      "['lundi', 'mardi', 'mercredi', 'jeudi', 'vendredi']\n",
      "['samedi', 'dimanche']\n",
      "dimanche\n",
      "dimanche\n",
      "['dimanche', 'samedi', 'vendredi', 'jeudi', 'mercredi', 'mardi', 'lundi']\n"
     ]
    }
   ],
   "source": [
    "semaine = [\"lundi\", \"mardi\", \"mercredi\", \"jeudi\", \"vendredi\", \"samedi\", \"dimanche\"]\n",
    "print(semaine)\n",
    "print(semaine[0:5])\n",
    "print(semaine[5:])\n",
    "print(semaine[:5])\n",
    "print(semaine[-2:])\n",
    "print(semaine[6])\n",
    "print(semaine[-1])\n",
    "print(semaine[-1::-1])"
   ]
  },
  {
   "cell_type": "code",
   "execution_count": 322,
   "id": "57f20a4e-062d-41e6-8d69-6cae9ad17b6c",
   "metadata": {},
   "outputs": [
    {
     "name": "stdout",
     "output_type": "stream",
     "text": [
      "[['decembre', 'janvier', 'fevrier'], ['mars', 'avril', 'mai'], ['juin', 'juillet', 'aout'], ['septembre', 'octobre', 'novembre']]\n",
      "['juin', 'juillet', 'aout']\n",
      "mars\n",
      "[['mars', 'avril', 'mai']]\n",
      "['mars', 'avril', 'mai']\n"
     ]
    }
   ],
   "source": [
    "hiver = [\"decembre\", \"janvier\", \"fevrier\"]\n",
    "printemps = [\"mars\", \"avril\", \"mai\"]\n",
    "ete = [\"juin\", \"juillet\", \"aout\"]\n",
    "automne = [\"septembre\", \"octobre\", \"novembre\"]\n",
    "\n",
    "saisons = [hiver, printemps, ete, automne]\n",
    "\n",
    "print(saisons)\n",
    "print(saisons[2])\n",
    "print(saisons[1][0])\n",
    "print(saisons[1:2])\n",
    "print(saisons[:][1])"
   ]
  },
  {
   "cell_type": "code",
   "execution_count": 338,
   "id": "006ca5c9-e914-4a75-b10a-15b21447ea2b",
   "metadata": {},
   "outputs": [
    {
     "name": "stdout",
     "output_type": "stream",
     "text": [
      "[0, 9, 18, 27, 36, 45, 54, 63, 72, 81]\n"
     ]
    }
   ],
   "source": [
    "print(list(range(0, 82, 9)))"
   ]
  },
  {
   "cell_type": "code",
   "execution_count": 350,
   "id": "9fe37ad1-7562-4810-80cf-fbb3101c1479",
   "metadata": {},
   "outputs": [
    {
     "data": {
      "text/plain": [
       "500"
      ]
     },
     "execution_count": 350,
     "metadata": {},
     "output_type": "execute_result"
    }
   ],
   "source": [
    "len(list(range(2, 1001, 2)))"
   ]
  },
  {
   "cell_type": "markdown",
   "id": "1025f12f-f1c0-4047-8b9b-8682c0d4bfe4",
   "metadata": {},
   "source": [
    "# 5. Boucles et comparaisons"
   ]
  }
 ],
 "metadata": {
  "kernelspec": {
   "display_name": "Python 3 (ipykernel)",
   "language": "python",
   "name": "python3"
  },
  "language_info": {
   "codemirror_mode": {
    "name": "ipython",
    "version": 3
   },
   "file_extension": ".py",
   "mimetype": "text/x-python",
   "name": "python",
   "nbconvert_exporter": "python",
   "pygments_lexer": "ipython3",
   "version": "3.12.4"
  }
 },
 "nbformat": 4,
 "nbformat_minor": 5
}
