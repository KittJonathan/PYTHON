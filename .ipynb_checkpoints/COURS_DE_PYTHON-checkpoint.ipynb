{
 "cells": [
  {
   "cell_type": "markdown",
   "id": "57167d7a-37ed-495d-aca8-06090a3f82fa",
   "metadata": {},
   "source": [
    "Prise de notes a partir du livre en ligne https://python.sdv.u-paris.fr/"
   ]
  },
  {
   "cell_type": "markdown",
   "id": "57d0b6b5-2c0b-4ecf-b8e2-ae23b9a95d25",
   "metadata": {},
   "source": [
    "# 1. Introduction"
   ]
  },
  {
   "cell_type": "code",
   "execution_count": 5,
   "id": "6b3f737f-5537-4c6d-963d-e9d73c570c33",
   "metadata": {},
   "outputs": [
    {
     "name": "stdout",
     "output_type": "stream",
     "text": [
      "Hello world!\n"
     ]
    }
   ],
   "source": [
    "print('Hello world!')"
   ]
  },
  {
   "cell_type": "code",
   "execution_count": 7,
   "id": "2675b588-bad2-4645-bed4-dde5b06fde9b",
   "metadata": {},
   "outputs": [
    {
     "data": {
      "text/plain": [
       "2"
      ]
     },
     "execution_count": 7,
     "metadata": {},
     "output_type": "execute_result"
    }
   ],
   "source": [
    "1 + 1"
   ]
  },
  {
   "cell_type": "code",
   "execution_count": 9,
   "id": "30ac9bd0-b3fa-4742-ba7b-543eeb4ba154",
   "metadata": {},
   "outputs": [
    {
     "data": {
      "text/plain": [
       "18"
      ]
     },
     "execution_count": 9,
     "metadata": {},
     "output_type": "execute_result"
    }
   ],
   "source": [
    "6*3"
   ]
  },
  {
   "cell_type": "code",
   "execution_count": 19,
   "id": "4dbec8a3-a9f7-4dbb-a7e3-913b9bb90090",
   "metadata": {},
   "outputs": [
    {
     "name": "stdout",
     "output_type": "stream",
     "text": [
      "Hello world!\n"
     ]
    }
   ],
   "source": [
    "%run test.py"
   ]
  },
  {
   "cell_type": "markdown",
   "id": "752d5693-63a9-4941-9d2d-08de5d3da792",
   "metadata": {},
   "source": [
    "# 2. Variables"
   ]
  },
  {
   "cell_type": "code",
   "execution_count": 1,
   "id": "72cc48e2-6868-47db-904b-ca257e6cd626",
   "metadata": {},
   "outputs": [
    {
     "data": {
      "text/plain": [
       "2"
      ]
     },
     "execution_count": 1,
     "metadata": {},
     "output_type": "execute_result"
    }
   ],
   "source": [
    "x = 2\n",
    "x"
   ]
  },
  {
   "cell_type": "code",
   "execution_count": 3,
   "id": "c439fff4-73f8-447f-a670-7600f2ae8bfc",
   "metadata": {},
   "outputs": [
    {
     "ename": "NameError",
     "evalue": "name 'voyelle' is not defined",
     "output_type": "error",
     "traceback": [
      "\u001b[1;31m---------------------------------------------------------------------------\u001b[0m",
      "\u001b[1;31mNameError\u001b[0m                                 Traceback (most recent call last)",
      "Cell \u001b[1;32mIn[3], line 2\u001b[0m\n\u001b[0;32m      1\u001b[0m voyelles \u001b[38;5;241m=\u001b[39m \u001b[38;5;124m\"\u001b[39m\u001b[38;5;124maeiouy\u001b[39m\u001b[38;5;124m\"\u001b[39m\n\u001b[1;32m----> 2\u001b[0m \u001b[43mvoyelle\u001b[49m\n",
      "\u001b[1;31mNameError\u001b[0m: name 'voyelle' is not defined"
     ]
    }
   ],
   "source": [
    "voyelles = \"aeiouy\"\n",
    "voyelle"
   ]
  },
  {
   "cell_type": "code",
   "execution_count": 5,
   "id": "fc8e2fcb-28b8-44bf-ab4d-848d2ea31eab",
   "metadata": {},
   "outputs": [
    {
     "ename": "NameError",
     "evalue": "name 'farmacia' is not defined",
     "output_type": "error",
     "traceback": [
      "\u001b[1;31m---------------------------------------------------------------------------\u001b[0m",
      "\u001b[1;31mNameError\u001b[0m                                 Traceback (most recent call last)",
      "Cell \u001b[1;32mIn[5], line 2\u001b[0m\n\u001b[0;32m      1\u001b[0m pharmacie \u001b[38;5;241m=\u001b[39m \u001b[38;5;124m\"\u001b[39m\u001b[38;5;124mvente de médicaments\u001b[39m\u001b[38;5;124m\"\u001b[39m\n\u001b[1;32m----> 2\u001b[0m \u001b[43mfarmacia\u001b[49m\n",
      "\u001b[1;31mNameError\u001b[0m: name 'farmacia' is not defined"
     ]
    }
   ],
   "source": [
    "pharmacie = \"vente de médicaments\"\n",
    "farmacia"
   ]
  },
  {
   "cell_type": "code",
   "execution_count": 9,
   "id": "b27ed9c1-aede-497d-8584-05e867ffb34f",
   "metadata": {},
   "outputs": [
    {
     "data": {
      "text/plain": [
       "2"
      ]
     },
     "execution_count": 9,
     "metadata": {},
     "output_type": "execute_result"
    }
   ],
   "source": [
    "x = 2\n",
    "y = x\n",
    "y"
   ]
  },
  {
   "cell_type": "code",
   "execution_count": 13,
   "id": "bbb60af1-3e57-4ded-9b4f-b9e2e2c0e1db",
   "metadata": {},
   "outputs": [
    {
     "data": {
      "text/plain": [
       "3"
      ]
     },
     "execution_count": 13,
     "metadata": {},
     "output_type": "execute_result"
    }
   ],
   "source": [
    "x = 5 - 2\n",
    "x"
   ]
  },
  {
   "cell_type": "code",
   "execution_count": 15,
   "id": "0f5bb284-3a92-41fb-ace4-6ee4d304a889",
   "metadata": {},
   "outputs": [
    {
     "data": {
      "text/plain": [
       "3.14"
      ]
     },
     "execution_count": 15,
     "metadata": {},
     "output_type": "execute_result"
    }
   ],
   "source": [
    "y = 3.14\n",
    "y"
   ]
  },
  {
   "cell_type": "code",
   "execution_count": 17,
   "id": "d3159c8f-fb65-4244-853c-fe75e5d2f396",
   "metadata": {},
   "outputs": [
    {
     "data": {
      "text/plain": [
       "'bonjour'"
      ]
     },
     "execution_count": 17,
     "metadata": {},
     "output_type": "execute_result"
    }
   ],
   "source": [
    "a = \"bonjour\"\n",
    "a"
   ]
  },
  {
   "cell_type": "code",
   "execution_count": 19,
   "id": "df57b9eb-bc1b-4f14-ac0a-e3c04418e866",
   "metadata": {},
   "outputs": [
    {
     "data": {
      "text/plain": [
       "'salut'"
      ]
     },
     "execution_count": 19,
     "metadata": {},
     "output_type": "execute_result"
    }
   ],
   "source": [
    "b = 'salut'\n",
    "b"
   ]
  },
  {
   "cell_type": "code",
   "execution_count": 21,
   "id": "62eb501e-d2cf-4655-aac5-fdb22bad6590",
   "metadata": {},
   "outputs": [
    {
     "data": {
      "text/plain": [
       "'girafe'"
      ]
     },
     "execution_count": 21,
     "metadata": {},
     "output_type": "execute_result"
    }
   ],
   "source": [
    "c = \"\"\"girafe\"\"\"\n",
    "c"
   ]
  },
  {
   "cell_type": "code",
   "execution_count": 23,
   "id": "22225599-d36a-4ed1-8d1a-4fdbf0c40349",
   "metadata": {},
   "outputs": [
    {
     "data": {
      "text/plain": [
       "'lion'"
      ]
     },
     "execution_count": 23,
     "metadata": {},
     "output_type": "execute_result"
    }
   ],
   "source": [
    "d = '''lion'''\n",
    "d"
   ]
  },
  {
   "cell_type": "code",
   "execution_count": 27,
   "id": "f8096740-ed66-4600-a081-58612d7a9bdc",
   "metadata": {},
   "outputs": [
    {
     "data": {
      "text/plain": [
       "True"
      ]
     },
     "execution_count": 27,
     "metadata": {},
     "output_type": "execute_result"
    }
   ],
   "source": [
    "var = True\n",
    "var"
   ]
  },
  {
   "cell_type": "code",
   "execution_count": 29,
   "id": "d5fff603-3f3c-483f-b645-e7bea2ef43b4",
   "metadata": {},
   "outputs": [
    {
     "data": {
      "text/plain": [
       "False"
      ]
     },
     "execution_count": 29,
     "metadata": {},
     "output_type": "execute_result"
    }
   ],
   "source": [
    "var2 = False\n",
    "var2"
   ]
  },
  {
   "cell_type": "code",
   "execution_count": 31,
   "id": "7ecf0efa-cf70-4d30-9b39-fbd6d97750b2",
   "metadata": {},
   "outputs": [
    {
     "data": {
      "text/plain": [
       "1000000.0"
      ]
     },
     "execution_count": 31,
     "metadata": {},
     "output_type": "execute_result"
    }
   ],
   "source": [
    "1e6"
   ]
  },
  {
   "cell_type": "code",
   "execution_count": 33,
   "id": "3686caed-db26-4331-96d2-216627442da7",
   "metadata": {},
   "outputs": [
    {
     "data": {
      "text/plain": [
       "0.00312"
      ]
     },
     "execution_count": 33,
     "metadata": {},
     "output_type": "execute_result"
    }
   ],
   "source": [
    "3.12e-3"
   ]
  },
  {
   "cell_type": "code",
   "execution_count": 35,
   "id": "84a061ec-dcb3-4edb-a44f-1622d1d42c47",
   "metadata": {},
   "outputs": [
    {
     "data": {
      "text/plain": [
       "6.02214076e+23"
      ]
     },
     "execution_count": 35,
     "metadata": {},
     "output_type": "execute_result"
    }
   ],
   "source": [
    "avogadro_number = 6.022_140_76e23\n",
    "avogadro_number"
   ]
  },
  {
   "cell_type": "code",
   "execution_count": 37,
   "id": "f48036ab-2213-4908-bc49-a8f0aa08c4a6",
   "metadata": {},
   "outputs": [
    {
     "name": "stdout",
     "output_type": "stream",
     "text": [
      "8094752749\n"
     ]
    }
   ],
   "source": [
    "humans_on_earth = 8_094_752_749\n",
    "print(humans_on_earth)"
   ]
  },
  {
   "cell_type": "code",
   "execution_count": 39,
   "id": "b697b6ca-28a2-47a7-9d7a-393f9fd047d3",
   "metadata": {},
   "outputs": [
    {
     "name": "stdout",
     "output_type": "stream",
     "text": [
      "8094752749\n"
     ]
    }
   ],
   "source": [
    "print(80_94_7527_49)"
   ]
  },
  {
   "cell_type": "code",
   "execution_count": 41,
   "id": "82fff15c-6877-47ba-ad66-ff7917336ff4",
   "metadata": {},
   "outputs": [
    {
     "name": "stdout",
     "output_type": "stream",
     "text": [
      "47\n",
      "43\n",
      "135\n"
     ]
    }
   ],
   "source": [
    "x = 45\n",
    "print(x + 2)\n",
    "print(x - 2)\n",
    "print(x * 3)"
   ]
  },
  {
   "cell_type": "code",
   "execution_count": 43,
   "id": "2dc2d4fd-d2be-46d0-b41b-d99ccd5a5b30",
   "metadata": {},
   "outputs": [
    {
     "name": "stdout",
     "output_type": "stream",
     "text": [
      "42.5\n",
      "452.5\n"
     ]
    }
   ],
   "source": [
    "y = 2.5\n",
    "print(x - y)\n",
    "print((x * 10) + y)"
   ]
  },
  {
   "cell_type": "code",
   "execution_count": 45,
   "id": "7cee00e6-185a-4829-b214-a1013c601e92",
   "metadata": {},
   "outputs": [
    {
     "name": "stdout",
     "output_type": "stream",
     "text": [
      "0.75\n",
      "1.25\n"
     ]
    }
   ],
   "source": [
    "print(3 / 4)\n",
    "print(2.5 / 2)"
   ]
  },
  {
   "cell_type": "code",
   "execution_count": 47,
   "id": "0576a6f3-90dc-427a-b62a-f34e6640b608",
   "metadata": {},
   "outputs": [
    {
     "name": "stdout",
     "output_type": "stream",
     "text": [
      "8\n",
      "16\n"
     ]
    }
   ],
   "source": [
    "print(2 ** 3)\n",
    "print(2 ** 4)"
   ]
  },
  {
   "cell_type": "code",
   "execution_count": 49,
   "id": "a84494e7-390c-4c0f-8bdf-1670c825bc5b",
   "metadata": {},
   "outputs": [
    {
     "name": "stdout",
     "output_type": "stream",
     "text": [
      "1\n",
      "1\n",
      "2\n",
      "0\n"
     ]
    }
   ],
   "source": [
    "print(5 // 4)\n",
    "print(5 % 4)\n",
    "print(8 // 4)\n",
    "print(8 % 4)"
   ]
  },
  {
   "cell_type": "code",
   "execution_count": 57,
   "id": "0b8e54b2-866e-445d-a2c5-112e8bc3c0c4",
   "metadata": {},
   "outputs": [
    {
     "name": "stdout",
     "output_type": "stream",
     "text": [
      "1\n",
      "2\n",
      "4\n"
     ]
    }
   ],
   "source": [
    "i = 0\n",
    "i = i + 1\n",
    "print(i)\n",
    "i += 1\n",
    "print(i)\n",
    "i += 2\n",
    "print(i)"
   ]
  },
  {
   "cell_type": "code",
   "execution_count": 63,
   "id": "e7e24834-595f-45f6-9a7a-be16c887512c",
   "metadata": {},
   "outputs": [
    {
     "name": "stdout",
     "output_type": "stream",
     "text": [
      "Salut\n",
      "Salut Python\n",
      "SalutSalutSalut\n"
     ]
    }
   ],
   "source": [
    "chaine = \"Salut\"\n",
    "print(chaine)\n",
    "print(chaine + \" Python\")\n",
    "print(chaine * 3)"
   ]
  },
  {
   "cell_type": "code",
   "execution_count": 71,
   "id": "bc15a6e1-5652-4e92-87a7-0459cd9aeb48",
   "metadata": {},
   "outputs": [
    {
     "ename": "TypeError",
     "evalue": "can't multiply sequence by non-int of type 'float'",
     "output_type": "error",
     "traceback": [
      "\u001b[1;31m---------------------------------------------------------------------------\u001b[0m",
      "\u001b[1;31mTypeError\u001b[0m                                 Traceback (most recent call last)",
      "Cell \u001b[1;32mIn[71], line 1\u001b[0m\n\u001b[1;32m----> 1\u001b[0m \u001b[38;5;28mprint\u001b[39m(\u001b[38;5;124;43m\"\u001b[39;49m\u001b[38;5;124;43mtoto\u001b[39;49m\u001b[38;5;124;43m\"\u001b[39;49m\u001b[43m \u001b[49m\u001b[38;5;241;43m*\u001b[39;49m\u001b[43m \u001b[49m\u001b[38;5;241;43m1.3\u001b[39;49m)\n\u001b[0;32m      2\u001b[0m \u001b[38;5;28mprint\u001b[39m(\u001b[38;5;124m\"\u001b[39m\u001b[38;5;124mtoto\u001b[39m\u001b[38;5;124m\"\u001b[39m \u001b[38;5;241m+\u001b[39m \u001b[38;5;241m2\u001b[39m)\n",
      "\u001b[1;31mTypeError\u001b[0m: can't multiply sequence by non-int of type 'float'"
     ]
    }
   ],
   "source": [
    "print(\"toto\" * 1.3)\n",
    "print(\"toto\" + 2)"
   ]
  },
  {
   "cell_type": "code",
   "execution_count": 77,
   "id": "7f64ec45-245f-4766-8ae6-bba632f97c0a",
   "metadata": {},
   "outputs": [
    {
     "data": {
      "text/plain": [
       "int"
      ]
     },
     "execution_count": 77,
     "metadata": {},
     "output_type": "execute_result"
    }
   ],
   "source": [
    "x = 2\n",
    "type(x)"
   ]
  },
  {
   "cell_type": "code",
   "execution_count": 79,
   "id": "08da13af-be75-4e58-afa0-f6b7c164d51c",
   "metadata": {},
   "outputs": [
    {
     "data": {
      "text/plain": [
       "float"
      ]
     },
     "execution_count": 79,
     "metadata": {},
     "output_type": "execute_result"
    }
   ],
   "source": [
    "y = 22.0\n",
    "type(y)"
   ]
  },
  {
   "cell_type": "code",
   "execution_count": 81,
   "id": "69d21d02-bcde-4587-96f4-1f3076c11ff6",
   "metadata": {},
   "outputs": [
    {
     "data": {
      "text/plain": [
       "str"
      ]
     },
     "execution_count": 81,
     "metadata": {},
     "output_type": "execute_result"
    }
   ],
   "source": [
    "z = '2'\n",
    "type(z)"
   ]
  },
  {
   "cell_type": "code",
   "execution_count": 83,
   "id": "9416c08f-b347-46a9-bab7-46d0e2e40b29",
   "metadata": {},
   "outputs": [
    {
     "data": {
      "text/plain": [
       "bool"
      ]
     },
     "execution_count": 83,
     "metadata": {},
     "output_type": "execute_result"
    }
   ],
   "source": [
    "type(True)"
   ]
  },
  {
   "cell_type": "code",
   "execution_count": 85,
   "id": "d1a71e61-ce94-40eb-b838-150d8bb1008d",
   "metadata": {},
   "outputs": [
    {
     "data": {
      "text/plain": [
       "'3'"
      ]
     },
     "execution_count": 85,
     "metadata": {},
     "output_type": "execute_result"
    }
   ],
   "source": [
    "i = 3\n",
    "str(i)"
   ]
  },
  {
   "cell_type": "code",
   "execution_count": 87,
   "id": "9c620678-a0d5-4c1d-87db-fb656cb17de2",
   "metadata": {},
   "outputs": [
    {
     "data": {
      "text/plain": [
       "456"
      ]
     },
     "execution_count": 87,
     "metadata": {},
     "output_type": "execute_result"
    }
   ],
   "source": [
    "i = '456'\n",
    "int(i)"
   ]
  },
  {
   "cell_type": "code",
   "execution_count": 89,
   "id": "62974494-2d0e-4e89-b776-a760a7030093",
   "metadata": {},
   "outputs": [
    {
     "data": {
      "text/plain": [
       "456.0"
      ]
     },
     "execution_count": 89,
     "metadata": {},
     "output_type": "execute_result"
    }
   ],
   "source": [
    "float(i)"
   ]
  },
  {
   "cell_type": "code",
   "execution_count": 91,
   "id": "49c8cce4-1602-4d2f-8a84-0c7825366f1a",
   "metadata": {},
   "outputs": [
    {
     "data": {
      "text/plain": [
       "3.1416"
      ]
     },
     "execution_count": 91,
     "metadata": {},
     "output_type": "execute_result"
    }
   ],
   "source": [
    "i = '3.1416'\n",
    "float(i)"
   ]
  },
  {
   "cell_type": "code",
   "execution_count": 93,
   "id": "712e37e1-a7fa-4e6a-a733-f4c00e08c122",
   "metadata": {},
   "outputs": [
    {
     "data": {
      "text/plain": [
       "-2"
      ]
     },
     "execution_count": 93,
     "metadata": {},
     "output_type": "execute_result"
    }
   ],
   "source": [
    "min(1, -2, 4)"
   ]
  },
  {
   "cell_type": "code",
   "execution_count": 95,
   "id": "d7813926-1424-4699-8dbd-578da9971d4b",
   "metadata": {},
   "outputs": [
    {
     "data": {
      "text/plain": [
       "3.14"
      ]
     },
     "execution_count": 95,
     "metadata": {},
     "output_type": "execute_result"
    }
   ],
   "source": [
    "pi = 3.14\n",
    "e = 2.71\n",
    "max(e, pi)"
   ]
  },
  {
   "cell_type": "code",
   "execution_count": 97,
   "id": "dce43f0b-4cef-40e6-8649-ceabecab06bc",
   "metadata": {},
   "outputs": [
    {
     "data": {
      "text/plain": [
       "2.4"
      ]
     },
     "execution_count": 97,
     "metadata": {},
     "output_type": "execute_result"
    }
   ],
   "source": [
    "max(1, 2.4, -6)"
   ]
  },
  {
   "cell_type": "code",
   "execution_count": 109,
   "id": "10b018f3-c598-4433-9837-d999e4568610",
   "metadata": {},
   "outputs": [
    {
     "name": "stdout",
     "output_type": "stream",
     "text": [
      "736\n",
      "343\n",
      "724\n",
      "1285\n",
      "2187\n"
     ]
    }
   ],
   "source": [
    "print(7 + 3**6)\n",
    "print((3 + 4) ** 3)\n",
    "print(3**6 - 5)\n",
    "print((1 + 2**8) * 5)\n",
    "print((2 + 1 ** 8) ** 7)"
   ]
  },
  {
   "cell_type": "code",
   "execution_count": 139,
   "id": "25e613d5-951a-43b3-abb1-e8d7056eb3c9",
   "metadata": {},
   "outputs": [
    {
     "name": "stdout",
     "output_type": "stream",
     "text": [
      "27\n",
      "DaDaDaDa\n",
      "PaLaPaLa\n",
      "2.5\n",
      "2\n",
      "1\n"
     ]
    }
   ],
   "source": [
    "print((1 + 2) ** 3)\n",
    "print(\"Da\" * 4)\n",
    "#print(\"Da\" + 3)\n",
    "print((\"Pa\" + \"La\") * 2)\n",
    "#print((\"Da\" * 4) / 2)\n",
    "print(5 / 2)\n",
    "print(5 // 2)\n",
    "print(5 % 2)"
   ]
  },
  {
   "cell_type": "code",
   "execution_count": 155,
   "id": "4ec6c614-3297-4b66-a9b1-44a24930a7b7",
   "metadata": {},
   "outputs": [
    {
     "name": "stdout",
     "output_type": "stream",
     "text": [
      "444\n",
      "6.2\n",
      "0.750.75\n"
     ]
    }
   ],
   "source": [
    "print(str(4) * int(\"3\"))\n",
    "print(int(\"3\") + float(\"3.2\"))\n",
    "#print(str(3) * float(\"3.2\"))\n",
    "print(str(3/4) * 2)"
   ]
  },
  {
   "cell_type": "markdown",
   "id": "363a5150-547d-4c93-87da-449df9f2084c",
   "metadata": {},
   "source": [
    "# 3. Affichage"
   ]
  },
  {
   "cell_type": "code",
   "execution_count": 160,
   "id": "d304de6d-c056-458e-92e7-0f19e4b15969",
   "metadata": {},
   "outputs": [
    {
     "name": "stdout",
     "output_type": "stream",
     "text": [
      "Hello world!\n"
     ]
    }
   ],
   "source": [
    "print(\"Hello world!\")"
   ]
  },
  {
   "cell_type": "code",
   "execution_count": 162,
   "id": "0931ff27-6b1b-4fac-9188-3b256e44f638",
   "metadata": {},
   "outputs": [
    {
     "name": "stdout",
     "output_type": "stream",
     "text": [
      "Hello world!"
     ]
    }
   ],
   "source": [
    "print(\"Hello world!\", end=\"\")"
   ]
  },
  {
   "cell_type": "code",
   "execution_count": 164,
   "id": "644ae6d3-f04f-4c4e-b024-2892c341a301",
   "metadata": {},
   "outputs": [
    {
     "name": "stdout",
     "output_type": "stream",
     "text": [
      "Hello\n",
      "Joe\n"
     ]
    }
   ],
   "source": [
    "print(\"Hello\") ; print(\"Joe\")"
   ]
  },
  {
   "cell_type": "code",
   "execution_count": 166,
   "id": "a0a833c4-0833-41ba-8cdb-ce3ef8b80ec0",
   "metadata": {},
   "outputs": [
    {
     "name": "stdout",
     "output_type": "stream",
     "text": [
      "HelloJoe\n"
     ]
    }
   ],
   "source": [
    "print(\"Hello\", end=\"\") ; print(\"Joe\")"
   ]
  },
  {
   "cell_type": "code",
   "execution_count": 168,
   "id": "46a5d656-8550-4096-a479-2614af7dddc0",
   "metadata": {},
   "outputs": [
    {
     "name": "stdout",
     "output_type": "stream",
     "text": [
      "Hello Joe\n"
     ]
    }
   ],
   "source": [
    "print(\"Hello\", end = \" \") ; print(\"Joe\")"
   ]
  },
  {
   "cell_type": "code",
   "execution_count": 170,
   "id": "68e90e5f-5956-4fc3-8a03-e2c913bb639c",
   "metadata": {},
   "outputs": [
    {
     "name": "stdout",
     "output_type": "stream",
     "text": [
      "3\n"
     ]
    }
   ],
   "source": [
    "var = 3\n",
    "print(var)"
   ]
  },
  {
   "cell_type": "code",
   "execution_count": 172,
   "id": "3b04fb7b-8f72-4c88-9013-35c2b95db536",
   "metadata": {},
   "outputs": [
    {
     "name": "stdout",
     "output_type": "stream",
     "text": [
      "John a 32 ans\n"
     ]
    }
   ],
   "source": [
    "x = 32\n",
    "nom = \"John\"\n",
    "print(nom, \"a\", x, \"ans\")"
   ]
  },
  {
   "cell_type": "code",
   "execution_count": 174,
   "id": "beca7ee3-d758-409a-805e-49102af814b1",
   "metadata": {},
   "outputs": [
    {
     "name": "stdout",
     "output_type": "stream",
     "text": [
      "Johna32ans\n"
     ]
    }
   ],
   "source": [
    "x = 32\n",
    "nom = \"John\"\n",
    "print(nom, \"a\", x, \"ans\", sep=\"\")"
   ]
  },
  {
   "cell_type": "code",
   "execution_count": 176,
   "id": "e230c568-021d-4828-babb-a35ac5f2f7ff",
   "metadata": {},
   "outputs": [
    {
     "name": "stdout",
     "output_type": "stream",
     "text": [
      "John-a-32-ans\n"
     ]
    }
   ],
   "source": [
    "x = 32\n",
    "nom = \"John\"\n",
    "print(nom, \"a\", x, \"ans\", sep=\"-\")"
   ]
  },
  {
   "cell_type": "code",
   "execution_count": 178,
   "id": "ec3d843c-2af7-4a8c-8adb-6de9b10851fe",
   "metadata": {},
   "outputs": [
    {
     "name": "stdout",
     "output_type": "stream",
     "text": [
      "John_a_32_ans\n"
     ]
    }
   ],
   "source": [
    "x = 32\n",
    "nom = \"John\"\n",
    "print(nom, \"a\", x, \"ans\", sep=\"_\")"
   ]
  },
  {
   "cell_type": "code",
   "execution_count": 184,
   "id": "4ffe6bb1-4598-400e-a677-1232faa264e0",
   "metadata": {},
   "outputs": [
    {
     "name": "stdout",
     "output_type": "stream",
     "text": [
      "chat souris\n",
      "chatsouris\n",
      "chat souris\n"
     ]
    }
   ],
   "source": [
    "ani1 = \"chat\"\n",
    "ani2 = \"souris\"\n",
    "print(ani1, ani2)\n",
    "print(ani1 + ani2)\n",
    "print(ani1, ani2, sep=\" \")"
   ]
  },
  {
   "cell_type": "code",
   "execution_count": 186,
   "id": "7f127312-40ee-4de2-b27b-b07db097cb6d",
   "metadata": {},
   "outputs": [
    {
     "data": {
      "text/plain": [
       "'Ceci est une chaîne de caractères'"
      ]
     },
     "execution_count": 186,
     "metadata": {},
     "output_type": "execute_result"
    }
   ],
   "source": [
    "\"Ceci est une chaîne de caractères\""
   ]
  },
  {
   "cell_type": "code",
   "execution_count": 188,
   "id": "5881cba0-4000-4923-9061-588d4de4d751",
   "metadata": {},
   "outputs": [
    {
     "data": {
      "text/plain": [
       "'Ceci est une chaîne de caractères'"
      ]
     },
     "execution_count": 188,
     "metadata": {},
     "output_type": "execute_result"
    }
   ],
   "source": [
    "f\"Ceci est une chaîne de caractères\""
   ]
  },
  {
   "cell_type": "code",
   "execution_count": 194,
   "id": "405c0fb4-e993-4383-bf20-6763be64fd3a",
   "metadata": {},
   "outputs": [
    {
     "name": "stdout",
     "output_type": "stream",
     "text": [
      "John a 32 ans\n",
      "John a 32 ans\n",
      "{nom} a {x} ans\n"
     ]
    }
   ],
   "source": [
    "x = 32\n",
    "nom = \"John\"\n",
    "print(f\"{nom} a {x} ans\")\n",
    "print(nom, \"a\", x, \"ans\")\n",
    "print(\"{nom} a {x} ans\")"
   ]
  },
  {
   "cell_type": "code",
   "execution_count": 196,
   "id": "7bd9757b-295f-404b-868e-a76e9ae7eb04",
   "metadata": {},
   "outputs": [
    {
     "name": "stdout",
     "output_type": "stream",
     "text": [
      "to et to font toto\n"
     ]
    }
   ],
   "source": [
    "var = \"to\"\n",
    "print(f\"{var} et {var} font {var}{var}\")"
   ]
  },
  {
   "cell_type": "code",
   "execution_count": 200,
   "id": "0aaf22fa-22a9-40d8-a454-0655f8baf841",
   "metadata": {},
   "outputs": [
    {
     "name": "stdout",
     "output_type": "stream",
     "text": [
      "J'affiche l'entier 10 et le float 3.14\n",
      "J'affiche la chaine Python\n"
     ]
    }
   ],
   "source": [
    "print(f\"J'affiche l'entier {10} et le float {3.14}\")\n",
    "print(f\"J'affiche la chaine {'Python'}\")"
   ]
  },
  {
   "cell_type": "code",
   "execution_count": 1,
   "id": "6e6d490e-971d-449f-8316-8099be89c0a7",
   "metadata": {},
   "outputs": [
    {
     "name": "stdout",
     "output_type": "stream",
     "text": [
      "La proportion de GC est 0.4780405405405405\n",
      "La proportion de GC est 0.48\n",
      "La proportion de GC est 0.478\n"
     ]
    }
   ],
   "source": [
    "prop_GC = (4500 + 2575) / 14800\n",
    "print(\"La proportion de GC est\", prop_GC)\n",
    "print(f\"La proportion de GC est {prop_GC:.2f}\")\n",
    "print(f\"La proportion de GC est {prop_GC:.3f}\")"
   ]
  },
  {
   "cell_type": "code",
   "execution_count": 3,
   "id": "4ad22a7f-7f05-44de-91c1-ad3f97356708",
   "metadata": {},
   "outputs": [
    {
     "name": "stdout",
     "output_type": "stream",
     "text": [
      "Ce génome contient 4500 guanines\n",
      "Ce génome contient 4500 guanines\n"
     ]
    }
   ],
   "source": [
    "nb_G = 4500\n",
    "print(f\"Ce génome contient {nb_G} guanines\")\n",
    "print(f\"Ce génome contient {nb_G:d} guanines\")"
   ]
  },
  {
   "cell_type": "code",
   "execution_count": 4,
   "id": "1b5284e3-c7b4-4bef-9555-d9df7b88fe63",
   "metadata": {},
   "outputs": [
    {
     "name": "stdout",
     "output_type": "stream",
     "text": [
      "Ce génome contient 4500 G et 2575 C, soit une proportion de 0.48\n"
     ]
    }
   ],
   "source": [
    "nb_G = 4500\n",
    "nb_C = 2575\n",
    "print(f\"Ce génome contient {nb_G:d} G et {nb_C:d} C, \"\n",
    "      f\"soit une proportion de {prop_GC:.2f}\")"
   ]
  },
  {
   "cell_type": "code",
   "execution_count": 11,
   "id": "d8a7eeb5-64a6-4e5f-8882-0fff748ee0a4",
   "metadata": {},
   "outputs": [
    {
     "name": "stdout",
     "output_type": "stream",
     "text": [
      "Ce génome contient 4500 G et 2575 C, soit un %GC de 47.80 %\n"
     ]
    }
   ],
   "source": [
    "perc_GC = prop_GC * 100\n",
    "print(f\"Ce génome contient {nb_G:d} G et {nb_C:d} C, \"\n",
    "      f\"soit un %GC de {perc_GC:.2f} %\")"
   ]
  },
  {
   "cell_type": "code",
   "execution_count": 13,
   "id": "ce993bcf-cadc-4c40-99b1-41f1a63f4ae8",
   "metadata": {},
   "outputs": [
    {
     "name": "stdout",
     "output_type": "stream",
     "text": [
      "10\n",
      "1000\n"
     ]
    }
   ],
   "source": [
    "print(10) ; print(1000)"
   ]
  },
  {
   "cell_type": "code",
   "execution_count": 17,
   "id": "439c93e7-3ad6-4073-a0b0-7d49879bc2c8",
   "metadata": {},
   "outputs": [
    {
     "name": "stdout",
     "output_type": "stream",
     "text": [
      "    10\n",
      "  1000\n"
     ]
    }
   ],
   "source": [
    "print(f\"{10:>6d}\") ; print(f\"{1000:>6d}\")"
   ]
  },
  {
   "cell_type": "code",
   "execution_count": 19,
   "id": "269ef197-c727-47dc-a719-5b2e4c454077",
   "metadata": {},
   "outputs": [
    {
     "name": "stdout",
     "output_type": "stream",
     "text": [
      "10    \n",
      "1000  \n"
     ]
    }
   ],
   "source": [
    "print(f\"{10:<6d}\") ; print(f\"{1000:<6d}\")"
   ]
  },
  {
   "cell_type": "code",
   "execution_count": 21,
   "id": "9afb2b10-ea4a-4c1d-bd7e-badcfd72afdf",
   "metadata": {},
   "outputs": [
    {
     "name": "stdout",
     "output_type": "stream",
     "text": [
      "  10  \n",
      " 1000 \n"
     ]
    }
   ],
   "source": [
    "print(f\"{10:^6d}\") ; print(f\"{1000:^6d}\")"
   ]
  },
  {
   "cell_type": "code",
   "execution_count": 23,
   "id": "eb6be6ab-22e1-49e3-b2b4-ff5eb0eddfa7",
   "metadata": {},
   "outputs": [
    {
     "name": "stdout",
     "output_type": "stream",
     "text": [
      "**10**\n",
      "*1000*\n"
     ]
    }
   ],
   "source": [
    "print(f\"{10:*^6d}\") ; print(f\"{1000:*^6d}\")"
   ]
  },
  {
   "cell_type": "code",
   "execution_count": 25,
   "id": "8d56d1a5-b7d6-45f2-b07f-034c3a26cf70",
   "metadata": {},
   "outputs": [
    {
     "name": "stdout",
     "output_type": "stream",
     "text": [
      "000010\n",
      "001000\n"
     ]
    }
   ],
   "source": [
    "print(f\"{10:0>6d}\") ; print(f\"{1000:0>6d}\")"
   ]
  },
  {
   "cell_type": "code",
   "execution_count": 27,
   "id": "158b03c8-1ddb-4272-a588-3a5c2e39f5d8",
   "metadata": {},
   "outputs": [
    {
     "name": "stdout",
     "output_type": "stream",
     "text": [
      "atom HN\n",
      "atom HDE1\n"
     ]
    }
   ],
   "source": [
    "print(\"atom HN\") ; print(\"atom HDE1\")"
   ]
  },
  {
   "cell_type": "code",
   "execution_count": 29,
   "id": "d6779c99-ef00-4593-9bff-4b044e7c69bd",
   "metadata": {},
   "outputs": [
    {
     "name": "stdout",
     "output_type": "stream",
     "text": [
      "atom   HN\n",
      "atom HDE1\n"
     ]
    }
   ],
   "source": [
    "print(f\"atom {'HN':>4s}\") ; print(f\"atom {'HDE1':>4s}\")"
   ]
  },
  {
   "cell_type": "code",
   "execution_count": 31,
   "id": "aced2adb-a1bf-4630-a7f7-d816e02c7650",
   "metadata": {},
   "outputs": [
    {
     "name": "stdout",
     "output_type": "stream",
     "text": [
      " 47.804\n",
      "    47.804\n"
     ]
    }
   ],
   "source": [
    "print(f\"{perc_GC:7.3f}\")\n",
    "print(f\"{perc_GC:10}\")"
   ]
  },
  {
   "cell_type": "code",
   "execution_count": 35,
   "id": "52fc8b4b-dd31-411a-88bb-2f0edcec754c",
   "metadata": {},
   "outputs": [
    {
     "name": "stdout",
     "output_type": "stream",
     "text": [
      "Accolades littérales {} ou { ou } et pour le formatage 10\n"
     ]
    }
   ],
   "source": [
    "print(f\"Accolades littérales {{}} ou {{ ou }} \"\n",
    "      f\"et pour le formatage {10}\")"
   ]
  },
  {
   "cell_type": "code",
   "execution_count": 37,
   "id": "98ae566b-46a6-4898-882f-b8d7b2fcd9a5",
   "metadata": {},
   "outputs": [
    {
     "ename": "SyntaxError",
     "evalue": "f-string: valid expression required before '}' (2665589666.py, line 1)",
     "output_type": "error",
     "traceback": [
      "\u001b[1;36m  Cell \u001b[1;32mIn[37], line 1\u001b[1;36m\u001b[0m\n\u001b[1;33m    print(f\"Accolades sans variable {}\")\u001b[0m\n\u001b[1;37m                                     ^\u001b[0m\n\u001b[1;31mSyntaxError\u001b[0m\u001b[1;31m:\u001b[0m f-string: valid expression required before '}'\n"
     ]
    }
   ],
   "source": [
    "print(f\"Accolades sans variable {}\")"
   ]
  },
  {
   "cell_type": "code",
   "execution_count": 39,
   "id": "4c42d0c0-cf3f-4a57-88c2-2fd7ccf22837",
   "metadata": {},
   "outputs": [
    {
     "data": {
      "text/plain": [
       "'    47.804'"
      ]
     },
     "execution_count": 39,
     "metadata": {},
     "output_type": "execute_result"
    }
   ],
   "source": [
    "f\"{perc_GC:10.3f}\""
   ]
  },
  {
   "cell_type": "code",
   "execution_count": 41,
   "id": "ccab1162-7a25-49b2-9c7e-a46053d61cdb",
   "metadata": {},
   "outputs": [
    {
     "data": {
      "text/plain": [
       "str"
      ]
     },
     "execution_count": 41,
     "metadata": {},
     "output_type": "execute_result"
    }
   ],
   "source": [
    "type(f\"{perc_GC:10.3f}\")"
   ]
  },
  {
   "cell_type": "code",
   "execution_count": 57,
   "id": "03e29f5d-ddbd-4b23-a2fc-6e767ada6238",
   "metadata": {},
   "outputs": [
    {
     "name": "stdout",
     "output_type": "stream",
     "text": [
      "Le résultat de 5 * 5 vaut 25\n",
      "Résultat d'une opération avec des floats : 27.47\n",
      "Le minimum est -2\n",
      "Le type de 2 est <class 'int'>\n"
     ]
    }
   ],
   "source": [
    "print(f\"Le résultat de 5 * 5 vaut {5 * 5}\")\n",
    "print(f\"Résultat d'une opération avec des floats : {(4.1 * 6.7)}\")\n",
    "print(f\"Le minimum est {min(1, -2, 4)}\")\n",
    "entier = 2\n",
    "print(f\"Le type de {entier} est {type(entier)}\")"
   ]
  },
  {
   "cell_type": "code",
   "execution_count": 61,
   "id": "d474222a-2d71-4494-a7f5-0b9641a4c98a",
   "metadata": {},
   "outputs": [
    {
     "name": "stdout",
     "output_type": "stream",
     "text": [
      "1.000000e+09\n",
      "1.000000e-09\n"
     ]
    }
   ],
   "source": [
    "print(f\"{1_000_000_000:e}\")\n",
    "print(f\"{0.000_000_001:e}\")"
   ]
  },
  {
   "cell_type": "code",
   "execution_count": 65,
   "id": "78ecfb4f-61cd-4b85-a388-82b0beef0870",
   "metadata": {},
   "outputs": [
    {
     "name": "stdout",
     "output_type": "stream",
     "text": [
      "6e+23\n",
      "6.022e+23\n",
      "6.022141e+23\n"
     ]
    }
   ],
   "source": [
    "avogadro_number = 6.022_140_76e23\n",
    "print(f\"{avogadro_number:.0e}\")\n",
    "print(f\"{avogadro_number:.3e}\")\n",
    "print(f\"{avogadro_number:.6e}\")"
   ]
  },
  {
   "cell_type": "code",
   "execution_count": 67,
   "id": "f11e2df0-d6d1-41b3-88a9-1520bb30b03e",
   "metadata": {},
   "outputs": [
    {
     "data": {
      "text/plain": [
       "2"
      ]
     },
     "execution_count": 67,
     "metadata": {},
     "output_type": "execute_result"
    }
   ],
   "source": [
    "1 + 1"
   ]
  },
  {
   "cell_type": "code",
   "execution_count": 79,
   "id": "7a20b20e-4fe6-4232-9056-cffc73d0f311",
   "metadata": {},
   "outputs": [
    {
     "name": "stdout",
     "output_type": "stream",
     "text": [
      "AAAAAAAAAAAAAAAAAAAA\n"
     ]
    }
   ],
   "source": [
    "polyA = (\"A\" * 20)\n",
    "print(polyA)"
   ]
  },
  {
   "cell_type": "code",
   "execution_count": 83,
   "id": "5e6403b1-51ec-419c-a797-b56d4ca11ff3",
   "metadata": {},
   "outputs": [
    {
     "name": "stdout",
     "output_type": "stream",
     "text": [
      "AAAAAAAAAAAAAAAAAAAAGCGCGCGCGCGCGCGCGCGCGCGCGCGCGCGCGCGCGCGC\n"
     ]
    }
   ],
   "source": [
    "strand = (\"A\" * 20 + \"GC\" * 20)\n",
    "print(strand)"
   ]
  },
  {
   "cell_type": "code",
   "execution_count": 91,
   "id": "58c31034-9937-44a5-9a6e-e9c210c275b3",
   "metadata": {},
   "outputs": [
    {
     "name": "stdout",
     "output_type": "stream",
     "text": [
      "salut 102 10.318\n",
      "salut, 102, 10.32\n"
     ]
    }
   ],
   "source": [
    "a, b, c = 'salut', 102, 10.318\n",
    "print(a, b,c )\n",
    "print(f\"{a}, {b}, {c:.2f}\")"
   ]
  },
  {
   "cell_type": "code",
   "execution_count": 93,
   "id": "4ba8f68d-67ca-4fa5-8ecb-79c71690acc4",
   "metadata": {},
   "outputs": [],
   "source": [
    "%run percGC.py"
   ]
  },
  {
   "cell_type": "code",
   "execution_count": 117,
   "id": "20b86105-c931-4d85-b296-5ef251e8183b",
   "metadata": {},
   "outputs": [
    {
     "name": "stdout",
     "output_type": "stream",
     "text": [
      "Le pourcentage de GC est 48     %\n",
      "Le pourcentage de GC est 47.8   %\n",
      "Le pourcentage de GC est 47.80  %\n",
      "Le pourcentage de GC est 47.804 %\n"
     ]
    }
   ],
   "source": [
    "print(f\"Le pourcentage de GC est {perc_GC:<6.0f} %\")\n",
    "print(f\"Le pourcentage de GC est {perc_GC:<6.1f} %\")\n",
    "print(f\"Le pourcentage de GC est {perc_GC:<6.2f} %\")\n",
    "print(f\"Le pourcentage de GC est {perc_GC:<6.3f} %\")"
   ]
  },
  {
   "cell_type": "code",
   "execution_count": 127,
   "id": "1e4233fe-f2bb-41a4-8a45-1b4770d42bb3",
   "metadata": {},
   "outputs": [
    {
     "name": "stdout",
     "output_type": "stream",
     "text": [
      "7/3 = 2 + 1/3\n",
      "9/4 = 2 + 1/4\n",
      "23/5 = 4 + 3/5\n",
      "21/8 = 2 + 5/8\n",
      "7/2 = 3 + 1/2\n"
     ]
    }
   ],
   "source": [
    "print(f\"7/3 = {7//3} + {7%3}/3\")\n",
    "print(f\"9/4 = {9//4} + {9%4}/4\")\n",
    "print(f\"23/5 = {23//5} + {23%5}/5\")\n",
    "print(f\"21/8 = {21//8} + {21%8}/8\")\n",
    "print(f\"7/2 = {7//2} + {7%2}/2\")"
   ]
  },
  {
   "cell_type": "markdown",
   "id": "a9b75927-ffdf-4864-be31-b33390fb0138",
   "metadata": {},
   "source": [
    "# 4. Listes"
   ]
  },
  {
   "cell_type": "code",
   "execution_count": 134,
   "id": "a1a621e4-c29d-4e81-8050-0266683a3c76",
   "metadata": {},
   "outputs": [
    {
     "name": "stdout",
     "output_type": "stream",
     "text": [
      "['girafe', 'tigre', 'singe', 'souris']\n",
      "[5, 2.5, 1.75, 0.15]\n",
      "['girafe', 5, 'souris', 0.15]\n"
     ]
    }
   ],
   "source": [
    "animaux = [\"girafe\", \"tigre\", \"singe\", \"souris\"]\n",
    "tailles = [5, 2.5, 1.75, 0.15]\n",
    "mixte = [\"girafe\", 5, \"souris\", 0.15]\n",
    "print(animaux)\n",
    "print(tailles)\n",
    "print(mixte)"
   ]
  },
  {
   "cell_type": "code",
   "execution_count": 142,
   "id": "bbfdd3b6-0b07-455e-a1fc-7efb986b09b8",
   "metadata": {},
   "outputs": [
    {
     "name": "stdout",
     "output_type": "stream",
     "text": [
      "['girafe', 'tigre', 'singe', 'souris']\n",
      "girafe\n",
      "tigre\n",
      "souris\n"
     ]
    }
   ],
   "source": [
    "print(animaux)\n",
    "print(animaux[0])\n",
    "print(animaux[1])\n",
    "print(animaux[3])"
   ]
  },
  {
   "cell_type": "code",
   "execution_count": 144,
   "id": "1699152c-e179-4f7e-9c41-0e96c5f08c8f",
   "metadata": {},
   "outputs": [
    {
     "ename": "IndexError",
     "evalue": "list index out of range",
     "output_type": "error",
     "traceback": [
      "\u001b[1;31m---------------------------------------------------------------------------\u001b[0m",
      "\u001b[1;31mIndexError\u001b[0m                                Traceback (most recent call last)",
      "Cell \u001b[1;32mIn[144], line 1\u001b[0m\n\u001b[1;32m----> 1\u001b[0m \u001b[43manimaux\u001b[49m\u001b[43m[\u001b[49m\u001b[38;5;241;43m4\u001b[39;49m\u001b[43m]\u001b[49m\n",
      "\u001b[1;31mIndexError\u001b[0m: list index out of range"
     ]
    }
   ],
   "source": [
    "animaux[4]"
   ]
  },
  {
   "cell_type": "code",
   "execution_count": 168,
   "id": "d2d8ee8e-b3d4-42e4-b76b-a6f5bcafc7b1",
   "metadata": {},
   "outputs": [
    {
     "name": "stdout",
     "output_type": "stream",
     "text": [
      "['girafe', 'tigre', 'singe', 'souris']\n",
      "['girafe', 'tigre', 'girafe', 'tigre', 'girafe', 'tigre']\n"
     ]
    }
   ],
   "source": [
    "ani1 = [\"girafe\", \"tigre\"]\n",
    "ani2 = [\"singe\", \"souris\"]\n",
    "print(ani1 + ani2)\n",
    "print(ani1 * 3)"
   ]
  },
  {
   "cell_type": "code",
   "execution_count": 170,
   "id": "515bb1ad-844c-45ef-ba3c-e0f978542fac",
   "metadata": {},
   "outputs": [
    {
     "name": "stdout",
     "output_type": "stream",
     "text": [
      "[]\n",
      "[15]\n",
      "[15, -5]\n"
     ]
    }
   ],
   "source": [
    "liste1 = []\n",
    "print(liste1)\n",
    "liste1 = liste1 + [15]\n",
    "print(liste1)\n",
    "liste1 = liste1 + [-5]\n",
    "print(liste1)"
   ]
  },
  {
   "cell_type": "code",
   "execution_count": 172,
   "id": "8473b0cf-20ff-4082-95fe-d125a7a78582",
   "metadata": {},
   "outputs": [
    {
     "name": "stdout",
     "output_type": "stream",
     "text": [
      "[15, -5, 13]\n",
      "[15, -5, 13, -3]\n"
     ]
    }
   ],
   "source": [
    "liste1.append(13)\n",
    "print(liste1)\n",
    "liste1.append(-3)\n",
    "print(liste1)"
   ]
  },
  {
   "cell_type": "code",
   "execution_count": 178,
   "id": "db06b6a2-dd7d-49b5-9128-503cb0099670",
   "metadata": {},
   "outputs": [
    {
     "name": "stdout",
     "output_type": "stream",
     "text": [
      "['girafe', 'tigre', 'singe', 'souris']\n",
      "souris\n",
      "singe\n",
      "girafe\n",
      "girafe\n"
     ]
    }
   ],
   "source": [
    "animaux = [\"girafe\", \"tigre\", \"singe\", \"souris\"]\n",
    "print(animaux)\n",
    "print(animaux[-1])\n",
    "print(animaux[-2])\n",
    "print(animaux[-4])\n",
    "print(animaux[0])"
   ]
  },
  {
   "cell_type": "code",
   "execution_count": 192,
   "id": "e73a06c2-671a-486f-9fc1-931804080773",
   "metadata": {},
   "outputs": [
    {
     "name": "stdout",
     "output_type": "stream",
     "text": [
      "['girafe', 'tigre', 'singe', 'souris']\n",
      "['girafe', 'tigre']\n",
      "['girafe', 'tigre', 'singe']\n",
      "['girafe', 'tigre', 'singe', 'souris']\n",
      "['girafe', 'tigre', 'singe', 'souris']\n",
      "['tigre', 'singe', 'souris']\n",
      "['tigre', 'singe']\n"
     ]
    }
   ],
   "source": [
    "animaux = [\"girafe\", \"tigre\", \"singe\", \"souris\"]\n",
    "print(animaux)\n",
    "print(animaux[0:2])\n",
    "print(animaux[0:3])\n",
    "print(animaux[0:])\n",
    "print(animaux[:])\n",
    "print(animaux[1:])\n",
    "print(animaux[1:-1])"
   ]
  },
  {
   "cell_type": "code",
   "execution_count": 194,
   "id": "b07fe33c-b376-41a0-86e2-9daf9783d264",
   "metadata": {},
   "outputs": [
    {
     "name": "stdout",
     "output_type": "stream",
     "text": [
      "['girafe', 'singe']\n"
     ]
    }
   ],
   "source": [
    "animaux = [\"girafe\", \"tigre\", \"singe\", \"souris\"]\n",
    "print(animaux[0:3:2])"
   ]
  },
  {
   "cell_type": "code",
   "execution_count": 206,
   "id": "deac3288-1133-43fe-96ef-df4235ee8cff",
   "metadata": {},
   "outputs": [
    {
     "name": "stdout",
     "output_type": "stream",
     "text": [
      "[0, 1, 2, 3, 4, 5, 6, 7, 8, 9]\n",
      "[0, 1, 2, 3, 4, 5, 6, 7, 8, 9]\n",
      "[0, 2, 4, 6, 8]\n",
      "[0, 3, 6, 9]\n",
      "[1, 4]\n"
     ]
    }
   ],
   "source": [
    "x = [0, 1, 2, 3, 4, 5, 6, 7, 8, 9]\n",
    "print(x)\n",
    "print(x[::1])\n",
    "print(x[::2])\n",
    "print(x[::3])\n",
    "print(x[1:6:3])"
   ]
  },
  {
   "cell_type": "code",
   "execution_count": 210,
   "id": "cf774207-cc2f-4f6d-8d2c-369f7fcc583b",
   "metadata": {},
   "outputs": [
    {
     "name": "stdout",
     "output_type": "stream",
     "text": [
      "4\n",
      "8\n"
     ]
    }
   ],
   "source": [
    "animaux = [\"girafe\", \"tigre\", \"singe\", \"souris\"]\n",
    "print(len(animaux))\n",
    "print(len([1, 2, 3, 4, 5, 6, 7, 8]))"
   ]
  },
  {
   "cell_type": "code",
   "execution_count": 214,
   "id": "fe6d27aa-e757-471d-a5e3-606f719d21d9",
   "metadata": {},
   "outputs": [
    {
     "name": "stdout",
     "output_type": "stream",
     "text": [
      "range(0, 10)\n",
      "[0, 1, 2, 3, 4, 5, 6, 7, 8, 9]\n"
     ]
    }
   ],
   "source": [
    "print(range(10))\n",
    "print(list(range(10)))"
   ]
  },
  {
   "cell_type": "code",
   "execution_count": 222,
   "id": "9e83c4be-9c27-4b6a-a6d9-84f0363b766f",
   "metadata": {},
   "outputs": [
    {
     "name": "stdout",
     "output_type": "stream",
     "text": [
      "[0, 1, 2, 3, 4]\n",
      "[15, 16, 17, 18, 19]\n",
      "[0, 200, 400, 600, 800]\n",
      "[2, 1, 0, -1]\n"
     ]
    }
   ],
   "source": [
    "print(list(range(0, 5)))\n",
    "print(list(range(15, 20)))\n",
    "print(list(range(0, 1000, 200)))\n",
    "print(list(range(2, -2, -1)))"
   ]
  },
  {
   "cell_type": "code",
   "execution_count": 224,
   "id": "9637ae84-4860-4218-bbf9-ffa150e864b2",
   "metadata": {},
   "outputs": [
    {
     "name": "stdout",
     "output_type": "stream",
     "text": [
      "[]\n"
     ]
    }
   ],
   "source": [
    "print(list(range(10, 0)))"
   ]
  },
  {
   "cell_type": "code",
   "execution_count": 226,
   "id": "36de94e1-d1d4-4c8d-997f-594d9f2bf0d5",
   "metadata": {},
   "outputs": [
    {
     "name": "stdout",
     "output_type": "stream",
     "text": [
      "[10, 9, 8, 7, 6, 5, 4, 3, 2, 1]\n"
     ]
    }
   ],
   "source": [
    "print(list(range(10, 0, -1)))"
   ]
  },
  {
   "cell_type": "code",
   "execution_count": 228,
   "id": "1b5f98e5-2132-49e7-a25e-8182698c5fca",
   "metadata": {},
   "outputs": [
    {
     "name": "stdout",
     "output_type": "stream",
     "text": [
      "[['girafe', 4], ['tigre', 2], ['singe', 5]]\n"
     ]
    }
   ],
   "source": [
    "prairie1 = [\"girafe\", 4]\n",
    "prairie2 = [\"tigre\", 2]\n",
    "prairie3 = [\"singe\", 5]\n",
    "savane = [prairie1, prairie2, prairie3]\n",
    "print(savane)"
   ]
  },
  {
   "cell_type": "code",
   "execution_count": 234,
   "id": "098bff1b-d9b0-4ec5-aff1-061026530779",
   "metadata": {},
   "outputs": [
    {
     "name": "stdout",
     "output_type": "stream",
     "text": [
      "['tigre', 2]\n",
      "tigre\n",
      "2\n"
     ]
    }
   ],
   "source": [
    "print(savane[1])\n",
    "print(savane[1][0])\n",
    "print(savane[1][1])"
   ]
  },
  {
   "cell_type": "code",
   "execution_count": 242,
   "id": "fee2815e-8e41-4a2e-9ffc-7d4af6a7891b",
   "metadata": {},
   "outputs": [
    {
     "name": "stdout",
     "output_type": "stream",
     "text": [
      "[0, 1, 2, 3, 4, 5, 6, 7, 8, 9]\n",
      "45\n",
      "0\n",
      "9\n"
     ]
    }
   ],
   "source": [
    "liste1 = list(range(10))\n",
    "print(liste1)\n",
    "print(sum(liste1))\n",
    "print(min(liste1))\n",
    "print(max(liste1))"
   ]
  },
  {
   "cell_type": "code",
   "execution_count": 244,
   "id": "9bf44afd-158d-447b-bf61-d75f167f59eb",
   "metadata": {},
   "outputs": [
    {
     "data": {
      "text/plain": [
       "3"
      ]
     },
     "execution_count": 244,
     "metadata": {},
     "output_type": "execute_result"
    }
   ],
   "source": [
    "min(3, 4)"
   ]
  },
  {
   "cell_type": "code",
   "execution_count": 246,
   "id": "07f489f8-5180-4f4b-8203-a1b2817d848e",
   "metadata": {},
   "outputs": [
    {
     "ename": "TypeError",
     "evalue": "'<' not supported between instances of 'int' and 'list'",
     "output_type": "error",
     "traceback": [
      "\u001b[1;31m---------------------------------------------------------------------------\u001b[0m",
      "\u001b[1;31mTypeError\u001b[0m                                 Traceback (most recent call last)",
      "Cell \u001b[1;32mIn[246], line 1\u001b[0m\n\u001b[1;32m----> 1\u001b[0m \u001b[38;5;28;43mmin\u001b[39;49m\u001b[43m(\u001b[49m\u001b[43mliste1\u001b[49m\u001b[43m,\u001b[49m\u001b[43m \u001b[49m\u001b[38;5;241;43m3\u001b[39;49m\u001b[43m,\u001b[49m\u001b[43m \u001b[49m\u001b[38;5;241;43m4\u001b[39;49m\u001b[43m)\u001b[49m\n",
      "\u001b[1;31mTypeError\u001b[0m: '<' not supported between instances of 'int' and 'list'"
     ]
    }
   ],
   "source": [
    "min(liste1, 3, 4)"
   ]
  },
  {
   "cell_type": "code",
   "execution_count": 250,
   "id": "0ffb7bd2-3f6c-429a-92b6-4961901c02c5",
   "metadata": {},
   "outputs": [
    {
     "name": "stdout",
     "output_type": "stream",
     "text": [
      "[0, 1, 2, 3, 4]\n",
      "[0, 1, 2, 3, 4]\n",
      "[0, 1, 2, -50, 4]\n",
      "[0, 1, 2, -50, 4]\n"
     ]
    }
   ],
   "source": [
    "liste1 = list(range(5))\n",
    "print(liste1)\n",
    "liste2 = liste1\n",
    "print(liste2)\n",
    "liste1[3] = -50\n",
    "print(liste1)\n",
    "print(liste2)"
   ]
  },
  {
   "cell_type": "code",
   "execution_count": 254,
   "id": "36f7b5b6-928d-48e1-94bb-9f11d8f3df54",
   "metadata": {},
   "outputs": [
    {
     "name": "stdout",
     "output_type": "stream",
     "text": [
      "[0, 1, 2, 3, 4]\n",
      "[0, 1, 2, 3, 4]\n",
      "[0, 1, 2, -50, 4]\n",
      "[0, 1, 2, 3, 4]\n"
     ]
    }
   ],
   "source": [
    "liste1 = list(range(5))\n",
    "print(liste1)\n",
    "liste2 = list(liste1)\n",
    "print(liste2)\n",
    "liste1[3] = -50\n",
    "print(liste1)\n",
    "print(liste2)"
   ]
  },
  {
   "cell_type": "code",
   "execution_count": 256,
   "id": "c0babdeb-2352-43ac-8256-e5a3457145f5",
   "metadata": {},
   "outputs": [
    {
     "name": "stdout",
     "output_type": "stream",
     "text": [
      "[1, 2, 3]\n"
     ]
    }
   ],
   "source": [
    "liste1 = [1, 2]\n",
    "liste1.append(3)\n",
    "print(liste1)"
   ]
  },
  {
   "cell_type": "code",
   "execution_count": 270,
   "id": "b0bc13ed-a49e-4c10-bf9c-0853d4a328fd",
   "metadata": {},
   "outputs": [],
   "source": [
    "liste1 = list(range(10, 15))\n",
    "var = 0\n",
    "var2 = 10"
   ]
  },
  {
   "cell_type": "code",
   "execution_count": 274,
   "id": "5c3d71ee-6a8a-4fd2-949f-ac0fa3c6ba23",
   "metadata": {},
   "outputs": [
    {
     "name": "stdout",
     "output_type": "stream",
     "text": [
      "12\n",
      "10\n"
     ]
    }
   ],
   "source": [
    "print(liste1[2])\n",
    "print(liste1[var])\n",
    "#print(liste1[var2])\n",
    "#print(liste1[\"var\"])"
   ]
  },
  {
   "cell_type": "code",
   "execution_count": 304,
   "id": "2e294996-33f0-4a63-94e0-1c8f196f00db",
   "metadata": {},
   "outputs": [
    {
     "name": "stdout",
     "output_type": "stream",
     "text": [
      "['lundi', 'mardi', 'mercredi', 'jeudi', 'vendredi', 'samedi', 'dimanche']\n",
      "['lundi', 'mardi', 'mercredi', 'jeudi', 'vendredi']\n",
      "['samedi', 'dimanche']\n",
      "['lundi', 'mardi', 'mercredi', 'jeudi', 'vendredi']\n",
      "['samedi', 'dimanche']\n",
      "dimanche\n",
      "dimanche\n",
      "['dimanche', 'samedi', 'vendredi', 'jeudi', 'mercredi', 'mardi', 'lundi']\n"
     ]
    }
   ],
   "source": [
    "semaine = [\"lundi\", \"mardi\", \"mercredi\", \"jeudi\", \"vendredi\", \"samedi\", \"dimanche\"]\n",
    "print(semaine)\n",
    "print(semaine[0:5])\n",
    "print(semaine[5:])\n",
    "print(semaine[:5])\n",
    "print(semaine[-2:])\n",
    "print(semaine[6])\n",
    "print(semaine[-1])\n",
    "print(semaine[-1::-1])"
   ]
  },
  {
   "cell_type": "code",
   "execution_count": 322,
   "id": "57f20a4e-062d-41e6-8d69-6cae9ad17b6c",
   "metadata": {},
   "outputs": [
    {
     "name": "stdout",
     "output_type": "stream",
     "text": [
      "[['decembre', 'janvier', 'fevrier'], ['mars', 'avril', 'mai'], ['juin', 'juillet', 'aout'], ['septembre', 'octobre', 'novembre']]\n",
      "['juin', 'juillet', 'aout']\n",
      "mars\n",
      "[['mars', 'avril', 'mai']]\n",
      "['mars', 'avril', 'mai']\n"
     ]
    }
   ],
   "source": [
    "hiver = [\"decembre\", \"janvier\", \"fevrier\"]\n",
    "printemps = [\"mars\", \"avril\", \"mai\"]\n",
    "ete = [\"juin\", \"juillet\", \"aout\"]\n",
    "automne = [\"septembre\", \"octobre\", \"novembre\"]\n",
    "\n",
    "saisons = [hiver, printemps, ete, automne]\n",
    "\n",
    "print(saisons)\n",
    "print(saisons[2])\n",
    "print(saisons[1][0])\n",
    "print(saisons[1:2])\n",
    "print(saisons[:][1])"
   ]
  },
  {
   "cell_type": "code",
   "execution_count": 338,
   "id": "006ca5c9-e914-4a75-b10a-15b21447ea2b",
   "metadata": {},
   "outputs": [
    {
     "name": "stdout",
     "output_type": "stream",
     "text": [
      "[0, 9, 18, 27, 36, 45, 54, 63, 72, 81]\n"
     ]
    }
   ],
   "source": [
    "print(list(range(0, 82, 9)))"
   ]
  },
  {
   "cell_type": "code",
   "execution_count": 350,
   "id": "9fe37ad1-7562-4810-80cf-fbb3101c1479",
   "metadata": {},
   "outputs": [
    {
     "data": {
      "text/plain": [
       "500"
      ]
     },
     "execution_count": 350,
     "metadata": {},
     "output_type": "execute_result"
    }
   ],
   "source": [
    "len(list(range(2, 1001, 2)))"
   ]
  },
  {
   "cell_type": "markdown",
   "id": "1025f12f-f1c0-4047-8b9b-8682c0d4bfe4",
   "metadata": {},
   "source": [
    "# 5. Boucles et comparaisons"
   ]
  },
  {
   "cell_type": "code",
   "execution_count": 1,
   "id": "6f95148a-0a51-43cb-bbac-8bfb362b1322",
   "metadata": {},
   "outputs": [
    {
     "name": "stdout",
     "output_type": "stream",
     "text": [
      "girafe\n",
      "tigre\n",
      "singe\n",
      "souris\n"
     ]
    }
   ],
   "source": [
    "animaux = [\"girafe\", \"tigre\", \"singe\", \"souris\"]\n",
    "print(animaux[0])\n",
    "print(animaux[1])\n",
    "print(animaux[2])\n",
    "print(animaux[3])"
   ]
  },
  {
   "cell_type": "code",
   "execution_count": 3,
   "id": "a2b27a81-2765-41fe-b194-8a0507b61f14",
   "metadata": {},
   "outputs": [
    {
     "name": "stdout",
     "output_type": "stream",
     "text": [
      "girafe\n",
      "tigre\n",
      "singe\n",
      "souris\n"
     ]
    }
   ],
   "source": [
    "animaux = [\"girafe\", \"tigre\", \"singe\", \"souris\"]\n",
    "\n",
    "for animal in animaux:\n",
    "    print(animal)"
   ]
  },
  {
   "cell_type": "code",
   "execution_count": 5,
   "id": "6ceb143b-55ea-4134-a2b5-264afc93b55b",
   "metadata": {},
   "outputs": [
    {
     "name": "stdout",
     "output_type": "stream",
     "text": [
      "girafe\n",
      "girafegirafe\n",
      "tigre\n",
      "tigretigre\n",
      "singe\n",
      "singesinge\n",
      "souris\n",
      "sourissouris\n",
      "C'est fini\n"
     ]
    }
   ],
   "source": [
    "for animal in animaux:\n",
    "    print(animal)\n",
    "    print(animal * 2)\n",
    "print(\"C'est fini\")"
   ]
  },
  {
   "cell_type": "code",
   "execution_count": 7,
   "id": "a0a3b178-c810-4cba-9fd8-005f035c9db5",
   "metadata": {},
   "outputs": [
    {
     "ename": "IndentationError",
     "evalue": "expected an indented block after 'for' statement on line 1 (3458205274.py, line 2)",
     "output_type": "error",
     "traceback": [
      "\u001b[1;36m  Cell \u001b[1;32mIn[7], line 2\u001b[1;36m\u001b[0m\n\u001b[1;33m    print(animal)\u001b[0m\n\u001b[1;37m    ^\u001b[0m\n\u001b[1;31mIndentationError\u001b[0m\u001b[1;31m:\u001b[0m expected an indented block after 'for' statement on line 1\n"
     ]
    }
   ],
   "source": [
    "for animal in animaux:\n",
    "print(animal)"
   ]
  },
  {
   "cell_type": "code",
   "execution_count": 9,
   "id": "21226b18-f793-4c3a-add3-c211e257d507",
   "metadata": {},
   "outputs": [
    {
     "name": "stdout",
     "output_type": "stream",
     "text": [
      "tigre\n",
      "singe\n"
     ]
    }
   ],
   "source": [
    "animaux = [\"girafe\", \"tigre\", \"singe\", \"souris\"]\n",
    "for animal in animaux[1:3]:\n",
    "    print(animal)"
   ]
  },
  {
   "cell_type": "code",
   "execution_count": 11,
   "id": "b46476d7-74a3-46d2-b19a-42ef62cb42fa",
   "metadata": {},
   "outputs": [
    {
     "name": "stdout",
     "output_type": "stream",
     "text": [
      "1\n",
      "2\n",
      "3\n"
     ]
    }
   ],
   "source": [
    "for i in [1, 2, 3]:\n",
    "    print(i)"
   ]
  },
  {
   "cell_type": "code",
   "execution_count": 13,
   "id": "21906feb-c718-4b20-959a-6acf59e0090d",
   "metadata": {},
   "outputs": [
    {
     "name": "stdout",
     "output_type": "stream",
     "text": [
      "0\n",
      "1\n",
      "2\n",
      "3\n"
     ]
    }
   ],
   "source": [
    "for i in range(4):\n",
    "    print(i)"
   ]
  },
  {
   "cell_type": "code",
   "execution_count": 15,
   "id": "de27eb7d-a76d-450e-a35b-a1a7c262032e",
   "metadata": {},
   "outputs": [
    {
     "name": "stdout",
     "output_type": "stream",
     "text": [
      "girafe\n",
      "tigre\n",
      "singe\n",
      "souris\n"
     ]
    }
   ],
   "source": [
    "animaux = [\"girafe\", \"tigre\", \"singe\", \"souris\"]\n",
    "for i in range(4):\n",
    "    print(animaux[i])"
   ]
  },
  {
   "cell_type": "code",
   "execution_count": 17,
   "id": "a88f084f-ae3a-45cf-a34d-e4a4b34d6ae4",
   "metadata": {},
   "outputs": [
    {
     "name": "stdout",
     "output_type": "stream",
     "text": [
      "L'animal 0 est un(e) girafe\n",
      "L'animal 1 est un(e) tigre\n",
      "L'animal 2 est un(e) singe\n",
      "L'animal 3 est un(e) souris\n"
     ]
    }
   ],
   "source": [
    "animaux = [\"girafe\", \"tigre\", \"singe\", \"souris\"]\n",
    "for i, animal in enumerate(animaux):\n",
    "    print(f\"L'animal {i} est un(e) {animal}\")"
   ]
  },
  {
   "cell_type": "code",
   "execution_count": 23,
   "id": "ad7d09fa-ed1a-4325-8e39-4b33b53c2b77",
   "metadata": {},
   "outputs": [
    {
     "name": "stdout",
     "output_type": "stream",
     "text": [
      "True\n",
      "False\n",
      "True\n"
     ]
    }
   ],
   "source": [
    "x = 5\n",
    "print(x == 5)\n",
    "print(x > 10)\n",
    "print(x < 10)"
   ]
  },
  {
   "cell_type": "code",
   "execution_count": 25,
   "id": "69599af9-f88e-483c-ae4a-c5e7acbe240b",
   "metadata": {},
   "outputs": [
    {
     "name": "stdout",
     "output_type": "stream",
     "text": [
      "False\n",
      "True\n",
      "True\n"
     ]
    }
   ],
   "source": [
    "animal = \"tigre\"\n",
    "print(animal == \"tig\")\n",
    "print(animal != \"tig\")\n",
    "print(animal == \"tigre\")"
   ]
  },
  {
   "cell_type": "code",
   "execution_count": 27,
   "id": "6a6285a2-367c-4b04-b5b4-831a22285461",
   "metadata": {},
   "outputs": [
    {
     "data": {
      "text/plain": [
       "True"
      ]
     },
     "execution_count": 27,
     "metadata": {},
     "output_type": "execute_result"
    }
   ],
   "source": [
    "\"a\" < \"b\""
   ]
  },
  {
   "cell_type": "code",
   "execution_count": 29,
   "id": "a2ebf22b-efe8-4719-a9b8-57c6d652edcb",
   "metadata": {},
   "outputs": [
    {
     "name": "stdout",
     "output_type": "stream",
     "text": [
      "True\n",
      "True\n"
     ]
    }
   ],
   "source": [
    "print(\"ali\" < \"alo\")\n",
    "print(\"abb\" < \"ada\")"
   ]
  },
  {
   "cell_type": "code",
   "execution_count": 31,
   "id": "89397551-c7a8-493d-9a51-fbffdd0f3211",
   "metadata": {},
   "outputs": [
    {
     "name": "stdout",
     "output_type": "stream",
     "text": [
      "1\n",
      "2\n",
      "3\n",
      "4\n"
     ]
    }
   ],
   "source": [
    "i = 1\n",
    "while i <= 4:\n",
    "    print(i)\n",
    "    i += 1"
   ]
  },
  {
   "cell_type": "code",
   "execution_count": 35,
   "id": "de9446f6-4ea5-44e5-8a2c-a9fcf4aa7334",
   "metadata": {},
   "outputs": [
    {
     "name": "stdin",
     "output_type": "stream",
     "text": [
      "Entrez un nombre entier superieur a 10 :  4\n",
      "Entrez un nombre entier superieur a 10 :  -3\n",
      "Entrez un nombre entier superieur a 10 :  15\n"
     ]
    }
   ],
   "source": [
    "i = 0\n",
    "while i < 10:\n",
    "    reponse = input(\"Entrez un nombre entier superieur a 10 : \")\n",
    "    i = int(reponse)"
   ]
  },
  {
   "cell_type": "code",
   "execution_count": 37,
   "id": "5e113d1b-131c-4a01-a29e-61e67ea3ed78",
   "metadata": {},
   "outputs": [
    {
     "data": {
      "text/plain": [
       "15"
      ]
     },
     "execution_count": 37,
     "metadata": {},
     "output_type": "execute_result"
    }
   ],
   "source": [
    "i"
   ]
  },
  {
   "cell_type": "code",
   "execution_count": 41,
   "id": "ff2f5d6d-3b2b-4d0f-8978-782ac422697e",
   "metadata": {},
   "outputs": [],
   "source": [
    "especes = [\"vache\", \"souris\", \"levure\", \"bacterie\"]"
   ]
  },
  {
   "cell_type": "code",
   "execution_count": 43,
   "id": "6803def9-406f-4275-935f-8db76a6e8a59",
   "metadata": {},
   "outputs": [
    {
     "name": "stdout",
     "output_type": "stream",
     "text": [
      "vache\n",
      "souris\n",
      "levure\n",
      "bacterie\n"
     ]
    }
   ],
   "source": [
    "for espece in especes:\n",
    "    print(espece)"
   ]
  },
  {
   "cell_type": "code",
   "execution_count": 45,
   "id": "c7fb0183-97d1-422b-b1c7-a5c6fa1db707",
   "metadata": {},
   "outputs": [
    {
     "name": "stdout",
     "output_type": "stream",
     "text": [
      "vache\n",
      "souris\n",
      "levure\n",
      "bacterie\n"
     ]
    }
   ],
   "source": [
    "for i in range(4):\n",
    "    print(especes[i])"
   ]
  },
  {
   "cell_type": "code",
   "execution_count": 47,
   "id": "a8edc5a1-3041-492b-ad0c-a51e67fc2e95",
   "metadata": {},
   "outputs": [
    {
     "name": "stdout",
     "output_type": "stream",
     "text": [
      "vache\n",
      "souris\n",
      "levure\n",
      "bacterie\n"
     ]
    }
   ],
   "source": [
    "i = 0\n",
    "while i <= 3:\n",
    "    print(especes[i])\n",
    "    i += 1"
   ]
  },
  {
   "cell_type": "code",
   "execution_count": 49,
   "id": "dbc64d35-ec50-485d-a44b-a17a558f8d2c",
   "metadata": {},
   "outputs": [],
   "source": [
    "semaine = [\"lundi\", \"mardi\", \"mercredi\", \"jeudi\", \"vendredi\", \"samedi\", \"dimanche\"]"
   ]
  },
  {
   "cell_type": "code",
   "execution_count": 51,
   "id": "1096d33d-240e-4d37-adcd-ec75329a4c22",
   "metadata": {},
   "outputs": [
    {
     "name": "stdout",
     "output_type": "stream",
     "text": [
      "lundi\n",
      "mardi\n",
      "mercredi\n",
      "jeudi\n",
      "vendredi\n"
     ]
    }
   ],
   "source": [
    "for jour in semaine[:-2]:\n",
    "    print(jour)"
   ]
  },
  {
   "cell_type": "code",
   "execution_count": 55,
   "id": "ae2feb45-3eb7-4ca3-81c9-0a118903b315",
   "metadata": {},
   "outputs": [
    {
     "name": "stdout",
     "output_type": "stream",
     "text": [
      "samedi\n",
      "dimanche\n"
     ]
    }
   ],
   "source": [
    "i = 5\n",
    "while i <= 6:\n",
    "    print(semaine[i])\n",
    "    i += 1"
   ]
  },
  {
   "cell_type": "code",
   "execution_count": 71,
   "id": "c04900b2-23ba-4210-a5bf-8f8fe175fb27",
   "metadata": {},
   "outputs": [
    {
     "name": "stdout",
     "output_type": "stream",
     "text": [
      "1 2 3 4 5 6 7 8 9 10 "
     ]
    }
   ],
   "source": [
    "for i in range(1, 11):\n",
    "    print(i, end = \" \")"
   ]
  },
  {
   "cell_type": "code",
   "execution_count": 83,
   "id": "6d196b27-12fa-49af-9d40-d97c509a0a3e",
   "metadata": {},
   "outputs": [
    {
     "name": "stdout",
     "output_type": "stream",
     "text": [
      "[2, 4, 6, 8, 10, 12, 14, 16, 18, 20, 22]\n"
     ]
    }
   ],
   "source": [
    "impairs = [1, 3, 5, 7, 9, 11, 13, 15, 17, 19, 21]\n",
    "\n",
    "pairs = []\n",
    "for i in impairs:\n",
    "    pairs.append(i+1)\n",
    "\n",
    "print(pairs)"
   ]
  },
  {
   "cell_type": "code",
   "execution_count": 95,
   "id": "00c42ac7-c9e2-4ec3-8911-2aabd2c9bdb5",
   "metadata": {},
   "outputs": [
    {
     "name": "stdout",
     "output_type": "stream",
     "text": [
      "La moyenne est de 9.80\n"
     ]
    }
   ],
   "source": [
    "notes = [14, 9, 6, 8, 12]\n",
    "\n",
    "moyenne = sum(notes) / len(notes)\n",
    "print(f\"La moyenne est de {moyenne:.2f}\")"
   ]
  },
  {
   "cell_type": "code",
   "execution_count": 109,
   "id": "1f2e3fe7-357f-4261-b9a0-573434fce782",
   "metadata": {},
   "outputs": [
    {
     "name": "stdout",
     "output_type": "stream",
     "text": [
      "[2, 4, 6, 8, 10, 12, 14, 16, 18, 20]\n",
      "8\n",
      "24\n",
      "48\n",
      "80\n",
      "120\n",
      "168\n",
      "224\n",
      "288\n",
      "360\n"
     ]
    }
   ],
   "source": [
    "entiers = list(range(2, 21, 2))\n",
    "print(entiers)\n",
    "for i in range(9):\n",
    "    print(entiers[i] * entiers[i+1])"
   ]
  },
  {
   "cell_type": "code",
   "execution_count": 117,
   "id": "c79f52e1-291a-4b3a-85e9-eaf1cdb5f55e",
   "metadata": {},
   "outputs": [
    {
     "name": "stdout",
     "output_type": "stream",
     "text": [
      "\n",
      "*\n",
      "**\n",
      "***\n",
      "****\n",
      "*****\n",
      "******\n",
      "*******\n",
      "********\n",
      "*********\n",
      "**********\n"
     ]
    }
   ],
   "source": [
    "for i in range(11):\n",
    "    print(\"*\" * i)"
   ]
  },
  {
   "cell_type": "code",
   "execution_count": 131,
   "id": "309f5a57-ebcf-46f8-819f-8077a4b8a28b",
   "metadata": {},
   "outputs": [
    {
     "name": "stdout",
     "output_type": "stream",
     "text": [
      "**********\n",
      "*********\n",
      "********\n",
      "*******\n",
      "******\n",
      "*****\n",
      "****\n",
      "***\n",
      "**\n",
      "*\n"
     ]
    }
   ],
   "source": [
    "for i in range(10, 0, -1):\n",
    "    print(\"*\" * i)"
   ]
  },
  {
   "cell_type": "code",
   "execution_count": 157,
   "id": "7dbc0ca5-ee0a-4483-ac8b-b18854c7f1d9",
   "metadata": {},
   "outputs": [
    {
     "name": "stdout",
     "output_type": "stream",
     "text": [
      "          \n",
      "         *\n",
      "        **\n",
      "       ***\n",
      "      ****\n",
      "     *****\n",
      "    ******\n",
      "   *******\n",
      "  ********\n",
      " *********\n",
      "**********\n"
     ]
    }
   ],
   "source": [
    "for i in range(11):\n",
    "    print(f\"{'*' * i:>10}\")\n",
    "\n",
    "#print(f\"Le pourcentage de GC est {perc_GC:<6.3f} %\")"
   ]
  },
  {
   "cell_type": "code",
   "execution_count": 177,
   "id": "9f1ef8ac-860c-47f5-a246-32fb5a230482",
   "metadata": {},
   "outputs": [
    {
     "name": "stdout",
     "output_type": "stream",
     "text": [
      "         *          \n",
      "        ***         \n",
      "       *****        \n",
      "      *******       \n",
      "     *********      \n",
      "    ***********     \n",
      "   *************    \n",
      "  ***************   \n",
      " *****************  \n",
      "******************* \n"
     ]
    }
   ],
   "source": [
    "for i in range(1, 20, 2):\n",
    "        print(f\"{'*' * i:^20}\")\n",
    "    "
   ]
  },
  {
   "cell_type": "code",
   "execution_count": 209,
   "id": "5299998e-96a4-449b-9692-90d3f4c324fc",
   "metadata": {},
   "outputs": [
    {
     "name": "stdin",
     "output_type": "stream",
     "text": [
      "Entrez un nombre de lignes (entier positif):  10\n"
     ]
    },
    {
     "name": "stdout",
     "output_type": "stream",
     "text": [
      "         *          \n",
      "        ***         \n",
      "       *****        \n",
      "      *******       \n",
      "     *********      \n",
      "    ***********     \n",
      "   *************    \n",
      "  ***************   \n",
      " *****************  \n",
      "******************* \n"
     ]
    }
   ],
   "source": [
    "reponse = input(\"Entrez un nombre de lignes (entier positif): \")\n",
    "N = int(reponse)\n",
    "for i in range(1, N*2, 2):\n",
    "    print(f\"{'*' * i:^20}\")\n",
    "    "
   ]
  },
  {
   "cell_type": "markdown",
   "id": "b506a3e4-9e71-4c68-b6d8-2b09739ab7ec",
   "metadata": {},
   "source": [
    "# 6. Tests"
   ]
  },
  {
   "cell_type": "code",
   "execution_count": 1,
   "id": "0ae2c45b-7404-4ebc-836a-f45bd41c1174",
   "metadata": {},
   "outputs": [
    {
     "name": "stdout",
     "output_type": "stream",
     "text": [
      "Le test est vrai!\n"
     ]
    }
   ],
   "source": [
    "x = 2\n",
    "if x == 2:\n",
    "    print(\"Le test est vrai!\")"
   ]
  },
  {
   "cell_type": "code",
   "execution_count": 3,
   "id": "29dc1064-108f-4552-97dd-36110cb7b50b",
   "metadata": {},
   "outputs": [],
   "source": [
    "x = \"souris\"\n",
    "if x == \"tigre\":\n",
    "    print(\"Le test est vrai!\")"
   ]
  },
  {
   "cell_type": "code",
   "execution_count": 4,
   "id": "a3dbf5f9-10de-4c44-a5b0-fa3740e49b3d",
   "metadata": {},
   "outputs": [
    {
     "name": "stdout",
     "output_type": "stream",
     "text": [
      "Le test est vrai!\n"
     ]
    }
   ],
   "source": [
    "x = 2\n",
    "if x == 2:\n",
    "    print(\"Le test est vrai!\")\n",
    "else:\n",
    "    print(\"Le test est faux!\")"
   ]
  },
  {
   "cell_type": "code",
   "execution_count": 7,
   "id": "80076248-ab9a-4851-95e3-319ab65a8d29",
   "metadata": {},
   "outputs": [
    {
     "name": "stdout",
     "output_type": "stream",
     "text": [
      "Le test est faux!\n"
     ]
    }
   ],
   "source": [
    "x = 3\n",
    "if x == 2:\n",
    "    print(\"Le test est vrai!\")\n",
    "else:\n",
    "    print(\"Le test est faux!\")"
   ]
  },
  {
   "cell_type": "code",
   "execution_count": 25,
   "id": "c2a45cfd-bc8c-462a-9bd7-589068ff5898",
   "metadata": {},
   "outputs": [
    {
     "name": "stdout",
     "output_type": "stream",
     "text": [
      "choix d'une guanine\n"
     ]
    }
   ],
   "source": [
    "import random\n",
    "base = random.choice([\"a\", \"t\", \"c\", \"g\"])\n",
    "\n",
    "if base == \"a\":\n",
    "    print(\"choix d'une adénine\")\n",
    "elif base == \"t\":\n",
    "    print(\"choix d'une thymine\")\n",
    "elif base == \"c\":\n",
    "    print(\"choix d'une cytosine\")\n",
    "elif base == \"g\":\n",
    "    print(\"choix d'une guanine\")\n",
    "        "
   ]
  },
  {
   "cell_type": "code",
   "execution_count": 27,
   "id": "3b7922a1-e233-46ed-b3ee-00941b952d88",
   "metadata": {},
   "outputs": [
    {
     "name": "stdout",
     "output_type": "stream",
     "text": [
      "Le test est vrai\n",
      "Car la variable nb vaut 5\n"
     ]
    }
   ],
   "source": [
    "nombres = [4, 5, 6]\n",
    "for nb in nombres:\n",
    "    if nb == 5:\n",
    "        print(\"Le test est vrai\")\n",
    "        print(f\"Car la variable nb vaut {nb}\")"
   ]
  },
  {
   "cell_type": "code",
   "execution_count": 29,
   "id": "8f49da2e-a186-44ae-9edd-08fdf60c8712",
   "metadata": {},
   "outputs": [
    {
     "name": "stdout",
     "output_type": "stream",
     "text": [
      "car la variable vaut 4\n",
      "Le test est vrai\n",
      "car la variable vaut 5\n",
      "car la variable vaut 6\n"
     ]
    }
   ],
   "source": [
    "nombres = [4, 5, 6]\n",
    "for nb in nombres:\n",
    "    if nb == 5:\n",
    "        print(\"Le test est vrai\")\n",
    "    print(f\"car la variable vaut {nb}\")"
   ]
  },
  {
   "cell_type": "code",
   "execution_count": 31,
   "id": "22106f3a-9ab0-4b64-a971-18b1aed8b2a9",
   "metadata": {},
   "outputs": [
    {
     "name": "stdout",
     "output_type": "stream",
     "text": [
      "Le test est vrai\n"
     ]
    }
   ],
   "source": [
    "x, y = 2, 2\n",
    "if x == 2 and y == 2:\n",
    "    print(\"Le test est vrai\")"
   ]
  },
  {
   "cell_type": "code",
   "execution_count": 33,
   "id": "da583ba0-2c73-47d1-866d-9127e6f38d7b",
   "metadata": {},
   "outputs": [
    {
     "name": "stdout",
     "output_type": "stream",
     "text": [
      "Le test est vrai\n"
     ]
    }
   ],
   "source": [
    "x, y = 2, 2\n",
    "if x == 2:\n",
    "    if y ==2:\n",
    "        print(\"Le test est vrai\")"
   ]
  },
  {
   "cell_type": "code",
   "execution_count": 35,
   "id": "44dad2ad-2279-44f8-b76d-d42bb2d211b8",
   "metadata": {},
   "outputs": [
    {
     "name": "stdout",
     "output_type": "stream",
     "text": [
      "True\n",
      "False\n",
      "True\n",
      "False\n"
     ]
    }
   ],
   "source": [
    "print(True or False)\n",
    "print(not True)\n",
    "print(not False)\n",
    "print(not (True and True))"
   ]
  },
  {
   "cell_type": "code",
   "execution_count": 37,
   "id": "0e4c6a04-cf8a-4870-aedb-a015ce9cae2e",
   "metadata": {},
   "outputs": [
    {
     "name": "stdout",
     "output_type": "stream",
     "text": [
      "0\n",
      "1\n"
     ]
    }
   ],
   "source": [
    "for nombre in range(4):\n",
    "    if nombre > 1:\n",
    "        break\n",
    "    print(nombre)"
   ]
  },
  {
   "cell_type": "code",
   "execution_count": 39,
   "id": "966ecaa6-d6c4-49de-8949-5bfa39877ccb",
   "metadata": {},
   "outputs": [
    {
     "name": "stdout",
     "output_type": "stream",
     "text": [
      "0\n",
      "1\n",
      "3\n"
     ]
    }
   ],
   "source": [
    "for nombre in range(4):\n",
    "    if nombre == 2:\n",
    "        continue\n",
    "    print(nombre)"
   ]
  },
  {
   "cell_type": "code",
   "execution_count": 41,
   "id": "e3af6642-31be-4e66-a79d-b553a450aa80",
   "metadata": {},
   "outputs": [
    {
     "data": {
      "text/plain": [
       "True"
      ]
     },
     "execution_count": 41,
     "metadata": {},
     "output_type": "execute_result"
    }
   ],
   "source": [
    "1 / 10 == 0.1"
   ]
  },
  {
   "cell_type": "code",
   "execution_count": 43,
   "id": "0cecbfc8-9966-4481-b6d6-dba2c0a2e5ab",
   "metadata": {},
   "outputs": [
    {
     "data": {
      "text/plain": [
       "False"
      ]
     },
     "execution_count": 43,
     "metadata": {},
     "output_type": "execute_result"
    }
   ],
   "source": [
    "(3 - 2.7) == 0.3"
   ]
  },
  {
   "cell_type": "code",
   "execution_count": 45,
   "id": "03b89f01-23b6-433d-a8f8-27fa592aa0f1",
   "metadata": {},
   "outputs": [
    {
     "data": {
      "text/plain": [
       "0.2999999999999998"
      ]
     },
     "execution_count": 45,
     "metadata": {},
     "output_type": "execute_result"
    }
   ],
   "source": [
    "3 - 2.7"
   ]
  },
  {
   "cell_type": "code",
   "execution_count": 47,
   "id": "9e6a567e-7b0d-4dfb-a465-fc980cd80054",
   "metadata": {},
   "outputs": [
    {
     "name": "stdout",
     "output_type": "stream",
     "text": [
      "0.3\n",
      "0.30000\n",
      "0.299999999999999988897769753748434595763683319091796875000000\n",
      "0.299999999999999822364316059974953532218933105468750000000000\n"
     ]
    }
   ],
   "source": [
    "print(0.3)\n",
    "print(f\"{0.3:.5f}\")\n",
    "print(f\"{0.3:.60f}\")\n",
    "print(f\"{3 - 2.7:.60f}\")"
   ]
  },
  {
   "cell_type": "code",
   "execution_count": 49,
   "id": "957e912a-e7a5-4599-94b6-3de8413acdbb",
   "metadata": {},
   "outputs": [
    {
     "name": "stdout",
     "output_type": "stream",
     "text": [
      "True\n",
      "True\n"
     ]
    }
   ],
   "source": [
    "delta = 0.0001\n",
    "var = 3.0 - 2.7\n",
    "print(0.3 - delta < var < 0.3 + delta)\n",
    "print(abs(var - 0.3) < delta)"
   ]
  },
  {
   "cell_type": "code",
   "execution_count": 65,
   "id": "b1221384-bad9-484c-a2ec-70cdfe76fa92",
   "metadata": {},
   "outputs": [
    {
     "name": "stdout",
     "output_type": "stream",
     "text": [
      "lundi: Au travail\n",
      "mardi\n",
      "mercredi\n",
      "jeudi\n",
      "vendredi: Chouette c'est vendredi\n",
      "samedi: Repos ce week-end\n",
      "dimanche: Repos ce week-end\n"
     ]
    }
   ],
   "source": [
    "semaine = ['lundi', 'mardi', 'mercredi', 'jeudi', 'vendredi', 'samedi', 'dimanche']\n",
    "\n",
    "for jour in semaine:\n",
    "\n",
    "    if jour == 'lundi':\n",
    "        print(jour + \": Au travail\")\n",
    "\n",
    "    elif jour == 'vendredi':\n",
    "        print(jour + \": Chouette c'est vendredi\")\n",
    "\n",
    "    elif jour == \"samedi\":\n",
    "        print(jour + \": Repos ce week-end\")\n",
    "\n",
    "    elif jour == \"dimanche\":\n",
    "        print(jour + \": Repos ce week-end\")\n",
    "\n",
    "    else:\n",
    "        print(jour)"
   ]
  },
  {
   "cell_type": "markdown",
   "id": "e3ba7203-4f58-49cf-ab48-563c775627b4",
   "metadata": {},
   "source": [
    "# 7. Fichiers"
   ]
  },
  {
   "cell_type": "code",
   "execution_count": 82,
   "id": "7ebd31f9-e20c-417c-b1a0-0ea8bfc2598b",
   "metadata": {},
   "outputs": [],
   "source": [
    "filin = open(\"animaux.txt\", \"r\")"
   ]
  },
  {
   "cell_type": "code",
   "execution_count": 84,
   "id": "57573bd9-c086-47bd-87c1-90bdd05e6fce",
   "metadata": {},
   "outputs": [
    {
     "data": {
      "text/plain": [
       "<_io.TextIOWrapper name='animaux.txt' mode='r' encoding='cp1252'>"
      ]
     },
     "execution_count": 84,
     "metadata": {},
     "output_type": "execute_result"
    }
   ],
   "source": [
    "filin"
   ]
  },
  {
   "cell_type": "code",
   "execution_count": 86,
   "id": "9940ae1f-95fd-4eaf-9f75-8e60781cbbfc",
   "metadata": {},
   "outputs": [
    {
     "data": {
      "text/plain": [
       "['girafe\\n', 'tigre\\n', 'singe\\n', 'souris']"
      ]
     },
     "execution_count": 86,
     "metadata": {},
     "output_type": "execute_result"
    }
   ],
   "source": [
    "filin.readlines()"
   ]
  },
  {
   "cell_type": "code",
   "execution_count": 88,
   "id": "3eb65305-14a2-44fb-8873-d3c6cb0b0688",
   "metadata": {},
   "outputs": [],
   "source": [
    "filin.close()"
   ]
  },
  {
   "cell_type": "code",
   "execution_count": 90,
   "id": "b5ada9b9-d142-4d62-a6e6-9db63cdeb367",
   "metadata": {},
   "outputs": [
    {
     "ename": "ValueError",
     "evalue": "I/O operation on closed file.",
     "output_type": "error",
     "traceback": [
      "\u001b[1;31m---------------------------------------------------------------------------\u001b[0m",
      "\u001b[1;31mValueError\u001b[0m                                Traceback (most recent call last)",
      "Cell \u001b[1;32mIn[90], line 1\u001b[0m\n\u001b[1;32m----> 1\u001b[0m \u001b[43mfilin\u001b[49m\u001b[38;5;241;43m.\u001b[39;49m\u001b[43mreadlines\u001b[49m\u001b[43m(\u001b[49m\u001b[43m)\u001b[49m\n",
      "\u001b[1;31mValueError\u001b[0m: I/O operation on closed file."
     ]
    }
   ],
   "source": [
    "filin.readlines()"
   ]
  },
  {
   "cell_type": "code",
   "execution_count": 92,
   "id": "b7c70667-943d-472c-bf8b-42206358bf3c",
   "metadata": {},
   "outputs": [
    {
     "data": {
      "text/plain": [
       "['girafe\\n', 'tigre\\n', 'singe\\n', 'souris']"
      ]
     },
     "execution_count": 92,
     "metadata": {},
     "output_type": "execute_result"
    }
   ],
   "source": [
    "filin = open(\"animaux.txt\", \"r\")\n",
    "lignes = filin.readlines()\n",
    "lignes"
   ]
  },
  {
   "cell_type": "code",
   "execution_count": 96,
   "id": "d3f25508-a67c-4b84-b4d2-f266a14034c9",
   "metadata": {},
   "outputs": [
    {
     "name": "stdout",
     "output_type": "stream",
     "text": [
      "girafe\n",
      "\n",
      "tigre\n",
      "\n",
      "singe\n",
      "\n",
      "souris\n"
     ]
    }
   ],
   "source": [
    "for ligne in lignes:\n",
    "    print(ligne)"
   ]
  },
  {
   "cell_type": "code",
   "execution_count": 98,
   "id": "073d0b57-452a-4458-9df6-73af17786fda",
   "metadata": {},
   "outputs": [],
   "source": [
    "filin.close()"
   ]
  },
  {
   "cell_type": "code",
   "execution_count": 106,
   "id": "03e72624-8739-4de9-a970-6c5a171df6cd",
   "metadata": {},
   "outputs": [
    {
     "name": "stdout",
     "output_type": "stream",
     "text": [
      "girafe\n",
      "\n",
      "tigre\n",
      "\n",
      "singe\n",
      "\n",
      "souris\n"
     ]
    }
   ],
   "source": [
    "with open(\"animaux.txt\", \"r\") as filin:\n",
    "    lignes = filin.readlines()\n",
    "    for ligne in lignes:\n",
    "        print(ligne)"
   ]
  },
  {
   "cell_type": "code",
   "execution_count": 104,
   "id": "b74d79f4-1527-4880-addb-d17d7f665da2",
   "metadata": {},
   "outputs": [],
   "source": [
    "with open(\"animaux.txt\", \"r\") as filin:\n",
    "    filin.read()"
   ]
  },
  {
   "cell_type": "code",
   "execution_count": 108,
   "id": "65d7da56-762c-4fd3-a4f4-db7f7fb19e8f",
   "metadata": {},
   "outputs": [
    {
     "name": "stdout",
     "output_type": "stream",
     "text": [
      "girafe\n",
      "\n",
      "tigre\n",
      "\n",
      "singe\n",
      "\n",
      "souris\n"
     ]
    }
   ],
   "source": [
    "with open(\"animaux.txt\", \"r\") as filin:\n",
    "    ligne = filin.readline()\n",
    "    while ligne != \"\":\n",
    "        print(ligne)\n",
    "        ligne = filin.readline()"
   ]
  },
  {
   "cell_type": "code",
   "execution_count": 110,
   "id": "b0fab979-87aa-4369-b027-68b0b3ec6b85",
   "metadata": {},
   "outputs": [
    {
     "name": "stdout",
     "output_type": "stream",
     "text": [
      "girafe\n",
      "\n",
      "tigre\n",
      "\n",
      "singe\n",
      "\n",
      "souris\n"
     ]
    }
   ],
   "source": [
    "with open(\"animaux.txt\", \"r\") as filin:\n",
    "    for ligne in filin:\n",
    "        print(ligne)"
   ]
  },
  {
   "cell_type": "code",
   "execution_count": 112,
   "id": "20cea6d6-9455-4d89-852b-d3dfc37a810f",
   "metadata": {},
   "outputs": [],
   "source": [
    "animaux2 = [\"poisson\", \"abeille\", \"chat\"]\n",
    "with open(\"animaux2.txt\", \"w\") as filout:\n",
    "    for animal in animaux2:\n",
    "        filout.write(animal)"
   ]
  },
  {
   "cell_type": "code",
   "execution_count": 114,
   "id": "be49fc21-08fa-4829-be52-362a576df74d",
   "metadata": {},
   "outputs": [
    {
     "data": {
      "text/plain": [
       "['poissonabeillechat']"
      ]
     },
     "execution_count": 114,
     "metadata": {},
     "output_type": "execute_result"
    }
   ],
   "source": [
    "filin = open(\"animaux2.txt\", \"r\")\n",
    "filin.readlines()"
   ]
  },
  {
   "cell_type": "code",
   "execution_count": 116,
   "id": "b7ee6076-0cb3-4000-9183-ca8dce861a09",
   "metadata": {},
   "outputs": [],
   "source": [
    "animaux2 = [\"poisson\", \"abeille\", \"chat\"]\n",
    "with open(\"animaux2.txt\", \"w\") as filout:\n",
    "    for animal in animaux2:\n",
    "        filout.write(f\"{animal}\\n\")"
   ]
  },
  {
   "cell_type": "code",
   "execution_count": 120,
   "id": "0f266e8e-fa0c-43a4-a1f6-d3a2848dda78",
   "metadata": {},
   "outputs": [
    {
     "name": "stdout",
     "output_type": "stream",
     "text": [
      "poisson\n",
      "\n",
      "abeille\n",
      "\n",
      "chat\n",
      "\n"
     ]
    }
   ],
   "source": [
    "with open(\"animaux2.txt\", \"r\") as filin:\n",
    "    for ligne in filin:\n",
    "        print(ligne)"
   ]
  },
  {
   "cell_type": "code",
   "execution_count": 126,
   "id": "f3482155-5a10-431c-adf4-9fb7a70e43de",
   "metadata": {},
   "outputs": [],
   "source": [
    "with open(\"animaux.txt\", \"r\") as fichier1, open(\"animaux2.txt\", \"w\") as fichier2:\n",
    "    for ligne in fichier1:\n",
    "        fichier2.write(\"* \" + ligne)"
   ]
  },
  {
   "cell_type": "code",
   "execution_count": 130,
   "id": "b2f42860-1321-4692-8eb2-62fe7edd9a67",
   "metadata": {},
   "outputs": [
    {
     "name": "stdout",
     "output_type": "stream",
     "text": [
      "13.5\n",
      "\n",
      "17\n",
      "\n",
      "9.5\n",
      "\n",
      "12\n",
      "\n",
      "14\n",
      "\n",
      "6\n",
      "\n",
      "5.5\n",
      "\n",
      "8.5\n",
      "\n",
      "10.5\n",
      "\n",
      "29\n",
      "\n",
      "14\n",
      "\n",
      "9\n",
      "\n",
      "15.5\n",
      "\n",
      "11.5\n",
      "\n",
      "16\n",
      "\n",
      "18\n",
      "\n",
      "13\n",
      "\n",
      "12.5\n",
      "\n",
      "15.5\n",
      "\n",
      "17\n",
      "\n"
     ]
    }
   ],
   "source": [
    "with open(\"notes.txt\", \"r\") as filin:\n",
    "    for ligne in filin:\n",
    "        print(ligne)"
   ]
  },
  {
   "cell_type": "markdown",
   "id": "505aa08e-a07e-470e-8fb3-ae4e15e93974",
   "metadata": {},
   "source": [
    "# 8. Dictionaires et tuples"
   ]
  },
  {
   "cell_type": "code",
   "execution_count": 1,
   "id": "6fe9e2a9-9cbf-42b5-bc6c-5c857830af39",
   "metadata": {},
   "outputs": [
    {
     "name": "stdout",
     "output_type": "stream",
     "text": [
      "{'nom': 'girafe', 'taille': 5.0, 'poids': 1100}\n"
     ]
    }
   ],
   "source": [
    "animal1 = {}\n",
    "animal1[\"nom\"] = \"girafe\"\n",
    "animal1[\"taille\"] = 5.0\n",
    "animal1[\"poids\"] = 1100\n",
    "print(animal1)"
   ]
  },
  {
   "cell_type": "code",
   "execution_count": 3,
   "id": "b8a9c7ee-479e-4def-9e46-4c41b98b3343",
   "metadata": {},
   "outputs": [
    {
     "name": "stdout",
     "output_type": "stream",
     "text": [
      "girafe\n",
      "5.0\n"
     ]
    }
   ],
   "source": [
    "print(animal1[\"nom\"])\n",
    "print(animal1[\"taille\"])"
   ]
  },
  {
   "cell_type": "code",
   "execution_count": 4,
   "id": "d0c22330-25a5-4f9a-82d8-b9438285cc7d",
   "metadata": {},
   "outputs": [
    {
     "name": "stdout",
     "output_type": "stream",
     "text": [
      "{'nom': 'singe', 'poids': 70, 'taille': 1.75, 'age': 15}\n"
     ]
    }
   ],
   "source": [
    "animal2 = {\"nom\": \"singe\", \"poids\": 70, \"taille\": 1.75}\n",
    "animal2[\"age\"] = 15\n",
    "print(animal2)"
   ]
  },
  {
   "cell_type": "code",
   "execution_count": 5,
   "id": "47201af8-15ad-452c-8660-b017015126f0",
   "metadata": {},
   "outputs": [
    {
     "data": {
      "text/plain": [
       "3"
      ]
     },
     "execution_count": 5,
     "metadata": {},
     "output_type": "execute_result"
    }
   ],
   "source": [
    "ani3 = {\"nom\": \"pinson\", \"poids\": 0.02, \"taille\": 0.15}\n",
    "len(ani3)"
   ]
  },
  {
   "cell_type": "code",
   "execution_count": 6,
   "id": "be7523ae-234a-4e0e-8ea8-242d88b8c14d",
   "metadata": {},
   "outputs": [
    {
     "name": "stdout",
     "output_type": "stream",
     "text": [
      "nom singe\n",
      "poids 70\n",
      "taille 1.75\n"
     ]
    }
   ],
   "source": [
    "animal2 = {'nom': 'singe', 'poids': 70, 'taille': 1.75}\n",
    "for key in animal2:\n",
    "    print(key, animal2[key])"
   ]
  },
  {
   "cell_type": "code",
   "execution_count": 11,
   "id": "2a5e9914-5966-4503-bdfe-1cdbd2f147bc",
   "metadata": {},
   "outputs": [
    {
     "name": "stdout",
     "output_type": "stream",
     "text": [
      "dict_keys(['nom', 'poids', 'taille'])\n",
      "dict_values(['singe', 70, 1.75])\n"
     ]
    }
   ],
   "source": [
    "print(animal2.keys())\n",
    "print(animal2.values())"
   ]
  },
  {
   "cell_type": "code",
   "execution_count": 13,
   "id": "cc1809fd-b9ff-4717-857c-47edf170fde8",
   "metadata": {},
   "outputs": [
    {
     "data": {
      "text/plain": [
       "dict_values(['singe', 70, 1.75])"
      ]
     },
     "execution_count": 13,
     "metadata": {},
     "output_type": "execute_result"
    }
   ],
   "source": [
    "animal2.values()"
   ]
  },
  {
   "cell_type": "code",
   "execution_count": 15,
   "id": "97e833f2-6d8c-4764-b7e3-cfe8e1457873",
   "metadata": {},
   "outputs": [
    {
     "data": {
      "text/plain": [
       "['singe', 70, 1.75]"
      ]
     },
     "execution_count": 15,
     "metadata": {},
     "output_type": "execute_result"
    }
   ],
   "source": [
    "list(animal2.values())"
   ]
  },
  {
   "cell_type": "code",
   "execution_count": 17,
   "id": "eabf14f8-e8d8-4858-835c-f8f64ea38587",
   "metadata": {},
   "outputs": [
    {
     "name": "stdout",
     "output_type": "stream",
     "text": [
      "nom\n",
      "poids\n",
      "taille\n"
     ]
    }
   ],
   "source": [
    "for cle in animal2.keys():\n",
    "    print(cle)"
   ]
  },
  {
   "cell_type": "code",
   "execution_count": 19,
   "id": "e68a3644-8dce-4ecc-9bce-76ec1a6e2518",
   "metadata": {},
   "outputs": [
    {
     "data": {
      "text/plain": [
       "dict_items([(0, 't'), (1, 'o'), (2, 't'), (3, 'o')])"
      ]
     },
     "execution_count": 19,
     "metadata": {},
     "output_type": "execute_result"
    }
   ],
   "source": [
    "dico = {0: \"t\", 1: \"o\", 2: \"t\", 3: \"o\"}\n",
    "dico.items()"
   ]
  },
  {
   "cell_type": "code",
   "execution_count": 21,
   "id": "e44ec1c1-6d15-49e8-a406-0a9fb2fde474",
   "metadata": {},
   "outputs": [
    {
     "ename": "TypeError",
     "evalue": "'dict_items' object is not subscriptable",
     "output_type": "error",
     "traceback": [
      "\u001b[1;31m---------------------------------------------------------------------------\u001b[0m",
      "\u001b[1;31mTypeError\u001b[0m                                 Traceback (most recent call last)",
      "Cell \u001b[1;32mIn[21], line 1\u001b[0m\n\u001b[1;32m----> 1\u001b[0m \u001b[43mdico\u001b[49m\u001b[38;5;241;43m.\u001b[39;49m\u001b[43mitems\u001b[49m\u001b[43m(\u001b[49m\u001b[43m)\u001b[49m\u001b[43m[\u001b[49m\u001b[38;5;241;43m2\u001b[39;49m\u001b[43m]\u001b[49m\n",
      "\u001b[1;31mTypeError\u001b[0m: 'dict_items' object is not subscriptable"
     ]
    }
   ],
   "source": [
    "dico.items()[2]"
   ]
  },
  {
   "cell_type": "code",
   "execution_count": 25,
   "id": "b9fe3845-8f9b-4e8e-b35e-9695c6620581",
   "metadata": {},
   "outputs": [
    {
     "name": "stdout",
     "output_type": "stream",
     "text": [
      "0 t\n",
      "1 o\n",
      "2 t\n",
      "3 o\n"
     ]
    }
   ],
   "source": [
    "for key, val in dico.items():\n",
    "    print(key, val)"
   ]
  },
  {
   "cell_type": "code",
   "execution_count": 29,
   "id": "e9136a8b-64a5-4023-8f7f-b71163dd3417",
   "metadata": {},
   "outputs": [],
   "source": [
    "animal2 = {'nom': 'singe', 'poids': 70, 'taille': 1.75}"
   ]
  },
  {
   "cell_type": "code",
   "execution_count": 31,
   "id": "30fc4126-4944-4fc6-ba49-6174b8ae7b8d",
   "metadata": {},
   "outputs": [
    {
     "data": {
      "text/plain": [
       "True"
      ]
     },
     "execution_count": 31,
     "metadata": {},
     "output_type": "execute_result"
    }
   ],
   "source": [
    "\"poids\" in animal2"
   ]
  },
  {
   "cell_type": "code",
   "execution_count": 33,
   "id": "fc7cd868-6a44-4dd1-b8c1-aeef1ec0b664",
   "metadata": {},
   "outputs": [
    {
     "name": "stdout",
     "output_type": "stream",
     "text": [
      "La clé 'poids' existe pour animal2\n"
     ]
    }
   ],
   "source": [
    "if \"poids\" in animal2:\n",
    "    print(\"La clé 'poids' existe pour animal2\")"
   ]
  },
  {
   "cell_type": "code",
   "execution_count": 35,
   "id": "bd66d1e8-58ce-4de0-b2a6-3ac1c69b08a1",
   "metadata": {},
   "outputs": [
    {
     "data": {
      "text/plain": [
       "False"
      ]
     },
     "execution_count": 35,
     "metadata": {},
     "output_type": "execute_result"
    }
   ],
   "source": [
    "\"age\" in animal2"
   ]
  },
  {
   "cell_type": "code",
   "execution_count": 37,
   "id": "ab61d77d-e075-431c-8c21-37dcd9968bb6",
   "metadata": {},
   "outputs": [],
   "source": [
    "if \"age\" in animal2:\n",
    "    print(\"La clé 'age' existe pour animal2\")"
   ]
  },
  {
   "cell_type": "code",
   "execution_count": 39,
   "id": "7c18ff9b-bdc6-4c14-904f-6a4b26c0cc31",
   "metadata": {},
   "outputs": [],
   "source": [
    "animal2 = {'nom': 'singe', 'poids': 70, 'taille': 1.75}"
   ]
  },
  {
   "cell_type": "code",
   "execution_count": 41,
   "id": "4cc29a70-5958-4dd9-aaaf-e583a93c10e0",
   "metadata": {},
   "outputs": [
    {
     "data": {
      "text/plain": [
       "dict_values(['singe', 70, 1.75])"
      ]
     },
     "execution_count": 41,
     "metadata": {},
     "output_type": "execute_result"
    }
   ],
   "source": [
    "animal2.values()"
   ]
  },
  {
   "cell_type": "code",
   "execution_count": 43,
   "id": "94b3a147-7ab2-4ecf-b0bf-602138d3227c",
   "metadata": {},
   "outputs": [
    {
     "data": {
      "text/plain": [
       "True"
      ]
     },
     "execution_count": 43,
     "metadata": {},
     "output_type": "execute_result"
    }
   ],
   "source": [
    "\"singe\" in animal2.values()"
   ]
  },
  {
   "cell_type": "code",
   "execution_count": 45,
   "id": "d0d8510f-1f89-4744-aafd-a846cf7c3641",
   "metadata": {},
   "outputs": [],
   "source": [
    "animal2 = {'nom': 'singe', 'poids': 70, 'taille': 1.75}"
   ]
  },
  {
   "cell_type": "code",
   "execution_count": 47,
   "id": "de6c5548-98da-4596-a9e5-318cf4cb63c7",
   "metadata": {},
   "outputs": [
    {
     "ename": "KeyError",
     "evalue": "'age'",
     "output_type": "error",
     "traceback": [
      "\u001b[1;31m---------------------------------------------------------------------------\u001b[0m",
      "\u001b[1;31mKeyError\u001b[0m                                  Traceback (most recent call last)",
      "Cell \u001b[1;32mIn[47], line 1\u001b[0m\n\u001b[1;32m----> 1\u001b[0m \u001b[43manimal2\u001b[49m\u001b[43m[\u001b[49m\u001b[38;5;124;43m\"\u001b[39;49m\u001b[38;5;124;43mage\u001b[39;49m\u001b[38;5;124;43m\"\u001b[39;49m\u001b[43m]\u001b[49m\n",
      "\u001b[1;31mKeyError\u001b[0m: 'age'"
     ]
    }
   ],
   "source": [
    "animal2[\"age\"]"
   ]
  },
  {
   "cell_type": "code",
   "execution_count": 49,
   "id": "0d0a7d58-3452-4d67-8af7-2ed8459d49cb",
   "metadata": {},
   "outputs": [
    {
     "data": {
      "text/plain": [
       "'singe'"
      ]
     },
     "execution_count": 49,
     "metadata": {},
     "output_type": "execute_result"
    }
   ],
   "source": [
    "animal2.get(\"nom\")"
   ]
  },
  {
   "cell_type": "code",
   "execution_count": 51,
   "id": "c6272894-6a29-4a0c-8df2-e70acbc9a8a5",
   "metadata": {},
   "outputs": [],
   "source": [
    "animal2.get(\"age\")"
   ]
  },
  {
   "cell_type": "code",
   "execution_count": 55,
   "id": "1806c35a-12da-4f0b-80d9-65de5b62a566",
   "metadata": {},
   "outputs": [
    {
     "data": {
      "text/plain": [
       "[{'nom': 'girafe', 'taille': 5.0, 'poids': 1100},\n",
       " {'nom': 'singe', 'poids': 70, 'taille': 1.75}]"
      ]
     },
     "execution_count": 55,
     "metadata": {},
     "output_type": "execute_result"
    }
   ],
   "source": [
    "animaux = [animal1, animal2]\n",
    "animaux"
   ]
  },
  {
   "cell_type": "code",
   "execution_count": 57,
   "id": "93ed2db0-2529-46eb-a135-96d91272e1bd",
   "metadata": {},
   "outputs": [
    {
     "name": "stdout",
     "output_type": "stream",
     "text": [
      "girafe\n",
      "singe\n"
     ]
    }
   ],
   "source": [
    "for ani in animaux:\n",
    "    print(ani[\"nom\"])"
   ]
  },
  {
   "cell_type": "code",
   "execution_count": 61,
   "id": "538cc61d-fae0-4193-b9a8-3b302b18bf74",
   "metadata": {},
   "outputs": [
    {
     "name": "stdout",
     "output_type": "stream",
     "text": [
      "(1, 2, 3)\n",
      "<class 'tuple'>\n",
      "3\n",
      "(1, 2)\n"
     ]
    }
   ],
   "source": [
    "tuple1 = (1, 2, 3)\n",
    "print(tuple1)\n",
    "print(type(tuple1))\n",
    "print(tuple1[2])\n",
    "print(tuple1[0:2])"
   ]
  },
  {
   "cell_type": "code",
   "execution_count": 65,
   "id": "83bafb7f-a401-458f-92af-c681fea85b10",
   "metadata": {},
   "outputs": [
    {
     "ename": "TypeError",
     "evalue": "'tuple' object does not support item assignment",
     "output_type": "error",
     "traceback": [
      "\u001b[1;31m---------------------------------------------------------------------------\u001b[0m",
      "\u001b[1;31mTypeError\u001b[0m                                 Traceback (most recent call last)",
      "Cell \u001b[1;32mIn[65], line 1\u001b[0m\n\u001b[1;32m----> 1\u001b[0m \u001b[43mtuple1\u001b[49m\u001b[43m[\u001b[49m\u001b[38;5;241;43m2\u001b[39;49m\u001b[43m]\u001b[49m \u001b[38;5;241m=\u001b[39m \u001b[38;5;241m15\u001b[39m\n",
      "\u001b[1;31mTypeError\u001b[0m: 'tuple' object does not support item assignment"
     ]
    }
   ],
   "source": [
    "tuple1[2] = 15"
   ]
  },
  {
   "cell_type": "code",
   "execution_count": 67,
   "id": "c0066a15-6b9e-4c1b-ae85-f0ed03990ce0",
   "metadata": {},
   "outputs": [
    {
     "name": "stdout",
     "output_type": "stream",
     "text": [
      "(1, 2, 3)\n",
      "(1, 2, 3, 2)\n"
     ]
    }
   ],
   "source": [
    "tuple1 = (1, 2, 3)\n",
    "print(tuple1)\n",
    "tuple1 = tuple1 + (2,)\n",
    "print(tuple1)"
   ]
  },
  {
   "cell_type": "code",
   "execution_count": 69,
   "id": "442b3a10-ff0d-45af-91c6-a24fce5ae0e3",
   "metadata": {},
   "outputs": [
    {
     "name": "stdout",
     "output_type": "stream",
     "text": [
      "(1, 2, 3)\n",
      "(1, 2, 3)\n"
     ]
    }
   ],
   "source": [
    "tuple1 = (1, 2, 3)\n",
    "print(tuple1)\n",
    "tuple1 = 1, 2, 3\n",
    "print(tuple1)"
   ]
  },
  {
   "cell_type": "code",
   "execution_count": 71,
   "id": "e84819a3-eb47-4322-9312-fc6d1952fefe",
   "metadata": {},
   "outputs": [
    {
     "data": {
      "text/plain": [
       "(1, 2, 3, 4)"
      ]
     },
     "execution_count": 71,
     "metadata": {},
     "output_type": "execute_result"
    }
   ],
   "source": [
    "(1, 2) + (3, 4)"
   ]
  },
  {
   "cell_type": "code",
   "execution_count": 73,
   "id": "cc35bf91-86a8-4d34-a397-07d5466bdb2e",
   "metadata": {},
   "outputs": [
    {
     "data": {
      "text/plain": [
       "(1, 2, 1, 2, 1, 2, 1, 2)"
      ]
     },
     "execution_count": 73,
     "metadata": {},
     "output_type": "execute_result"
    }
   ],
   "source": [
    "(1, 2) * 4"
   ]
  },
  {
   "cell_type": "code",
   "execution_count": 75,
   "id": "aa3e16df-f64b-4170-ae3c-0c1d4d7f164f",
   "metadata": {},
   "outputs": [
    {
     "data": {
      "text/plain": [
       "(1, 2, 3)"
      ]
     },
     "execution_count": 75,
     "metadata": {},
     "output_type": "execute_result"
    }
   ],
   "source": [
    "tuple([1, 2, 3])"
   ]
  },
  {
   "cell_type": "code",
   "execution_count": 79,
   "id": "526d22a8-7fca-4226-97e1-2da300026807",
   "metadata": {},
   "outputs": [
    {
     "data": {
      "text/plain": [
       "('A', 'T', 'G', 'C', 'C', 'G', 'C', 'G', 'A', 'T')"
      ]
     },
     "execution_count": 79,
     "metadata": {},
     "output_type": "execute_result"
    }
   ],
   "source": [
    "tuple(\"ATGCCGCGAT\")"
   ]
  },
  {
   "cell_type": "code",
   "execution_count": 81,
   "id": "de888739-1086-42d2-a4fb-d50eddf9f9bb",
   "metadata": {},
   "outputs": [
    {
     "data": {
      "text/plain": [
       "(0, 1, 2, 3, 4)"
      ]
     },
     "execution_count": 81,
     "metadata": {},
     "output_type": "execute_result"
    }
   ],
   "source": [
    "tuple(range(5))"
   ]
  },
  {
   "cell_type": "code",
   "execution_count": 83,
   "id": "46260d80-137f-4ec6-b3ec-cd8538f3c331",
   "metadata": {},
   "outputs": [
    {
     "name": "stdout",
     "output_type": "stream",
     "text": [
      "1\n",
      "2\n",
      "3\n"
     ]
    }
   ],
   "source": [
    "x, y, z = 1, 2, 3\n",
    "print(x)\n",
    "print(y)\n",
    "print(z)"
   ]
  },
  {
   "cell_type": "code",
   "execution_count": 87,
   "id": "07ce311e-7955-40f3-ba8f-3cabf913a628",
   "metadata": {},
   "outputs": [
    {
     "data": {
      "text/plain": [
       "(1, 2, 3)"
      ]
     },
     "execution_count": 87,
     "metadata": {},
     "output_type": "execute_result"
    }
   ],
   "source": [
    "tuple1 = (1, 2, 3)\n",
    "tuple1"
   ]
  },
  {
   "cell_type": "code",
   "execution_count": 89,
   "id": "5d4195ef-2802-4def-860d-3a0b98a0d412",
   "metadata": {},
   "outputs": [
    {
     "data": {
      "text/plain": [
       "1"
      ]
     },
     "execution_count": 89,
     "metadata": {},
     "output_type": "execute_result"
    }
   ],
   "source": [
    "x, y, z = tuple1\n",
    "x"
   ]
  },
  {
   "cell_type": "code",
   "execution_count": 91,
   "id": "aba1e6fd-38b8-4bf1-b7bf-3f3e9dd75608",
   "metadata": {},
   "outputs": [
    {
     "name": "stdout",
     "output_type": "stream",
     "text": [
      "0 75\n",
      "1 -75\n",
      "2 0\n"
     ]
    }
   ],
   "source": [
    "for indice, element in enumerate([75, -75, 0]):\n",
    "    print(indice, element)"
   ]
  },
  {
   "cell_type": "code",
   "execution_count": 93,
   "id": "1c4c1ca8-ed4a-49e0-ba96-74277f117f8c",
   "metadata": {},
   "outputs": [
    {
     "name": "stdout",
     "output_type": "stream",
     "text": [
      "(0, 75) <class 'tuple'>\n",
      "(1, -75) <class 'tuple'>\n",
      "(2, 0) <class 'tuple'>\n"
     ]
    }
   ],
   "source": [
    "for bidule in enumerate([75, -75, 0]):\n",
    "    print(bidule, type(bidule))"
   ]
  },
  {
   "cell_type": "code",
   "execution_count": 95,
   "id": "91c5c711-0eff-4b1b-94aa-7ea17d9a30df",
   "metadata": {},
   "outputs": [
    {
     "name": "stdout",
     "output_type": "stream",
     "text": [
      "pinson 2\n",
      "merle 3\n"
     ]
    }
   ],
   "source": [
    "dico = {\"pinson\": 2, \"merle\": 3}\n",
    "for cle, valeur in dico.items():\n",
    "    print(cle, valeur)"
   ]
  },
  {
   "cell_type": "code",
   "execution_count": 97,
   "id": "05445db0-20c0-4880-8cd1-11aedc00b4ef",
   "metadata": {},
   "outputs": [
    {
     "name": "stdout",
     "output_type": "stream",
     "text": [
      "('pinson', 2) <class 'tuple'>\n",
      "('merle', 3) <class 'tuple'>\n"
     ]
    }
   ],
   "source": [
    "for bidule in dico.items():\n",
    "    print(bidule, type(bidule))"
   ]
  },
  {
   "cell_type": "code",
   "execution_count": 99,
   "id": "7dd19fd5-ddfe-439e-a9f2-a045a6b06a26",
   "metadata": {},
   "outputs": [
    {
     "name": "stdout",
     "output_type": "stream",
     "text": [
      "5 6 7\n",
      "6 7 8\n",
      "7 8 9\n"
     ]
    }
   ],
   "source": [
    "liste = [(5, 6, 7), (6, 7, 8), (7, 8, 9)]\n",
    "for x, y, z in liste:\n",
    "    print(x, y, z)"
   ]
  },
  {
   "cell_type": "code",
   "execution_count": 107,
   "id": "7f8ca8ba-6ac7-45d8-a2b7-a348b9f21071",
   "metadata": {},
   "outputs": [
    {
     "name": "stdout",
     "output_type": "stream",
     "text": [
      "0.75\n",
      "0\n",
      "3\n"
     ]
    },
    {
     "data": {
      "text/plain": [
       "(0, 3)"
      ]
     },
     "execution_count": 107,
     "metadata": {},
     "output_type": "execute_result"
    }
   ],
   "source": [
    "print(3 / 4)\n",
    "print(3 // 4)\n",
    "print(3 % 4)\n",
    "divmod(3, 4)"
   ]
  },
  {
   "cell_type": "code",
   "execution_count": 109,
   "id": "a088e351-6620-4f31-96c5-fa5c08d20eeb",
   "metadata": {},
   "outputs": [
    {
     "name": "stdout",
     "output_type": "stream",
     "text": [
      "0\n",
      "3\n"
     ]
    }
   ],
   "source": [
    "quotient, reste = divmod(3, 4)\n",
    "print(quotient)\n",
    "print(reste)"
   ]
  },
  {
   "cell_type": "code",
   "execution_count": 115,
   "id": "b05d5937-d9c4-4fa2-9faf-231d43d44e16",
   "metadata": {},
   "outputs": [
    {
     "name": "stdout",
     "output_type": "stream",
     "text": [
      "12.566666666666666\n"
     ]
    },
    {
     "data": {
      "text/plain": [
       "(12, 34)"
      ]
     },
     "execution_count": 115,
     "metadata": {},
     "output_type": "execute_result"
    }
   ],
   "source": [
    "print(754 / 60)\n",
    "divmod(754, 60)"
   ]
  },
  {
   "cell_type": "markdown",
   "id": "c23a4567-0b3d-4da4-980e-50e6e6644b32",
   "metadata": {},
   "source": [
    "# 9. Modules"
   ]
  },
  {
   "cell_type": "code",
   "execution_count": 118,
   "id": "0c7b88a7-a22c-401f-8a43-ebfc19993c34",
   "metadata": {},
   "outputs": [],
   "source": [
    "import random"
   ]
  },
  {
   "cell_type": "code",
   "execution_count": 122,
   "id": "69af69b6-ff60-48e1-ac26-c1597eb6bd0e",
   "metadata": {},
   "outputs": [
    {
     "data": {
      "text/plain": [
       "4"
      ]
     },
     "execution_count": 122,
     "metadata": {},
     "output_type": "execute_result"
    }
   ],
   "source": [
    "random.randint(0, 10)"
   ]
  },
  {
   "cell_type": "code",
   "execution_count": 124,
   "id": "c8c1b710-32fd-4bc0-a289-c4cac1419751",
   "metadata": {},
   "outputs": [],
   "source": [
    "import math"
   ]
  },
  {
   "cell_type": "code",
   "execution_count": 126,
   "id": "120a2bf0-5e13-4d8a-a0fb-89ea194bdd54",
   "metadata": {},
   "outputs": [
    {
     "data": {
      "text/plain": [
       "6.123233995736766e-17"
      ]
     },
     "execution_count": 126,
     "metadata": {},
     "output_type": "execute_result"
    }
   ],
   "source": [
    "math.cos(math.pi / 2)"
   ]
  },
  {
   "cell_type": "code",
   "execution_count": 130,
   "id": "45adf5b9-71d0-482e-aefd-d126feb84736",
   "metadata": {},
   "outputs": [
    {
     "data": {
      "text/plain": [
       "1.0"
      ]
     },
     "execution_count": 130,
     "metadata": {},
     "output_type": "execute_result"
    }
   ],
   "source": [
    "math.sin(math.pi / 2)"
   ]
  },
  {
   "cell_type": "code",
   "execution_count": 132,
   "id": "5d9e6820-536c-4ef9-84d3-881cf8abe043",
   "metadata": {},
   "outputs": [],
   "source": [
    "from random import randint"
   ]
  },
  {
   "cell_type": "code",
   "execution_count": 134,
   "id": "9ae5c1db-cfbe-4231-9f75-006f18ec5d5e",
   "metadata": {},
   "outputs": [
    {
     "data": {
      "text/plain": [
       "5"
      ]
     },
     "execution_count": 134,
     "metadata": {},
     "output_type": "execute_result"
    }
   ],
   "source": [
    "randint(0, 10)"
   ]
  },
  {
   "cell_type": "code",
   "execution_count": 136,
   "id": "b073ba11-3a91-4359-8f67-9491437f2197",
   "metadata": {},
   "outputs": [],
   "source": [
    "from random import *"
   ]
  },
  {
   "cell_type": "code",
   "execution_count": 138,
   "id": "9c23ad09-aa55-4b61-821f-ac73b3eb2eba",
   "metadata": {},
   "outputs": [
    {
     "name": "stdout",
     "output_type": "stream",
     "text": [
      "11\n",
      "2.2825660715194402\n"
     ]
    }
   ],
   "source": [
    "print(randint(0, 50))\n",
    "print(uniform(0, 2.5))"
   ]
  },
  {
   "cell_type": "code",
   "execution_count": 140,
   "id": "6793b375-78b3-42b6-ba9a-99db4ce8785b",
   "metadata": {},
   "outputs": [
    {
     "name": "stdout",
     "output_type": "stream",
     "text": [
      "9\n",
      "2.07742218147958\n"
     ]
    }
   ],
   "source": [
    "import random\n",
    "print(random.randint(1, 10))\n",
    "print(random.uniform(1, 3))"
   ]
  },
  {
   "cell_type": "code",
   "execution_count": 142,
   "id": "a9476bf7-3f33-4584-8831-842931021440",
   "metadata": {},
   "outputs": [
    {
     "name": "stdout",
     "output_type": "stream",
     "text": [
      "7\n",
      "2.941677945053497\n"
     ]
    }
   ],
   "source": [
    "import random as rand\n",
    "print(rand.randint(1, 10))\n",
    "print(rand.uniform(1, 3))"
   ]
  },
  {
   "cell_type": "code",
   "execution_count": 144,
   "id": "4c5465bf-7db8-46b6-a3fb-df35198fdbf0",
   "metadata": {},
   "outputs": [
    {
     "name": "stdout",
     "output_type": "stream",
     "text": [
      "3\n",
      "1.1329940588064327\n"
     ]
    },
    {
     "ename": "NameError",
     "evalue": "name 'random' is not defined",
     "output_type": "error",
     "traceback": [
      "\u001b[1;31m---------------------------------------------------------------------------\u001b[0m",
      "\u001b[1;31mNameError\u001b[0m                                 Traceback (most recent call last)",
      "Cell \u001b[1;32mIn[144], line 5\u001b[0m\n\u001b[0;32m      3\u001b[0m \u001b[38;5;28mprint\u001b[39m(random\u001b[38;5;241m.\u001b[39muniform(\u001b[38;5;241m1\u001b[39m, \u001b[38;5;241m3\u001b[39m))\n\u001b[0;32m      4\u001b[0m \u001b[38;5;28;01mdel\u001b[39;00m random\n\u001b[1;32m----> 5\u001b[0m \u001b[38;5;28mprint\u001b[39m(\u001b[43mrandom\u001b[49m\u001b[38;5;241m.\u001b[39mrandint(\u001b[38;5;241m0\u001b[39m, \u001b[38;5;241m10\u001b[39m))\n",
      "\u001b[1;31mNameError\u001b[0m: name 'random' is not defined"
     ]
    }
   ],
   "source": [
    "import random\n",
    "print(random.randint(0, 10))\n",
    "print(random.uniform(1, 3))\n",
    "del random\n",
    "print(random.randint(0, 10))"
   ]
  },
  {
   "cell_type": "code",
   "execution_count": 146,
   "id": "1ec70757-e970-4402-9f5b-4ff119e42c11",
   "metadata": {},
   "outputs": [
    {
     "name": "stdout",
     "output_type": "stream",
     "text": [
      "Help on module random:\n",
      "\n",
      "NAME\n",
      "    random - Random variable generators.\n",
      "\n",
      "MODULE REFERENCE\n",
      "    https://docs.python.org/3.12/library/random.html\n",
      "\n",
      "    The following documentation is automatically generated from the Python\n",
      "    source files.  It may be incomplete, incorrect or include features that\n",
      "    are considered implementation detail and may vary between Python\n",
      "    implementations.  When in doubt, consult the module reference at the\n",
      "    location listed above.\n",
      "\n",
      "DESCRIPTION\n",
      "        bytes\n",
      "        -----\n",
      "               uniform bytes (values between 0 and 255)\n",
      "\n",
      "        integers\n",
      "        --------\n",
      "               uniform within range\n",
      "\n",
      "        sequences\n",
      "        ---------\n",
      "               pick random element\n",
      "               pick random sample\n",
      "               pick weighted random sample\n",
      "               generate random permutation\n",
      "\n",
      "        distributions on the real line:\n",
      "        ------------------------------\n",
      "               uniform\n",
      "               triangular\n",
      "               normal (Gaussian)\n",
      "               lognormal\n",
      "               negative exponential\n",
      "               gamma\n",
      "               beta\n",
      "               pareto\n",
      "               Weibull\n",
      "\n",
      "        distributions on the circle (angles 0 to 2pi)\n",
      "        ---------------------------------------------\n",
      "               circular uniform\n",
      "               von Mises\n",
      "\n",
      "        discrete distributions\n",
      "        ----------------------\n",
      "               binomial\n",
      "\n",
      "\n",
      "    General notes on the underlying Mersenne Twister core generator:\n",
      "\n",
      "    * The period is 2**19937-1.\n",
      "    * It is one of the most extensively tested generators in existence.\n",
      "    * The random() method is implemented in C, executes in a single Python step,\n",
      "      and is, therefore, threadsafe.\n",
      "\n",
      "CLASSES\n",
      "    _random.Random(builtins.object)\n",
      "        Random\n",
      "            SystemRandom\n",
      "\n",
      "    class Random(_random.Random)\n",
      "     |  Random(x=None)\n",
      "     |\n",
      "     |  Random number generator base class used by bound module functions.\n",
      "     |\n",
      "     |  Used to instantiate instances of Random to get generators that don't\n",
      "     |  share state.\n",
      "     |\n",
      "     |  Class Random can also be subclassed if you want to use a different basic\n",
      "     |  generator of your own devising: in that case, override the following\n",
      "     |  methods:  random(), seed(), getstate(), and setstate().\n",
      "     |  Optionally, implement a getrandbits() method so that randrange()\n",
      "     |  can cover arbitrarily large ranges.\n",
      "     |\n",
      "     |  Method resolution order:\n",
      "     |      Random\n",
      "     |      _random.Random\n",
      "     |      builtins.object\n",
      "     |\n",
      "     |  Methods defined here:\n",
      "     |\n",
      "     |  __getstate__(self)\n",
      "     |      Helper for pickle.\n",
      "     |\n",
      "     |  __init__(self, x=None)\n",
      "     |      Initialize an instance.\n",
      "     |\n",
      "     |      Optional argument x controls seeding, as for Random.seed().\n",
      "     |\n",
      "     |  __reduce__(self)\n",
      "     |      Helper for pickle.\n",
      "     |\n",
      "     |  __setstate__(self, state)\n",
      "     |\n",
      "     |  betavariate(self, alpha, beta)\n",
      "     |      Beta distribution.\n",
      "     |\n",
      "     |      Conditions on the parameters are alpha > 0 and beta > 0.\n",
      "     |      Returned values range between 0 and 1.\n",
      "     |\n",
      "     |      The mean (expected value) and variance of the random variable are:\n",
      "     |\n",
      "     |          E[X] = alpha / (alpha + beta)\n",
      "     |          Var[X] = alpha * beta / ((alpha + beta)**2 * (alpha + beta + 1))\n",
      "     |\n",
      "     |  binomialvariate(self, n=1, p=0.5)\n",
      "     |      Binomial random variable.\n",
      "     |\n",
      "     |      Gives the number of successes for *n* independent trials\n",
      "     |      with the probability of success in each trial being *p*:\n",
      "     |\n",
      "     |          sum(random() < p for i in range(n))\n",
      "     |\n",
      "     |      Returns an integer in the range:   0 <= X <= n\n",
      "     |\n",
      "     |      The mean (expected value) and variance of the random variable are:\n",
      "     |\n",
      "     |          E[X] = n * p\n",
      "     |          Var[x] = n * p * (1 - p)\n",
      "     |\n",
      "     |  choice(self, seq)\n",
      "     |      Choose a random element from a non-empty sequence.\n",
      "     |\n",
      "     |  choices(self, population, weights=None, *, cum_weights=None, k=1)\n",
      "     |      Return a k sized list of population elements chosen with replacement.\n",
      "     |\n",
      "     |      If the relative weights or cumulative weights are not specified,\n",
      "     |      the selections are made with equal probability.\n",
      "     |\n",
      "     |  expovariate(self, lambd=1.0)\n",
      "     |      Exponential distribution.\n",
      "     |\n",
      "     |      lambd is 1.0 divided by the desired mean.  It should be\n",
      "     |      nonzero.  (The parameter would be called \"lambda\", but that is\n",
      "     |      a reserved word in Python.)  Returned values range from 0 to\n",
      "     |      positive infinity if lambd is positive, and from negative\n",
      "     |      infinity to 0 if lambd is negative.\n",
      "     |\n",
      "     |      The mean (expected value) and variance of the random variable are:\n",
      "     |\n",
      "     |          E[X] = 1 / lambd\n",
      "     |          Var[X] = 1 / lambd ** 2\n",
      "     |\n",
      "     |  gammavariate(self, alpha, beta)\n",
      "     |      Gamma distribution.  Not the gamma function!\n",
      "     |\n",
      "     |      Conditions on the parameters are alpha > 0 and beta > 0.\n",
      "     |\n",
      "     |      The probability distribution function is:\n",
      "     |\n",
      "     |                  x ** (alpha - 1) * math.exp(-x / beta)\n",
      "     |        pdf(x) =  --------------------------------------\n",
      "     |                    math.gamma(alpha) * beta ** alpha\n",
      "     |\n",
      "     |      The mean (expected value) and variance of the random variable are:\n",
      "     |\n",
      "     |          E[X] = alpha * beta\n",
      "     |          Var[X] = alpha * beta ** 2\n",
      "     |\n",
      "     |  gauss(self, mu=0.0, sigma=1.0)\n",
      "     |      Gaussian distribution.\n",
      "     |\n",
      "     |      mu is the mean, and sigma is the standard deviation.  This is\n",
      "     |      slightly faster than the normalvariate() function.\n",
      "     |\n",
      "     |      Not thread-safe without a lock around calls.\n",
      "     |\n",
      "     |  getstate(self)\n",
      "     |      Return internal state; can be passed to setstate() later.\n",
      "     |\n",
      "     |  lognormvariate(self, mu, sigma)\n",
      "     |      Log normal distribution.\n",
      "     |\n",
      "     |      If you take the natural logarithm of this distribution, you'll get a\n",
      "     |      normal distribution with mean mu and standard deviation sigma.\n",
      "     |      mu can have any value, and sigma must be greater than zero.\n",
      "     |\n",
      "     |  normalvariate(self, mu=0.0, sigma=1.0)\n",
      "     |      Normal distribution.\n",
      "     |\n",
      "     |      mu is the mean, and sigma is the standard deviation.\n",
      "     |\n",
      "     |  paretovariate(self, alpha)\n",
      "     |      Pareto distribution.  alpha is the shape parameter.\n",
      "     |\n",
      "     |  randbytes(self, n)\n",
      "     |      Generate n random bytes.\n",
      "     |\n",
      "     |  randint(self, a, b)\n",
      "     |      Return random integer in range [a, b], including both end points.\n",
      "     |\n",
      "     |  randrange(self, start, stop=None, step=1)\n",
      "     |      Choose a random item from range(stop) or range(start, stop[, step]).\n",
      "     |\n",
      "     |      Roughly equivalent to ``choice(range(start, stop, step))`` but\n",
      "     |      supports arbitrarily large ranges and is optimized for common cases.\n",
      "     |\n",
      "     |  sample(self, population, k, *, counts=None)\n",
      "     |      Chooses k unique random elements from a population sequence.\n",
      "     |\n",
      "     |      Returns a new list containing elements from the population while\n",
      "     |      leaving the original population unchanged.  The resulting list is\n",
      "     |      in selection order so that all sub-slices will also be valid random\n",
      "     |      samples.  This allows raffle winners (the sample) to be partitioned\n",
      "     |      into grand prize and second place winners (the subslices).\n",
      "     |\n",
      "     |      Members of the population need not be hashable or unique.  If the\n",
      "     |      population contains repeats, then each occurrence is a possible\n",
      "     |      selection in the sample.\n",
      "     |\n",
      "     |      Repeated elements can be specified one at a time or with the optional\n",
      "     |      counts parameter.  For example:\n",
      "     |\n",
      "     |          sample(['red', 'blue'], counts=[4, 2], k=5)\n",
      "     |\n",
      "     |      is equivalent to:\n",
      "     |\n",
      "     |          sample(['red', 'red', 'red', 'red', 'blue', 'blue'], k=5)\n",
      "     |\n",
      "     |      To choose a sample from a range of integers, use range() for the\n",
      "     |      population argument.  This is especially fast and space efficient\n",
      "     |      for sampling from a large population:\n",
      "     |\n",
      "     |          sample(range(10000000), 60)\n",
      "     |\n",
      "     |  seed(self, a=None, version=2)\n",
      "     |      Initialize internal state from a seed.\n",
      "     |\n",
      "     |      The only supported seed types are None, int, float,\n",
      "     |      str, bytes, and bytearray.\n",
      "     |\n",
      "     |      None or no argument seeds from current time or from an operating\n",
      "     |      system specific randomness source if available.\n",
      "     |\n",
      "     |      If *a* is an int, all bits are used.\n",
      "     |\n",
      "     |      For version 2 (the default), all of the bits are used if *a* is a str,\n",
      "     |      bytes, or bytearray.  For version 1 (provided for reproducing random\n",
      "     |      sequences from older versions of Python), the algorithm for str and\n",
      "     |      bytes generates a narrower range of seeds.\n",
      "     |\n",
      "     |  setstate(self, state)\n",
      "     |      Restore internal state from object returned by getstate().\n",
      "     |\n",
      "     |  shuffle(self, x)\n",
      "     |      Shuffle list x in place, and return None.\n",
      "     |\n",
      "     |  triangular(self, low=0.0, high=1.0, mode=None)\n",
      "     |      Triangular distribution.\n",
      "     |\n",
      "     |      Continuous distribution bounded by given lower and upper limits,\n",
      "     |      and having a given mode value in-between.\n",
      "     |\n",
      "     |      http://en.wikipedia.org/wiki/Triangular_distribution\n",
      "     |\n",
      "     |      The mean (expected value) and variance of the random variable are:\n",
      "     |\n",
      "     |          E[X] = (low + high + mode) / 3\n",
      "     |          Var[X] = (low**2 + high**2 + mode**2 - low*high - low*mode - high*mode) / 18\n",
      "     |\n",
      "     |  uniform(self, a, b)\n",
      "     |      Get a random number in the range [a, b) or [a, b] depending on rounding.\n",
      "     |\n",
      "     |      The mean (expected value) and variance of the random variable are:\n",
      "     |\n",
      "     |          E[X] = (a + b) / 2\n",
      "     |          Var[X] = (b - a) ** 2 / 12\n",
      "     |\n",
      "     |  vonmisesvariate(self, mu, kappa)\n",
      "     |      Circular data distribution.\n",
      "     |\n",
      "     |      mu is the mean angle, expressed in radians between 0 and 2*pi, and\n",
      "     |      kappa is the concentration parameter, which must be greater than or\n",
      "     |      equal to zero.  If kappa is equal to zero, this distribution reduces\n",
      "     |      to a uniform random angle over the range 0 to 2*pi.\n",
      "     |\n",
      "     |  weibullvariate(self, alpha, beta)\n",
      "     |      Weibull distribution.\n",
      "     |\n",
      "     |      alpha is the scale parameter and beta is the shape parameter.\n",
      "     |\n",
      "     |  ----------------------------------------------------------------------\n",
      "     |  Class methods defined here:\n",
      "     |\n",
      "     |  __init_subclass__(**kwargs)\n",
      "     |      Control how subclasses generate random integers.\n",
      "     |\n",
      "     |      The algorithm a subclass can use depends on the random() and/or\n",
      "     |      getrandbits() implementation available to it and determines\n",
      "     |      whether it can generate random integers from arbitrarily large\n",
      "     |      ranges.\n",
      "     |\n",
      "     |  ----------------------------------------------------------------------\n",
      "     |  Data descriptors defined here:\n",
      "     |\n",
      "     |  __dict__\n",
      "     |      dictionary for instance variables\n",
      "     |\n",
      "     |  __weakref__\n",
      "     |      list of weak references to the object\n",
      "     |\n",
      "     |  ----------------------------------------------------------------------\n",
      "     |  Data and other attributes defined here:\n",
      "     |\n",
      "     |  VERSION = 3\n",
      "     |\n",
      "     |  ----------------------------------------------------------------------\n",
      "     |  Methods inherited from _random.Random:\n",
      "     |\n",
      "     |  getrandbits(self, k, /)\n",
      "     |      getrandbits(k) -> x.  Generates an int with k random bits.\n",
      "     |\n",
      "     |  random(self, /)\n",
      "     |      random() -> x in the interval [0, 1).\n",
      "     |\n",
      "     |  ----------------------------------------------------------------------\n",
      "     |  Static methods inherited from _random.Random:\n",
      "     |\n",
      "     |  __new__(*args, **kwargs) class method of _random.Random\n",
      "     |      Create and return a new object.  See help(type) for accurate signature.\n",
      "\n",
      "    class SystemRandom(Random)\n",
      "     |  SystemRandom(x=None)\n",
      "     |\n",
      "     |  Alternate random number generator using sources provided\n",
      "     |  by the operating system (such as /dev/urandom on Unix or\n",
      "     |  CryptGenRandom on Windows).\n",
      "     |\n",
      "     |   Not available on all systems (see os.urandom() for details).\n",
      "     |\n",
      "     |  Method resolution order:\n",
      "     |      SystemRandom\n",
      "     |      Random\n",
      "     |      _random.Random\n",
      "     |      builtins.object\n",
      "     |\n",
      "     |  Methods defined here:\n",
      "     |\n",
      "     |  getrandbits(self, k)\n",
      "     |      getrandbits(k) -> x.  Generates an int with k random bits.\n",
      "     |\n",
      "     |  getstate = _notimplemented(self, *args, **kwds)\n",
      "     |\n",
      "     |  randbytes(self, n)\n",
      "     |      Generate n random bytes.\n",
      "     |\n",
      "     |  random(self)\n",
      "     |      Get the next random number in the range 0.0 <= X < 1.0.\n",
      "     |\n",
      "     |  seed(self, *args, **kwds)\n",
      "     |      Stub method.  Not used for a system random number generator.\n",
      "     |\n",
      "     |  setstate = _notimplemented(self, *args, **kwds)\n",
      "     |\n",
      "     |  ----------------------------------------------------------------------\n",
      "     |  Methods inherited from Random:\n",
      "     |\n",
      "     |  __getstate__(self)\n",
      "     |      Helper for pickle.\n",
      "     |\n",
      "     |  __init__(self, x=None)\n",
      "     |      Initialize an instance.\n",
      "     |\n",
      "     |      Optional argument x controls seeding, as for Random.seed().\n",
      "     |\n",
      "     |  __reduce__(self)\n",
      "     |      Helper for pickle.\n",
      "     |\n",
      "     |  __setstate__(self, state)\n",
      "     |\n",
      "     |  betavariate(self, alpha, beta)\n",
      "     |      Beta distribution.\n",
      "     |\n",
      "     |      Conditions on the parameters are alpha > 0 and beta > 0.\n",
      "     |      Returned values range between 0 and 1.\n",
      "     |\n",
      "     |      The mean (expected value) and variance of the random variable are:\n",
      "     |\n",
      "     |          E[X] = alpha / (alpha + beta)\n",
      "     |          Var[X] = alpha * beta / ((alpha + beta)**2 * (alpha + beta + 1))\n",
      "     |\n",
      "     |  binomialvariate(self, n=1, p=0.5)\n",
      "     |      Binomial random variable.\n",
      "     |\n",
      "     |      Gives the number of successes for *n* independent trials\n",
      "     |      with the probability of success in each trial being *p*:\n",
      "     |\n",
      "     |          sum(random() < p for i in range(n))\n",
      "     |\n",
      "     |      Returns an integer in the range:   0 <= X <= n\n",
      "     |\n",
      "     |      The mean (expected value) and variance of the random variable are:\n",
      "     |\n",
      "     |          E[X] = n * p\n",
      "     |          Var[x] = n * p * (1 - p)\n",
      "     |\n",
      "     |  choice(self, seq)\n",
      "     |      Choose a random element from a non-empty sequence.\n",
      "     |\n",
      "     |  choices(self, population, weights=None, *, cum_weights=None, k=1)\n",
      "     |      Return a k sized list of population elements chosen with replacement.\n",
      "     |\n",
      "     |      If the relative weights or cumulative weights are not specified,\n",
      "     |      the selections are made with equal probability.\n",
      "     |\n",
      "     |  expovariate(self, lambd=1.0)\n",
      "     |      Exponential distribution.\n",
      "     |\n",
      "     |      lambd is 1.0 divided by the desired mean.  It should be\n",
      "     |      nonzero.  (The parameter would be called \"lambda\", but that is\n",
      "     |      a reserved word in Python.)  Returned values range from 0 to\n",
      "     |      positive infinity if lambd is positive, and from negative\n",
      "     |      infinity to 0 if lambd is negative.\n",
      "     |\n",
      "     |      The mean (expected value) and variance of the random variable are:\n",
      "     |\n",
      "     |          E[X] = 1 / lambd\n",
      "     |          Var[X] = 1 / lambd ** 2\n",
      "     |\n",
      "     |  gammavariate(self, alpha, beta)\n",
      "     |      Gamma distribution.  Not the gamma function!\n",
      "     |\n",
      "     |      Conditions on the parameters are alpha > 0 and beta > 0.\n",
      "     |\n",
      "     |      The probability distribution function is:\n",
      "     |\n",
      "     |                  x ** (alpha - 1) * math.exp(-x / beta)\n",
      "     |        pdf(x) =  --------------------------------------\n",
      "     |                    math.gamma(alpha) * beta ** alpha\n",
      "     |\n",
      "     |      The mean (expected value) and variance of the random variable are:\n",
      "     |\n",
      "     |          E[X] = alpha * beta\n",
      "     |          Var[X] = alpha * beta ** 2\n",
      "     |\n",
      "     |  gauss(self, mu=0.0, sigma=1.0)\n",
      "     |      Gaussian distribution.\n",
      "     |\n",
      "     |      mu is the mean, and sigma is the standard deviation.  This is\n",
      "     |      slightly faster than the normalvariate() function.\n",
      "     |\n",
      "     |      Not thread-safe without a lock around calls.\n",
      "     |\n",
      "     |  lognormvariate(self, mu, sigma)\n",
      "     |      Log normal distribution.\n",
      "     |\n",
      "     |      If you take the natural logarithm of this distribution, you'll get a\n",
      "     |      normal distribution with mean mu and standard deviation sigma.\n",
      "     |      mu can have any value, and sigma must be greater than zero.\n",
      "     |\n",
      "     |  normalvariate(self, mu=0.0, sigma=1.0)\n",
      "     |      Normal distribution.\n",
      "     |\n",
      "     |      mu is the mean, and sigma is the standard deviation.\n",
      "     |\n",
      "     |  paretovariate(self, alpha)\n",
      "     |      Pareto distribution.  alpha is the shape parameter.\n",
      "     |\n",
      "     |  randint(self, a, b)\n",
      "     |      Return random integer in range [a, b], including both end points.\n",
      "     |\n",
      "     |  randrange(self, start, stop=None, step=1)\n",
      "     |      Choose a random item from range(stop) or range(start, stop[, step]).\n",
      "     |\n",
      "     |      Roughly equivalent to ``choice(range(start, stop, step))`` but\n",
      "     |      supports arbitrarily large ranges and is optimized for common cases.\n",
      "     |\n",
      "     |  sample(self, population, k, *, counts=None)\n",
      "     |      Chooses k unique random elements from a population sequence.\n",
      "     |\n",
      "     |      Returns a new list containing elements from the population while\n",
      "     |      leaving the original population unchanged.  The resulting list is\n",
      "     |      in selection order so that all sub-slices will also be valid random\n",
      "     |      samples.  This allows raffle winners (the sample) to be partitioned\n",
      "     |      into grand prize and second place winners (the subslices).\n",
      "     |\n",
      "     |      Members of the population need not be hashable or unique.  If the\n",
      "     |      population contains repeats, then each occurrence is a possible\n",
      "     |      selection in the sample.\n",
      "     |\n",
      "     |      Repeated elements can be specified one at a time or with the optional\n",
      "     |      counts parameter.  For example:\n",
      "     |\n",
      "     |          sample(['red', 'blue'], counts=[4, 2], k=5)\n",
      "     |\n",
      "     |      is equivalent to:\n",
      "     |\n",
      "     |          sample(['red', 'red', 'red', 'red', 'blue', 'blue'], k=5)\n",
      "     |\n",
      "     |      To choose a sample from a range of integers, use range() for the\n",
      "     |      population argument.  This is especially fast and space efficient\n",
      "     |      for sampling from a large population:\n",
      "     |\n",
      "     |          sample(range(10000000), 60)\n",
      "     |\n",
      "     |  shuffle(self, x)\n",
      "     |      Shuffle list x in place, and return None.\n",
      "     |\n",
      "     |  triangular(self, low=0.0, high=1.0, mode=None)\n",
      "     |      Triangular distribution.\n",
      "     |\n",
      "     |      Continuous distribution bounded by given lower and upper limits,\n",
      "     |      and having a given mode value in-between.\n",
      "     |\n",
      "     |      http://en.wikipedia.org/wiki/Triangular_distribution\n",
      "     |\n",
      "     |      The mean (expected value) and variance of the random variable are:\n",
      "     |\n",
      "     |          E[X] = (low + high + mode) / 3\n",
      "     |          Var[X] = (low**2 + high**2 + mode**2 - low*high - low*mode - high*mode) / 18\n",
      "     |\n",
      "     |  uniform(self, a, b)\n",
      "     |      Get a random number in the range [a, b) or [a, b] depending on rounding.\n",
      "     |\n",
      "     |      The mean (expected value) and variance of the random variable are:\n",
      "     |\n",
      "     |          E[X] = (a + b) / 2\n",
      "     |          Var[X] = (b - a) ** 2 / 12\n",
      "     |\n",
      "     |  vonmisesvariate(self, mu, kappa)\n",
      "     |      Circular data distribution.\n",
      "     |\n",
      "     |      mu is the mean angle, expressed in radians between 0 and 2*pi, and\n",
      "     |      kappa is the concentration parameter, which must be greater than or\n",
      "     |      equal to zero.  If kappa is equal to zero, this distribution reduces\n",
      "     |      to a uniform random angle over the range 0 to 2*pi.\n",
      "     |\n",
      "     |  weibullvariate(self, alpha, beta)\n",
      "     |      Weibull distribution.\n",
      "     |\n",
      "     |      alpha is the scale parameter and beta is the shape parameter.\n",
      "     |\n",
      "     |  ----------------------------------------------------------------------\n",
      "     |  Class methods inherited from Random:\n",
      "     |\n",
      "     |  __init_subclass__(**kwargs)\n",
      "     |      Control how subclasses generate random integers.\n",
      "     |\n",
      "     |      The algorithm a subclass can use depends on the random() and/or\n",
      "     |      getrandbits() implementation available to it and determines\n",
      "     |      whether it can generate random integers from arbitrarily large\n",
      "     |      ranges.\n",
      "     |\n",
      "     |  ----------------------------------------------------------------------\n",
      "     |  Data descriptors inherited from Random:\n",
      "     |\n",
      "     |  __dict__\n",
      "     |      dictionary for instance variables\n",
      "     |\n",
      "     |  __weakref__\n",
      "     |      list of weak references to the object\n",
      "     |\n",
      "     |  ----------------------------------------------------------------------\n",
      "     |  Data and other attributes inherited from Random:\n",
      "     |\n",
      "     |  VERSION = 3\n",
      "     |\n",
      "     |  ----------------------------------------------------------------------\n",
      "     |  Static methods inherited from _random.Random:\n",
      "     |\n",
      "     |  __new__(*args, **kwargs) class method of _random.Random\n",
      "     |      Create and return a new object.  See help(type) for accurate signature.\n",
      "\n",
      "FUNCTIONS\n",
      "    betavariate(alpha, beta) method of Random instance\n",
      "        Beta distribution.\n",
      "\n",
      "        Conditions on the parameters are alpha > 0 and beta > 0.\n",
      "        Returned values range between 0 and 1.\n",
      "\n",
      "        The mean (expected value) and variance of the random variable are:\n",
      "\n",
      "            E[X] = alpha / (alpha + beta)\n",
      "            Var[X] = alpha * beta / ((alpha + beta)**2 * (alpha + beta + 1))\n",
      "\n",
      "    binomialvariate(n=1, p=0.5) method of Random instance\n",
      "        Binomial random variable.\n",
      "\n",
      "        Gives the number of successes for *n* independent trials\n",
      "        with the probability of success in each trial being *p*:\n",
      "\n",
      "            sum(random() < p for i in range(n))\n",
      "\n",
      "        Returns an integer in the range:   0 <= X <= n\n",
      "\n",
      "        The mean (expected value) and variance of the random variable are:\n",
      "\n",
      "            E[X] = n * p\n",
      "            Var[x] = n * p * (1 - p)\n",
      "\n",
      "    choice(seq) method of Random instance\n",
      "        Choose a random element from a non-empty sequence.\n",
      "\n",
      "    choices(population, weights=None, *, cum_weights=None, k=1) method of Random instance\n",
      "        Return a k sized list of population elements chosen with replacement.\n",
      "\n",
      "        If the relative weights or cumulative weights are not specified,\n",
      "        the selections are made with equal probability.\n",
      "\n",
      "    expovariate(lambd=1.0) method of Random instance\n",
      "        Exponential distribution.\n",
      "\n",
      "        lambd is 1.0 divided by the desired mean.  It should be\n",
      "        nonzero.  (The parameter would be called \"lambda\", but that is\n",
      "        a reserved word in Python.)  Returned values range from 0 to\n",
      "        positive infinity if lambd is positive, and from negative\n",
      "        infinity to 0 if lambd is negative.\n",
      "\n",
      "        The mean (expected value) and variance of the random variable are:\n",
      "\n",
      "            E[X] = 1 / lambd\n",
      "            Var[X] = 1 / lambd ** 2\n",
      "\n",
      "    gammavariate(alpha, beta) method of Random instance\n",
      "        Gamma distribution.  Not the gamma function!\n",
      "\n",
      "        Conditions on the parameters are alpha > 0 and beta > 0.\n",
      "\n",
      "        The probability distribution function is:\n",
      "\n",
      "                    x ** (alpha - 1) * math.exp(-x / beta)\n",
      "          pdf(x) =  --------------------------------------\n",
      "                      math.gamma(alpha) * beta ** alpha\n",
      "\n",
      "        The mean (expected value) and variance of the random variable are:\n",
      "\n",
      "            E[X] = alpha * beta\n",
      "            Var[X] = alpha * beta ** 2\n",
      "\n",
      "    gauss(mu=0.0, sigma=1.0) method of Random instance\n",
      "        Gaussian distribution.\n",
      "\n",
      "        mu is the mean, and sigma is the standard deviation.  This is\n",
      "        slightly faster than the normalvariate() function.\n",
      "\n",
      "        Not thread-safe without a lock around calls.\n",
      "\n",
      "    getrandbits(k, /) method of Random instance\n",
      "        getrandbits(k) -> x.  Generates an int with k random bits.\n",
      "\n",
      "    getstate() method of Random instance\n",
      "        Return internal state; can be passed to setstate() later.\n",
      "\n",
      "    lognormvariate(mu, sigma) method of Random instance\n",
      "        Log normal distribution.\n",
      "\n",
      "        If you take the natural logarithm of this distribution, you'll get a\n",
      "        normal distribution with mean mu and standard deviation sigma.\n",
      "        mu can have any value, and sigma must be greater than zero.\n",
      "\n",
      "    normalvariate(mu=0.0, sigma=1.0) method of Random instance\n",
      "        Normal distribution.\n",
      "\n",
      "        mu is the mean, and sigma is the standard deviation.\n",
      "\n",
      "    paretovariate(alpha) method of Random instance\n",
      "        Pareto distribution.  alpha is the shape parameter.\n",
      "\n",
      "    randbytes(n) method of Random instance\n",
      "        Generate n random bytes.\n",
      "\n",
      "    randint(a, b) method of Random instance\n",
      "        Return random integer in range [a, b], including both end points.\n",
      "\n",
      "    random() method of Random instance\n",
      "        random() -> x in the interval [0, 1).\n",
      "\n",
      "    randrange(start, stop=None, step=1) method of Random instance\n",
      "        Choose a random item from range(stop) or range(start, stop[, step]).\n",
      "\n",
      "        Roughly equivalent to ``choice(range(start, stop, step))`` but\n",
      "        supports arbitrarily large ranges and is optimized for common cases.\n",
      "\n",
      "    sample(population, k, *, counts=None) method of Random instance\n",
      "        Chooses k unique random elements from a population sequence.\n",
      "\n",
      "        Returns a new list containing elements from the population while\n",
      "        leaving the original population unchanged.  The resulting list is\n",
      "        in selection order so that all sub-slices will also be valid random\n",
      "        samples.  This allows raffle winners (the sample) to be partitioned\n",
      "        into grand prize and second place winners (the subslices).\n",
      "\n",
      "        Members of the population need not be hashable or unique.  If the\n",
      "        population contains repeats, then each occurrence is a possible\n",
      "        selection in the sample.\n",
      "\n",
      "        Repeated elements can be specified one at a time or with the optional\n",
      "        counts parameter.  For example:\n",
      "\n",
      "            sample(['red', 'blue'], counts=[4, 2], k=5)\n",
      "\n",
      "        is equivalent to:\n",
      "\n",
      "            sample(['red', 'red', 'red', 'red', 'blue', 'blue'], k=5)\n",
      "\n",
      "        To choose a sample from a range of integers, use range() for the\n",
      "        population argument.  This is especially fast and space efficient\n",
      "        for sampling from a large population:\n",
      "\n",
      "            sample(range(10000000), 60)\n",
      "\n",
      "    seed(a=None, version=2) method of Random instance\n",
      "        Initialize internal state from a seed.\n",
      "\n",
      "        The only supported seed types are None, int, float,\n",
      "        str, bytes, and bytearray.\n",
      "\n",
      "        None or no argument seeds from current time or from an operating\n",
      "        system specific randomness source if available.\n",
      "\n",
      "        If *a* is an int, all bits are used.\n",
      "\n",
      "        For version 2 (the default), all of the bits are used if *a* is a str,\n",
      "        bytes, or bytearray.  For version 1 (provided for reproducing random\n",
      "        sequences from older versions of Python), the algorithm for str and\n",
      "        bytes generates a narrower range of seeds.\n",
      "\n",
      "    setstate(state) method of Random instance\n",
      "        Restore internal state from object returned by getstate().\n",
      "\n",
      "    shuffle(x) method of Random instance\n",
      "        Shuffle list x in place, and return None.\n",
      "\n",
      "    triangular(low=0.0, high=1.0, mode=None) method of Random instance\n",
      "        Triangular distribution.\n",
      "\n",
      "        Continuous distribution bounded by given lower and upper limits,\n",
      "        and having a given mode value in-between.\n",
      "\n",
      "        http://en.wikipedia.org/wiki/Triangular_distribution\n",
      "\n",
      "        The mean (expected value) and variance of the random variable are:\n",
      "\n",
      "            E[X] = (low + high + mode) / 3\n",
      "            Var[X] = (low**2 + high**2 + mode**2 - low*high - low*mode - high*mode) / 18\n",
      "\n",
      "    uniform(a, b) method of Random instance\n",
      "        Get a random number in the range [a, b) or [a, b] depending on rounding.\n",
      "\n",
      "        The mean (expected value) and variance of the random variable are:\n",
      "\n",
      "            E[X] = (a + b) / 2\n",
      "            Var[X] = (b - a) ** 2 / 12\n",
      "\n",
      "    vonmisesvariate(mu, kappa) method of Random instance\n",
      "        Circular data distribution.\n",
      "\n",
      "        mu is the mean angle, expressed in radians between 0 and 2*pi, and\n",
      "        kappa is the concentration parameter, which must be greater than or\n",
      "        equal to zero.  If kappa is equal to zero, this distribution reduces\n",
      "        to a uniform random angle over the range 0 to 2*pi.\n",
      "\n",
      "    weibullvariate(alpha, beta) method of Random instance\n",
      "        Weibull distribution.\n",
      "\n",
      "        alpha is the scale parameter and beta is the shape parameter.\n",
      "\n",
      "DATA\n",
      "    __all__ = ['Random', 'SystemRandom', 'betavariate', 'binomialvariate',...\n",
      "\n",
      "FILE\n",
      "    c:\\users\\jkitt\\appdata\\local\\anaconda3\\lib\\random.py\n",
      "\n",
      "\n"
     ]
    }
   ],
   "source": [
    "import random\n",
    "help(random)"
   ]
  },
  {
   "cell_type": "code",
   "execution_count": 148,
   "id": "c038ee4c-20bb-4a07-8378-3877e8232377",
   "metadata": {},
   "outputs": [
    {
     "name": "stdout",
     "output_type": "stream",
     "text": [
      "Help on list object:\n",
      "\n",
      "class list(object)\n",
      " |  list(iterable=(), /)\n",
      " |\n",
      " |  Built-in mutable sequence.\n",
      " |\n",
      " |  If no argument is given, the constructor creates a new empty list.\n",
      " |  The argument must be an iterable if specified.\n",
      " |\n",
      " |  Methods defined here:\n",
      " |\n",
      " |  __add__(self, value, /)\n",
      " |      Return self+value.\n",
      " |\n",
      " |  __contains__(self, key, /)\n",
      " |      Return bool(key in self).\n",
      " |\n",
      " |  __delitem__(self, key, /)\n",
      " |      Delete self[key].\n",
      " |\n",
      " |  __eq__(self, value, /)\n",
      " |      Return self==value.\n",
      " |\n",
      " |  __ge__(self, value, /)\n",
      " |      Return self>=value.\n",
      " |\n",
      " |  __getattribute__(self, name, /)\n",
      " |      Return getattr(self, name).\n",
      " |\n",
      " |  __getitem__(self, index, /)\n",
      " |      Return self[index].\n",
      " |\n",
      " |  __gt__(self, value, /)\n",
      " |      Return self>value.\n",
      " |\n",
      " |  __iadd__(self, value, /)\n",
      " |      Implement self+=value.\n",
      " |\n",
      " |  __imul__(self, value, /)\n",
      " |      Implement self*=value.\n",
      " |\n",
      " |  __init__(self, /, *args, **kwargs)\n",
      " |      Initialize self.  See help(type(self)) for accurate signature.\n",
      " |\n",
      " |  __iter__(self, /)\n",
      " |      Implement iter(self).\n",
      " |\n",
      " |  __le__(self, value, /)\n",
      " |      Return self<=value.\n",
      " |\n",
      " |  __len__(self, /)\n",
      " |      Return len(self).\n",
      " |\n",
      " |  __lt__(self, value, /)\n",
      " |      Return self<value.\n",
      " |\n",
      " |  __mul__(self, value, /)\n",
      " |      Return self*value.\n",
      " |\n",
      " |  __ne__(self, value, /)\n",
      " |      Return self!=value.\n",
      " |\n",
      " |  __repr__(self, /)\n",
      " |      Return repr(self).\n",
      " |\n",
      " |  __reversed__(self, /)\n",
      " |      Return a reverse iterator over the list.\n",
      " |\n",
      " |  __rmul__(self, value, /)\n",
      " |      Return value*self.\n",
      " |\n",
      " |  __setitem__(self, key, value, /)\n",
      " |      Set self[key] to value.\n",
      " |\n",
      " |  __sizeof__(self, /)\n",
      " |      Return the size of the list in memory, in bytes.\n",
      " |\n",
      " |  append(self, object, /)\n",
      " |      Append object to the end of the list.\n",
      " |\n",
      " |  clear(self, /)\n",
      " |      Remove all items from list.\n",
      " |\n",
      " |  copy(self, /)\n",
      " |      Return a shallow copy of the list.\n",
      " |\n",
      " |  count(self, value, /)\n",
      " |      Return number of occurrences of value.\n",
      " |\n",
      " |  extend(self, iterable, /)\n",
      " |      Extend list by appending elements from the iterable.\n",
      " |\n",
      " |  index(self, value, start=0, stop=9223372036854775807, /)\n",
      " |      Return first index of value.\n",
      " |\n",
      " |      Raises ValueError if the value is not present.\n",
      " |\n",
      " |  insert(self, index, object, /)\n",
      " |      Insert object before index.\n",
      " |\n",
      " |  pop(self, index=-1, /)\n",
      " |      Remove and return item at index (default last).\n",
      " |\n",
      " |      Raises IndexError if list is empty or index is out of range.\n",
      " |\n",
      " |  remove(self, value, /)\n",
      " |      Remove first occurrence of value.\n",
      " |\n",
      " |      Raises ValueError if the value is not present.\n",
      " |\n",
      " |  reverse(self, /)\n",
      " |      Reverse *IN PLACE*.\n",
      " |\n",
      " |  sort(self, /, *, key=None, reverse=False)\n",
      " |      Sort the list in ascending order and return None.\n",
      " |\n",
      " |      The sort is in-place (i.e. the list itself is modified) and stable (i.e. the\n",
      " |      order of two equal elements is maintained).\n",
      " |\n",
      " |      If a key function is given, apply it once to each list item and sort them,\n",
      " |      ascending or descending, according to their function values.\n",
      " |\n",
      " |      The reverse flag can be set to sort in descending order.\n",
      " |\n",
      " |  ----------------------------------------------------------------------\n",
      " |  Class methods defined here:\n",
      " |\n",
      " |  __class_getitem__(...)\n",
      " |      See PEP 585\n",
      " |\n",
      " |  ----------------------------------------------------------------------\n",
      " |  Static methods defined here:\n",
      " |\n",
      " |  __new__(*args, **kwargs)\n",
      " |      Create and return a new object.  See help(type) for accurate signature.\n",
      " |\n",
      " |  ----------------------------------------------------------------------\n",
      " |  Data and other attributes defined here:\n",
      " |\n",
      " |  __hash__ = None\n",
      "\n"
     ]
    }
   ],
   "source": [
    "t = [1, 2, 3]\n",
    "help(t)"
   ]
  },
  {
   "cell_type": "code",
   "execution_count": 150,
   "id": "73e32964-e00b-43e5-bdcc-97b6270b1fc9",
   "metadata": {},
   "outputs": [
    {
     "data": {
      "text/plain": [
       "['BPF',\n",
       " 'LOG4',\n",
       " 'NV_MAGICCONST',\n",
       " 'RECIP_BPF',\n",
       " 'Random',\n",
       " 'SG_MAGICCONST',\n",
       " 'SystemRandom',\n",
       " 'TWOPI',\n",
       " '_ONE',\n",
       " '_Sequence',\n",
       " '__all__',\n",
       " '__builtins__',\n",
       " '__cached__',\n",
       " '__doc__',\n",
       " '__file__',\n",
       " '__loader__',\n",
       " '__name__',\n",
       " '__package__',\n",
       " '__spec__',\n",
       " '_accumulate',\n",
       " '_acos',\n",
       " '_bisect',\n",
       " '_ceil',\n",
       " '_cos',\n",
       " '_e',\n",
       " '_exp',\n",
       " '_fabs',\n",
       " '_floor',\n",
       " '_index',\n",
       " '_inst',\n",
       " '_isfinite',\n",
       " '_lgamma',\n",
       " '_log',\n",
       " '_log2',\n",
       " '_os',\n",
       " '_pi',\n",
       " '_random',\n",
       " '_repeat',\n",
       " '_sha512',\n",
       " '_sin',\n",
       " '_sqrt',\n",
       " '_test',\n",
       " '_test_generator',\n",
       " '_urandom',\n",
       " '_warn',\n",
       " 'betavariate',\n",
       " 'binomialvariate',\n",
       " 'choice',\n",
       " 'choices',\n",
       " 'expovariate',\n",
       " 'gammavariate',\n",
       " 'gauss',\n",
       " 'getrandbits',\n",
       " 'getstate',\n",
       " 'lognormvariate',\n",
       " 'normalvariate',\n",
       " 'paretovariate',\n",
       " 'randbytes',\n",
       " 'randint',\n",
       " 'random',\n",
       " 'randrange',\n",
       " 'sample',\n",
       " 'seed',\n",
       " 'setstate',\n",
       " 'shuffle',\n",
       " 'triangular',\n",
       " 'uniform',\n",
       " 'vonmisesvariate',\n",
       " 'weibullvariate']"
      ]
     },
     "execution_count": 150,
     "metadata": {},
     "output_type": "execute_result"
    }
   ],
   "source": [
    "import random\n",
    "dir(random)"
   ]
  },
  {
   "cell_type": "code",
   "execution_count": 158,
   "id": "40b1bba4-d742-448f-9d44-6c0b4adef13f",
   "metadata": {},
   "outputs": [
    {
     "name": "stdout",
     "output_type": "stream",
     "text": [
      "6\n",
      "2\n",
      "9.2383038647156\n",
      "1.6088239872987808\n"
     ]
    }
   ],
   "source": [
    "import random\n",
    "print(random.randint(0, 10))\n",
    "print(random.randint(0, 10))\n",
    "print(random.uniform(0, 10))\n",
    "print(random.uniform(0, 10))"
   ]
  },
  {
   "cell_type": "code",
   "execution_count": 166,
   "id": "4d22da7c-0f9f-40ec-b02f-3ab15565db1a",
   "metadata": {},
   "outputs": [
    {
     "data": {
      "text/plain": [
       "[2, 4, 3, 1]"
      ]
     },
     "execution_count": 166,
     "metadata": {},
     "output_type": "execute_result"
    }
   ],
   "source": [
    "x = [1, 2, 3, 4]\n",
    "random.shuffle(x)\n",
    "x"
   ]
  },
  {
   "cell_type": "code",
   "execution_count": 178,
   "id": "49f0657a-1616-4e20-a16a-ed81fb9665d6",
   "metadata": {},
   "outputs": [
    {
     "name": "stdout",
     "output_type": "stream",
     "text": [
      "A\n",
      "['A', 'T', 'A', 'G', 'C']\n",
      "['A', 'A', 'A', 'C', 'G', 'T', 'C', 'C', 'C', 'C']\n"
     ]
    }
   ],
   "source": [
    "bases = [\"A\", \"T\", \"C\", \"G\"]\n",
    "print(random.choice(bases))\n",
    "print(random.choices(bases, k = 5))\n",
    "print(random.choices(bases, k = 10))"
   ]
  },
  {
   "cell_type": "code",
   "execution_count": 186,
   "id": "efacb8eb-8afa-4fad-89b6-fcc4c8faafb3",
   "metadata": {},
   "outputs": [
    {
     "name": "stdout",
     "output_type": "stream",
     "text": [
      "10\n",
      "1\n",
      "0\n"
     ]
    }
   ],
   "source": [
    "random.seed(42)\n",
    "print(random.randint(0, 10))\n",
    "print(random.randint(0, 10))\n",
    "print(random.randint(0, 10))"
   ]
  },
  {
   "cell_type": "code",
   "execution_count": 194,
   "id": "9a1d223c-9044-4bcd-a39d-988e24224efd",
   "metadata": {},
   "outputs": [
    {
     "name": "stdout",
     "output_type": "stream",
     "text": [
      "['test.py', 'salut', 'girafe', '42']\n"
     ]
    }
   ],
   "source": [
    "%run test.py salut girafe 42"
   ]
  },
  {
   "cell_type": "code",
   "execution_count": 196,
   "id": "01ca3a52-2fe6-4f9a-8ee4-9e39cb533943",
   "metadata": {},
   "outputs": [
    {
     "ename": "SystemExit",
     "evalue": "ERREUR : il faut exactement un argument.",
     "output_type": "error",
     "traceback": [
      "An exception has occurred, use %tb to see the full traceback.\n",
      "\u001b[1;31mSystemExit\u001b[0m\u001b[1;31m:\u001b[0m ERREUR : il faut exactement un argument.\n"
     ]
    }
   ],
   "source": [
    "%run test.py"
   ]
  },
  {
   "cell_type": "code",
   "execution_count": 198,
   "id": "5ca58ebe-c453-4b44-9dba-9e43dda468e0",
   "metadata": {},
   "outputs": [
    {
     "name": "stdout",
     "output_type": "stream",
     "text": [
      "Argument vaut : 42\n"
     ]
    }
   ],
   "source": [
    "%run test.py 42"
   ]
  },
  {
   "cell_type": "code",
   "execution_count": 202,
   "id": "8beb474d-d5e3-4922-af32-df76e3a6ea33",
   "metadata": {},
   "outputs": [
    {
     "ename": "SystemExit",
     "evalue": "ERREUR : il faut exactement un argument.",
     "output_type": "error",
     "traceback": [
      "An exception has occurred, use %tb to see the full traceback.\n",
      "\u001b[1;31mSystemExit\u001b[0m\u001b[1;31m:\u001b[0m ERREUR : il faut exactement un argument.\n"
     ]
    }
   ],
   "source": [
    "%run test.py 42 salut"
   ]
  },
  {
   "cell_type": "code",
   "execution_count": 204,
   "id": "e4d6c8d6-d9e5-437b-ab90-9766191071fa",
   "metadata": {},
   "outputs": [
    {
     "ename": "SystemExit",
     "evalue": "ERREUR : il faut exactement un argument.",
     "output_type": "error",
     "traceback": [
      "An exception has occurred, use %tb to see the full traceback.\n",
      "\u001b[1;31mSystemExit\u001b[0m\u001b[1;31m:\u001b[0m ERREUR : il faut exactement un argument.\n"
     ]
    }
   ],
   "source": [
    "%run compte_lignes.py"
   ]
  },
  {
   "cell_type": "code",
   "execution_count": 206,
   "id": "4ebfe8f6-18e3-43fe-9ae1-937c139f9e11",
   "metadata": {},
   "outputs": [
    {
     "name": "stdout",
     "output_type": "stream",
     "text": [
      "animaux.txt contient 4 lignes.\n"
     ]
    }
   ],
   "source": [
    "%run compte_lignes.py animaux.txt"
   ]
  },
  {
   "cell_type": "code",
   "execution_count": 208,
   "id": "85c6be48-f5b2-4542-9e7d-2cace8e48b40",
   "metadata": {},
   "outputs": [
    {
     "name": "stdout",
     "output_type": "stream",
     "text": [
      "animaux2.txt contient 4 lignes.\n"
     ]
    }
   ],
   "source": [
    "%run compte_lignes.py animaux2.txt"
   ]
  },
  {
   "cell_type": "code",
   "execution_count": 210,
   "id": "dfbfe953-4dab-49be-98c7-15d829b3abe4",
   "metadata": {},
   "outputs": [
    {
     "ename": "SystemExit",
     "evalue": "ERREUR : il faut exactement un argument.",
     "output_type": "error",
     "traceback": [
      "An exception has occurred, use %tb to see the full traceback.\n",
      "\u001b[1;31mSystemExit\u001b[0m\u001b[1;31m:\u001b[0m ERREUR : il faut exactement un argument.\n"
     ]
    }
   ],
   "source": [
    "%run compte_lignes.py animaux.txt animaux2.txt"
   ]
  },
  {
   "cell_type": "code",
   "execution_count": 212,
   "id": "6203c899-8c28-44b9-a365-508142547248",
   "metadata": {},
   "outputs": [
    {
     "ename": "FileNotFoundError",
     "evalue": "[Errno 2] No such file or directory: 'animaux3.txt'",
     "output_type": "error",
     "traceback": [
      "\u001b[1;31m---------------------------------------------------------------------------\u001b[0m",
      "\u001b[1;31mFileNotFoundError\u001b[0m                         Traceback (most recent call last)",
      "File \u001b[1;32m~\\03-CODING\\02-PYTHON\\compte_lignes.py:8\u001b[0m\n\u001b[0;32m      6\u001b[0m nom_fichier \u001b[38;5;241m=\u001b[39m sys\u001b[38;5;241m.\u001b[39margv[\u001b[38;5;241m1\u001b[39m]\n\u001b[0;32m      7\u001b[0m taille \u001b[38;5;241m=\u001b[39m \u001b[38;5;241m0\u001b[39m\n\u001b[1;32m----> 8\u001b[0m \u001b[38;5;28;01mwith\u001b[39;00m \u001b[38;5;28;43mopen\u001b[39;49m\u001b[43m(\u001b[49m\u001b[43mnom_fichier\u001b[49m\u001b[43m,\u001b[49m\u001b[43m \u001b[49m\u001b[38;5;124;43m\"\u001b[39;49m\u001b[38;5;124;43mr\u001b[39;49m\u001b[38;5;124;43m\"\u001b[39;49m\u001b[43m)\u001b[49m \u001b[38;5;28;01mas\u001b[39;00m f_in:\n\u001b[0;32m      9\u001b[0m     taille \u001b[38;5;241m=\u001b[39m \u001b[38;5;28mlen\u001b[39m(f_in\u001b[38;5;241m.\u001b[39mreadlines())\n\u001b[0;32m     11\u001b[0m \u001b[38;5;28mprint\u001b[39m(\u001b[38;5;124mf\u001b[39m\u001b[38;5;124m\"\u001b[39m\u001b[38;5;132;01m{\u001b[39;00mnom_fichier\u001b[38;5;132;01m}\u001b[39;00m\u001b[38;5;124m contient \u001b[39m\u001b[38;5;132;01m{\u001b[39;00mtaille\u001b[38;5;132;01m}\u001b[39;00m\u001b[38;5;124m lignes.\u001b[39m\u001b[38;5;124m\"\u001b[39m)\n",
      "\u001b[1;31mFileNotFoundError\u001b[0m: [Errno 2] No such file or directory: 'animaux3.txt'"
     ]
    }
   ],
   "source": [
    "%run compte_lignes.py animaux3.txt"
   ]
  },
  {
   "cell_type": "code",
   "execution_count": 216,
   "id": "7f618f27-076c-4404-a44d-d8dca3f06edf",
   "metadata": {},
   "outputs": [],
   "source": [
    "from pathlib import Path"
   ]
  },
  {
   "cell_type": "code",
   "execution_count": 218,
   "id": "c7939269-de28-4385-b607-11eb148c37c5",
   "metadata": {},
   "outputs": [
    {
     "ename": "SystemExit",
     "evalue": "Le fichier est absent",
     "output_type": "error",
     "traceback": [
      "An exception has occurred, use %tb to see the full traceback.\n",
      "\u001b[1;31mSystemExit\u001b[0m\u001b[1;31m:\u001b[0m Le fichier est absent\n"
     ]
    },
    {
     "name": "stderr",
     "output_type": "stream",
     "text": [
      "C:\\Users\\jkitt\\AppData\\Roaming\\Python\\Python312\\site-packages\\IPython\\core\\interactiveshell.py:3585: UserWarning: To exit: use 'exit', 'quit', or Ctrl-D.\n",
      "  warn(\"To exit: use 'exit', 'quit', or Ctrl-D.\", stacklevel=1)\n"
     ]
    }
   ],
   "source": [
    "import sys\n",
    "from pathlib import Path\n",
    "if Path(\"toto.pdb\").exists():\n",
    "    print(\"Le fichier est present\")\n",
    "else:\n",
    "    sys.exit(\"Le fichier est absent\")"
   ]
  },
  {
   "cell_type": "code",
   "execution_count": 220,
   "id": "030f2f5f-1800-4290-b93e-6e659380f76c",
   "metadata": {},
   "outputs": [
    {
     "data": {
      "text/plain": [
       "WindowsPath('C:/Users/jkitt/03-CODING/02-PYTHON')"
      ]
     },
     "execution_count": 220,
     "metadata": {},
     "output_type": "execute_result"
    }
   ],
   "source": [
    "from pathlib import Path\n",
    "Path().cwd()"
   ]
  },
  {
   "cell_type": "code",
   "execution_count": 222,
   "id": "a0d25dd9-6a70-46d5-a732-a539c9b7cf25",
   "metadata": {},
   "outputs": [
    {
     "data": {
      "text/plain": [
       "'C:\\\\Users\\\\jkitt\\\\03-CODING\\\\02-PYTHON'"
      ]
     },
     "execution_count": 222,
     "metadata": {},
     "output_type": "execute_result"
    }
   ],
   "source": [
    "str(Path().cwd())"
   ]
  },
  {
   "cell_type": "code",
   "execution_count": 224,
   "id": "f77ad489-9f15-44dd-a37d-2583aae58617",
   "metadata": {},
   "outputs": [
    {
     "data": {
      "text/plain": [
       "WindowsPath('C:/Users/jkitt/03-CODING/02-PYTHON')"
      ]
     },
     "execution_count": 224,
     "metadata": {},
     "output_type": "execute_result"
    }
   ],
   "source": [
    "Path().cwd()"
   ]
  },
  {
   "cell_type": "code",
   "execution_count": 226,
   "id": "c83d33f6-f93f-451e-a0c5-a34e8b004be9",
   "metadata": {},
   "outputs": [
    {
     "data": {
      "text/plain": [
       "'02-PYTHON'"
      ]
     },
     "execution_count": 226,
     "metadata": {},
     "output_type": "execute_result"
    }
   ],
   "source": [
    "Path().cwd().name"
   ]
  },
  {
   "cell_type": "code",
   "execution_count": 228,
   "id": "925d1cad-5aa5-46b9-9f58-7788c6dcdea0",
   "metadata": {},
   "outputs": [
    {
     "data": {
      "text/plain": [
       "WindowsPath('C:/Users/jkitt/03-CODING')"
      ]
     },
     "execution_count": 228,
     "metadata": {},
     "output_type": "execute_result"
    }
   ],
   "source": [
    "Path().cwd().parent"
   ]
  },
  {
   "cell_type": "code",
   "execution_count": 230,
   "id": "ecd7478f-1993-4977-828f-3684eaa94d9c",
   "metadata": {},
   "outputs": [
    {
     "data": {
      "text/plain": [
       "[WindowsPath('.git'),\n",
       " WindowsPath('.gitignore'),\n",
       " WindowsPath('.ipynb_checkpoints'),\n",
       " WindowsPath('.Rhistory'),\n",
       " WindowsPath('.Rproj.user'),\n",
       " WindowsPath('02-PYTHON.Rproj'),\n",
       " WindowsPath('animaux.txt'),\n",
       " WindowsPath('animaux2.txt'),\n",
       " WindowsPath('A_WHIRLWIND_TOUR_OF_PYTHON.ipynb'),\n",
       " WindowsPath('compte_lignes.py'),\n",
       " WindowsPath('COURS_DE_PYTHON.ipynb'),\n",
       " WindowsPath('notes.txt'),\n",
       " WindowsPath('percGC.py'),\n",
       " WindowsPath('PYTHON_AS_FAST_AS_POSSIBLE.ipynb'),\n",
       " WindowsPath('PYTHON_DATA_SCIENCE_HANDBOOK.ipynb'),\n",
       " WindowsPath('PYTORCH_FOR_DEEP_LEARNING_AND_MACHINE_LEARNING.ipynb'),\n",
       " WindowsPath('test.py'),\n",
       " WindowsPath('THE_COMPLETE_PYTHON_COURSE_FOR_BEGINNERS.ipynb')]"
      ]
     },
     "execution_count": 230,
     "metadata": {},
     "output_type": "execute_result"
    }
   ],
   "source": [
    "list(Path().iterdir())"
   ]
  },
  {
   "cell_type": "code",
   "execution_count": 232,
   "id": "c18a95f4-a068-402c-9063-a9d2977ff591",
   "metadata": {},
   "outputs": [
    {
     "name": "stdout",
     "output_type": "stream",
     "text": [
      ".git n'est pas un fichier\n",
      ".gitignore est un fichier\n",
      ".ipynb_checkpoints n'est pas un fichier\n",
      ".Rhistory est un fichier\n",
      ".Rproj.user n'est pas un fichier\n",
      "02-PYTHON.Rproj est un fichier\n",
      "animaux.txt est un fichier\n",
      "animaux2.txt est un fichier\n",
      "A_WHIRLWIND_TOUR_OF_PYTHON.ipynb est un fichier\n",
      "compte_lignes.py est un fichier\n",
      "COURS_DE_PYTHON.ipynb est un fichier\n",
      "notes.txt est un fichier\n",
      "percGC.py est un fichier\n",
      "PYTHON_AS_FAST_AS_POSSIBLE.ipynb est un fichier\n",
      "PYTHON_DATA_SCIENCE_HANDBOOK.ipynb est un fichier\n",
      "PYTORCH_FOR_DEEP_LEARNING_AND_MACHINE_LEARNING.ipynb est un fichier\n",
      "test.py est un fichier\n",
      "THE_COMPLETE_PYTHON_COURSE_FOR_BEGINNERS.ipynb est un fichier\n"
     ]
    }
   ],
   "source": [
    "for nom in Path().iterdir():\n",
    "    if nom.is_file():\n",
    "        print(f\"{nom} est un fichier\")\n",
    "    else:\n",
    "        print(f\"{nom} n'est pas un fichier\")"
   ]
  },
  {
   "cell_type": "code",
   "execution_count": 234,
   "id": "87c20e69-7799-408b-a15f-cd02c5bebd49",
   "metadata": {},
   "outputs": [
    {
     "name": "stdout",
     "output_type": "stream",
     "text": [
      "compte_lignes.py\n",
      "percGC.py\n",
      "test.py\n",
      ".ipynb_checkpoints\\percGC-checkpoint.py\n",
      ".ipynb_checkpoints\\test-checkpoint.py\n"
     ]
    }
   ],
   "source": [
    "for nom in Path().glob(\"**/*.py\"):\n",
    "    print(f\"{nom}\")"
   ]
  },
  {
   "cell_type": "markdown",
   "id": "32ce820d-b721-4e60-8da1-d722aa3fb3c3",
   "metadata": {},
   "source": [
    "# 10. Fonctions"
   ]
  },
  {
   "cell_type": "code",
   "execution_count": 239,
   "id": "13e8eef5-a48f-4688-927b-81527f46ef04",
   "metadata": {},
   "outputs": [
    {
     "data": {
      "text/plain": [
       "3"
      ]
     },
     "execution_count": 239,
     "metadata": {},
     "output_type": "execute_result"
    }
   ],
   "source": [
    "len([0, 1, 2])"
   ]
  }
 ],
 "metadata": {
  "kernelspec": {
   "display_name": "Python 3 (ipykernel)",
   "language": "python",
   "name": "python3"
  },
  "language_info": {
   "codemirror_mode": {
    "name": "ipython",
    "version": 3
   },
   "file_extension": ".py",
   "mimetype": "text/x-python",
   "name": "python",
   "nbconvert_exporter": "python",
   "pygments_lexer": "ipython3",
   "version": "3.12.4"
  }
 },
 "nbformat": 4,
 "nbformat_minor": 5
}
