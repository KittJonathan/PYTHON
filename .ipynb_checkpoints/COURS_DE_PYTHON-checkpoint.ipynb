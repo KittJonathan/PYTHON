{
 "cells": [
  {
   "cell_type": "markdown",
   "id": "57167d7a-37ed-495d-aca8-06090a3f82fa",
   "metadata": {},
   "source": [
    "Prise de notes a partir du livre en ligne https://python.sdv.u-paris.fr/"
   ]
  }
 ],
 "metadata": {
  "kernelspec": {
   "display_name": "Python 3 (ipykernel)",
   "language": "python",
   "name": "python3"
  },
  "language_info": {
   "codemirror_mode": {
    "name": "ipython",
    "version": 3
   },
   "file_extension": ".py",
   "mimetype": "text/x-python",
   "name": "python",
   "nbconvert_exporter": "python",
   "pygments_lexer": "ipython3",
   "version": "3.12.4"
  }
 },
 "nbformat": 4,
 "nbformat_minor": 5
}
