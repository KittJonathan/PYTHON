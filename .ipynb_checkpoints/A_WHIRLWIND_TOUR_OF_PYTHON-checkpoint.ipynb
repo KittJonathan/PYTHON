{
 "cells": [
  {
   "cell_type": "markdown",
   "id": "b903a71b-01c8-4427-b317-b946a7cc6e54",
   "metadata": {},
   "source": [
    "# Introduction"
   ]
  },
  {
   "cell_type": "code",
   "execution_count": 2,
   "id": "e5ab7516-1984-4d01-adc1-4f3e18d893f0",
   "metadata": {},
   "outputs": [
    {
     "name": "stdout",
     "output_type": "stream",
     "text": [
      "The Zen of Python, by Tim Peters\n",
      "\n",
      "Beautiful is better than ugly.\n",
      "Explicit is better than implicit.\n",
      "Simple is better than complex.\n",
      "Complex is better than complicated.\n",
      "Flat is better than nested.\n",
      "Sparse is better than dense.\n",
      "Readability counts.\n",
      "Special cases aren't special enough to break the rules.\n",
      "Although practicality beats purity.\n",
      "Errors should never pass silently.\n",
      "Unless explicitly silenced.\n",
      "In the face of ambiguity, refuse the temptation to guess.\n",
      "There should be one-- and preferably only one --obvious way to do it.\n",
      "Although that way may not be obvious at first unless you're Dutch.\n",
      "Now is better than never.\n",
      "Although never is often better than *right* now.\n",
      "If the implementation is hard to explain, it's a bad idea.\n",
      "If the implementation is easy to explain, it may be a good idea.\n",
      "Namespaces are one honking great idea -- let's do more of those!\n"
     ]
    }
   ],
   "source": [
    "import  this"
   ]
  },
  {
   "cell_type": "markdown",
   "id": "ae2ec692-8b31-4321-95a2-25e2adf08ac7",
   "metadata": {},
   "source": [
    "# How to run Python code"
   ]
  },
  {
   "cell_type": "code",
   "execution_count": 9,
   "id": "42a64293-d9a1-4571-a885-b3308f3aa21b",
   "metadata": {},
   "outputs": [
    {
     "data": {
      "text/plain": [
       "2"
      ]
     },
     "execution_count": 9,
     "metadata": {},
     "output_type": "execute_result"
    }
   ],
   "source": [
    "1 + 1"
   ]
  },
  {
   "cell_type": "code",
   "execution_count": 11,
   "id": "923115d6-c133-41ed-a080-8ff9b074f4c9",
   "metadata": {},
   "outputs": [
    {
     "data": {
      "text/plain": [
       "15"
      ]
     },
     "execution_count": 11,
     "metadata": {},
     "output_type": "execute_result"
    }
   ],
   "source": [
    "x = 5\n",
    "x * 3"
   ]
  },
  {
   "cell_type": "code",
   "execution_count": 25,
   "id": "a897f747-7c49-4173-b553-850d5de60ad6",
   "metadata": {},
   "outputs": [
    {
     "name": "stdout",
     "output_type": "stream",
     "text": [
      "Running test.py\n",
      "Result is 15\n"
     ]
    }
   ],
   "source": [
    "%run test.py"
   ]
  },
  {
   "cell_type": "markdown",
   "id": "5810f5cd-7ade-46d7-abcb-5bb3bce61645",
   "metadata": {},
   "source": [
    "# Basic Python syntax"
   ]
  },
  {
   "cell_type": "code",
   "execution_count": 30,
   "id": "1dc961f3-09cf-46bb-945c-263365a7cf63",
   "metadata": {},
   "outputs": [
    {
     "name": "stdout",
     "output_type": "stream",
     "text": [
      "lower: [0, 1, 2, 3, 4]\n",
      "upper: [5, 6, 7, 8, 9]\n"
     ]
    }
   ],
   "source": [
    "# set the midpoint\n",
    "midpoint = 5\n",
    "\n",
    "# make two empty lists\n",
    "lower = []; upper = []\n",
    "\n",
    "# split the numbers into lower and upper\n",
    "for i in range(10):\n",
    "    if (i < midpoint):\n",
    "        lower.append(i)\n",
    "    else:\n",
    "        upper.append(i)\n",
    "\n",
    "print(\"lower:\", lower)\n",
    "print(\"upper:\", upper)"
   ]
  },
  {
   "cell_type": "markdown",
   "id": "bdf8274f-bce5-4b4d-ad02-3788ff62d093",
   "metadata": {},
   "source": [
    "## Comments are marked by '#'"
   ]
  },
  {
   "cell_type": "code",
   "execution_count": null,
   "id": "78a6365a-8e22-4b6b-a2b8-3280514075c1",
   "metadata": {},
   "outputs": [],
   "source": [
    "# set the midpoint"
   ]
  },
  {
   "cell_type": "code",
   "execution_count": 34,
   "id": "f4ef25d1-5baa-4b7a-bf68-43bcdda06259",
   "metadata": {},
   "outputs": [],
   "source": [
    "x += 2 # shorthand for x = x + 2"
   ]
  },
  {
   "cell_type": "markdown",
   "id": "38b60015-efef-4353-8aac-704da434aef9",
   "metadata": {},
   "source": [
    "## End-of-line terminates a statement"
   ]
  },
  {
   "cell_type": "code",
   "execution_count": 37,
   "id": "2a2a254d-af79-4807-9a3a-0166c10b83a9",
   "metadata": {},
   "outputs": [],
   "source": [
    "midpoint = 5"
   ]
  },
  {
   "cell_type": "markdown",
   "id": "5c8be223-ee1b-4827-be86-4c2116140629",
   "metadata": {},
   "source": [
    "If we'd like a statement to continue to the next line, it is possible to use the '\\\\' marker :"
   ]
  },
  {
   "cell_type": "code",
   "execution_count": 45,
   "id": "ef77a595-53d1-4dfc-b7ae-5c8aad360613",
   "metadata": {},
   "outputs": [],
   "source": [
    "x = 1 + 2 + 3 + 4 +\\\n",
    "    5 + 6 + 7 + 8"
   ]
  },
  {
   "cell_type": "markdown",
   "id": "f92da7b5-f24a-40ff-a1da-cf7b9bb5fb15",
   "metadata": {},
   "source": [
    "It is also possible to continue expressions on the next line within parentheses, without using the '\\\\' marker :"
   ]
  },
  {
   "cell_type": "code",
   "execution_count": 48,
   "id": "0edb8516-c5aa-41b7-9816-714d6159f93d",
   "metadata": {},
   "outputs": [],
   "source": [
    "x = (1 + 2 + 3 + 4 +\n",
    "     5 + 6 + 7 + 8)"
   ]
  }
 ],
 "metadata": {
  "kernelspec": {
   "display_name": "Python 3 (ipykernel)",
   "language": "python",
   "name": "python3"
  },
  "language_info": {
   "codemirror_mode": {
    "name": "ipython",
    "version": 3
   },
   "file_extension": ".py",
   "mimetype": "text/x-python",
   "name": "python",
   "nbconvert_exporter": "python",
   "pygments_lexer": "ipython3",
   "version": "3.12.4"
  }
 },
 "nbformat": 4,
 "nbformat_minor": 5
}
